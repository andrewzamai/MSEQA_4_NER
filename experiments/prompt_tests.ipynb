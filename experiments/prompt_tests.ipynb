{
 "cells": [
  {
   "cell_type": "code",
   "execution_count": 1,
   "metadata": {},
   "outputs": [],
   "source": [
    "import os\n",
    "import json\n",
    "\n",
    "import openai\n",
    "from openai import OpenAI\n",
    "from dotenv import load_dotenv\n",
    "import tiktoken\n",
    "\n",
    "\n",
    "import sys\n",
    "sys.path.append(\"/Users/andrew/ExpertAI/MSEQA_for_NER/src/MSEQA_4_NER\")\n",
    "from data_handlers import data_handler_pileNER"
   ]
  },
  {
   "cell_type": "code",
   "execution_count": 2,
   "metadata": {},
   "outputs": [
    {
     "data": {
      "text/plain": [
       "True"
      ]
     },
     "execution_count": 2,
     "metadata": {},
     "output_type": "execute_result"
    }
   ],
   "source": [
    "# Load API key from .env\n",
    "load_dotenv('./.env')"
   ]
  },
  {
   "cell_type": "code",
   "execution_count": 3,
   "metadata": {},
   "outputs": [
    {
     "name": "stdout",
     "output_type": "stream",
     "text": [
      "True\n"
     ]
    }
   ],
   "source": [
    "print(os.environ.get('OPENAI_API_KEY') is not None)"
   ]
  },
  {
   "cell_type": "code",
   "execution_count": 4,
   "metadata": {},
   "outputs": [],
   "source": [
    "client = OpenAI()"
   ]
  },
  {
   "cell_type": "code",
   "execution_count": 5,
   "metadata": {},
   "outputs": [],
   "source": [
    "gpt_model = \"gpt-3.5-turbo-1106\""
   ]
  },
  {
   "cell_type": "code",
   "execution_count": 6,
   "metadata": {},
   "outputs": [
    {
     "name": "stdout",
     "output_type": "stream",
     "text": [
      "NE types which number of occurrences is > 100:\n",
      "455\n",
      "['person', 'organization', 'location', 'concept', 'product', 'variable', 'date', 'medical condition', 'object', 'technology', 'chemical', 'software', 'event', 'number', 'disease', 'attribute', 'protein', 'group', 'material', 'measurement', 'other', 'function', 'entity type', 'nationality', 'country', 'class', 'process', 'title', 'animal', 'component', 'condition', 'substance', 'food', 'city', 'activity', 'type', 'company', 'time', 'method', 'property', 'organism', 'drug', 'medical procedure', 'treatment', 'profession', 'cell type', 'anatomical structure', 'job title', 'data', 'quantity', 'sports team', 'biological process', 'data type', 'programming language', 'occupation', 'file', 'body part', 'medical treatment', 'language', 'chemical compound', 'entity', 'gene', 'state', 'law', 'action', 'website', 'library', 'facility', 'publication', 'tool', 'field of study', 'compound', 'document', 'organ', 'abbreviation', 'character', 'brand', 'device', 'operating system', 'service', 'technique', 'miscellaneous', 'species', 'symptom', 'task', 'category', 'parameter', 'movie', 'molecule', 'political party', 'procedure', 'sport', 'equipment', 'team', 'biological entity', 'book', 'region', 'medical test', 'anatomical_structure', 'anatomy', 'module', 'hardware', 'place', 'characteristic', 'plant', 'biomolecule', 'field', 'award', 'tv show', 'gender', 'feature', 'program', 'enzyme', 'structure', 'phenomenon', 'industry', 'license', 'ethnicity', 'system', 'value', 'age', 'time period', 'element', 'topic', 'color', 'unit', 'virus', 'religion', 'sports league', 'band', 'vehicle', 'ingredient', 'media', 'factor', 'tissue', 'crime', 'village', 'year', 'demographic', 'medical equipment', 'namespace', 'skill', 'anatomical entity', 'model', 'position', 'medical concept', 'song', 'video game', 'test', 'data structure', 'album', 'string', 'part', 'medical term', 'package', 'org', 'command', 'building', 'currency', 'noun', 'cell', 'medical device', 'trait', 'age group', 'county', 'invention', 'column', 'url', 'outcome', 'family', 'html tag', 'database', 'business', 'study', 'author', 'text', 'information', 'cell line', 'genus', 'letter', 'patent', 'application', 'physical quantity', 'item', 'duration', 'programming concept', 'constant', 'cryptocurrency', 'tag', 'protocol', 'medication', 'educational institution', 'version', 'resource', 'film', 'policy', 'quality', 'particle', 'directory', 'subject', 'cellular component', 'project', 'work of art', 'town', 'table', 'research', 'hormone', 'legal', 'genre', 'problem', 'file format', 'province', 'disorder', 'acronym', 'biological', 'genetic variation', 'issue', 'instrument', 'biological_process', 'ordinal', 'statistic', 'import', 'framework', 'clothing', 'financial', 'district', 'fictional character', 'body_part', 'education', 'competition', 'nutrient', 'government', 'behavior', 'weapon', 'apparatus', 'emotion', 'general', 'demonym', 'interface', 'money', 'communication', 'group of people', 'keyword', 'adjective', 'game', 'court', 'amino acid', 'misc', 'transportation', 'medical facility', 'gpe', 'term', 'signal', 'effect', 'legal term', 'email', 'actor', 'identifier', 'degree', 'culture', 'platform', 'format', 'shape', 'algorithm', 'entity type not specified', 'image', 'cell component', 'planet', 'physical object', 'bacteria', 'music genre', 'gene/protein', 'restaurant', 'surname', 'direction', 'css property', 'machine', 'therapy', 'code', 'legal citation', 'name', 'html element', 'integer', 'deity', 'sports event', 'people', 'measure', 'plant part', 'error', 'medical_condition', 'reference', 'symbol', 'holiday', 'artist', 'population', 'mutation', 'source', 'department', 'section', 'medical', 'health condition', 'chemical substance', 'furniture', 'metric', 'folder', 'percentage', 'tv series', 'address', 'river', 'weather', 'aspect', 'school', 'continent', 'biomarker', 'season', 'medical measurement', 'cardinal', 'physical property', 'course', 'size', 'work_of_art', 'mathematical concept', 'role', 'legal document', 'cytokine', 'legal case', 'relationship', 'musical instrument', 'cause', 'microorganism', 'energy', 'medium', 'commodity', 'university', 'configuration', 'work', 'list', 'data format', 'status', 'network', 'file type', 'tournament', 'living organism', 'venue', 'art', 'contact', 'unknown', 'governmental body', 'pronoun', 'geopolitical entity', 'anatomicalstructure', 'musical group', 'biological molecule', 'newspaper', 'natural disaster', 'landmark', 'government body', 'scientific concept', 'radio station', 'norp', 'tv network', 'geographic location', 'dish', 'unit of measurement', 'job', 'road', 'operation', 'environment', 'ship', 'celestial body', 'patient', 'strain', 'street', 'setting', 'style', 'job_title', 'agreement', 'option', 'magazine', 'file name', 'marker', 'header file', 'creative work', 'appliance', 'religious group', 'user interface element', 'domain', 'related art', 'creature', 'league', 'ability', 'mechanism', 'user', 'month', 'design', 'government agency', 'boolean', 'journal', 'governmental organization', 'entertainment', 'verb', 'bacterium', 'register', 'sequence', 'specific', 'methodology', 'military unit', 'municipality', 'struct', 'set', 'figure', 'label', 'township', 'pattern', 'idea', 'real estate', 'ethnic group', 'artifact', 'organisation', 'social group', 'html attribute', 'chemical_substance', 'room', 'aircraft', 'biological sample', 'financial term', 'metabolite', 'highway', 'medicalcondition', 'antibody', 'music group', 'political group', 'operator', 'description', 'race', 'store', 'stage', 'brain region', 'body fluid', 'container', 'mineral', 'ui element', 'nickname', 'athlete', 'patient group', 'neighborhood', 'electronic device', 'route', 'protein domain', 'science', 'beverage', 'standard', 'hotel', 'club', 'fieldterminology']\n"
     ]
    }
   ],
   "source": [
    "with open(\"../data_handlers/questions/ne_types_list.json\", 'r') as file:\n",
    "        ne_types_list = json.load(file)\n",
    "\n",
    "print(\"NE types which number of occurrences is > 100:\")\n",
    "print(len(ne_types_list))\n",
    "print(ne_types_list)"
   ]
  },
  {
   "cell_type": "code",
   "execution_count": 7,
   "metadata": {},
   "outputs": [],
   "source": [
    "with open(\"../data_handlers/questions/sentences_per_ne_type.json\", 'r') as file:\n",
    "    sentences_per_ne_type = json.load(file)"
   ]
  },
  {
   "cell_type": "code",
   "execution_count": 8,
   "metadata": {},
   "outputs": [
    {
     "name": "stdout",
     "output_type": "stream",
     "text": [
      "Given a Named Entity and some exemplary sentences in input, provide, concisely, both a definition and warnings about what should not be labelled for this Named Entity. Here is the input: 'Named Entity': location, 'exemplary sentences': \"Hastings\" and \"England\" are \"location\" in the sentence \"Turret Clockmakers Thwaites & Reed Ltd Hastings England\".\"; \"New York\" is \"location\" in the sentence \"\"Patti Smith\" came to New York at the age of nineteen, determined to become someone.\"; \"Time Out London\" is \"location\" in the sentence \"Talking with Time Out London last week, though, she reportedly revealed that's not the case.\"; Output in JSON format: {{\"Definition\": \"\", \"Do not label\": \"\"}}. Limit response to 50 tokens.\n"
     ]
    }
   ],
   "source": [
    "ne_type = 'location'\n",
    "ex_sentences = sentences_per_ne_type[ne_type]\n",
    "prompt = data_handler_pileNER.generate_prompt(ne_type, ex_sentences)\n",
    "\n",
    "print(prompt)"
   ]
  },
  {
   "cell_type": "code",
   "execution_count": 18,
   "metadata": {},
   "outputs": [],
   "source": [
    "system_message = \"You are a helpful NER data annotator designed to output JSON in at most 50 tokens.\"\n",
    "user_message = prompt"
   ]
  },
  {
   "cell_type": "code",
   "execution_count": 19,
   "metadata": {},
   "outputs": [],
   "source": [
    "def num_tokens_from_messages(messages, model=\"gpt-3.5-turbo-1106\"):\n",
    "    \"\"\"Return the number of tokens used by a list of messages.\"\"\"\n",
    "    try:\n",
    "        encoding = tiktoken.encoding_for_model(model)\n",
    "    except KeyError:\n",
    "        print(\"Warning: model not found. Using cl100k_base encoding.\")\n",
    "        encoding = tiktoken.get_encoding(\"cl100k_base\")\n",
    "    if model in {\n",
    "        \"gpt-3.5-turbo-0613\",\n",
    "        \"gpt-3.5-turbo-16k-0613\",\n",
    "        \"gpt-4-0314\",\n",
    "        \"gpt-4-32k-0314\",\n",
    "        \"gpt-4-0613\",\n",
    "        \"gpt-4-32k-0613\",\n",
    "        }:\n",
    "        tokens_per_message = 3\n",
    "        tokens_per_name = 1\n",
    "    elif model == \"gpt-3.5-turbo-0301\":\n",
    "        tokens_per_message = 4  # every message follows <|start|>{role/name}\\n{content}<|end|>\\n\n",
    "        tokens_per_name = -1  # if there's a name, the role is omitted\n",
    "    elif \"gpt-3.5-turbo\" in model:\n",
    "        print(\"Warning: gpt-3.5-turbo may update over time. Returning num tokens assuming gpt-3.5-turbo-0613.\")\n",
    "        return num_tokens_from_messages(messages, model=\"gpt-3.5-turbo-0613\")\n",
    "    elif \"gpt-4\" in model:\n",
    "        print(\"Warning: gpt-4 may update over time. Returning num tokens assuming gpt-4-0613.\")\n",
    "        return num_tokens_from_messages(messages, model=\"gpt-4-0613\")\n",
    "    else:\n",
    "        raise NotImplementedError(\n",
    "            f\"\"\"num_tokens_from_messages() is not implemented for model {model}. See https://github.com/openai/openai-python/blob/main/chatml.md for information on how messages are converted to tokens.\"\"\"\n",
    "        )\n",
    "    num_tokens = 0\n",
    "    for message in messages:\n",
    "        num_tokens += tokens_per_message\n",
    "        for key, value in message.items():\n",
    "            num_tokens += len(encoding.encode(value))\n",
    "            if key == \"name\":\n",
    "                num_tokens += tokens_per_name\n",
    "    num_tokens += 3  # every reply is primed with <|start|>assistant<|message|>\n",
    "    return num_tokens"
   ]
  },
  {
   "cell_type": "code",
   "execution_count": 20,
   "metadata": {},
   "outputs": [],
   "source": [
    "messages_to_send = [\n",
    "    {\n",
    "        \"role\": \"system\",\n",
    "        \"content\": system_message\n",
    "    },\n",
    "    {\n",
    "        \"role\": \"user\",\n",
    "        \"content\": user_message\n",
    "    }\n",
    "]"
   ]
  },
  {
   "cell_type": "code",
   "execution_count": 21,
   "metadata": {},
   "outputs": [
    {
     "name": "stdout",
     "output_type": "stream",
     "text": [
      "Warning: gpt-3.5-turbo may update over time. Returning num tokens assuming gpt-3.5-turbo-0613.\n",
      "200\n"
     ]
    }
   ],
   "source": [
    "n_input_tokens = num_tokens_from_messages(messages_to_send, gpt_model)\n",
    "print(n_input_tokens)"
   ]
  },
  {
   "cell_type": "code",
   "execution_count": 22,
   "metadata": {},
   "outputs": [],
   "source": [
    "completion = client.chat.completions.create(\n",
    "    messages=messages_to_send,\n",
    "    model=gpt_model,\n",
    "    max_tokens=75,\n",
    "    response_format={ \"type\": \"json_object\" }\n",
    ")"
   ]
  },
  {
   "cell_type": "code",
   "execution_count": 14,
   "metadata": {},
   "outputs": [
    {
     "name": "stdout",
     "output_type": "stream",
     "text": [
      "ChatCompletion(id='chatcmpl-8VGjJdtskCdqKvLo0X4Ll2KigiUMx', choices=[Choice(finish_reason='stop', index=0, message=ChatCompletionMessage(content='{\\n  \"Definition\": \"An element refers to a substance made up of atoms with the same number of protons, identified by its atomic number.\",\\n  \"Do not label\": \"Non-elemental concepts, compounds, mixtures, and non-specific entity references like \\'quantity of\\' or \\'amount of\\'.\"\\n}', role='assistant', function_call=None, tool_calls=None))], created=1702463169, model='gpt-3.5-turbo-1106', object='chat.completion', system_fingerprint='fp_f3efa6edfc', usage=CompletionUsage(completion_tokens=64, prompt_tokens=220, total_tokens=284))\n",
      "CompletionUsage(completion_tokens=64, prompt_tokens=220, total_tokens=284)\n"
     ]
    }
   ],
   "source": [
    "print(completion)\n",
    "print(completion.usage)"
   ]
  },
  {
   "cell_type": "code",
   "execution_count": 15,
   "metadata": {},
   "outputs": [
    {
     "name": "stdout",
     "output_type": "stream",
     "text": [
      "Choice(finish_reason='stop', index=0, message=ChatCompletionMessage(content='{\\n  \"Definition\": \"An element refers to a substance made up of atoms with the same number of protons, identified by its atomic number.\",\\n  \"Do not label\": \"Non-elemental concepts, compounds, mixtures, and non-specific entity references like \\'quantity of\\' or \\'amount of\\'.\"\\n}', role='assistant', function_call=None, tool_calls=None))\n"
     ]
    }
   ],
   "source": [
    "choice = completion.choices[0]\n",
    "print(choice)"
   ]
  },
  {
   "cell_type": "code",
   "execution_count": 16,
   "metadata": {},
   "outputs": [
    {
     "name": "stdout",
     "output_type": "stream",
     "text": [
      "finish_reason: stop\n",
      "assistant\n",
      "{\n",
      "  \"Definition\": \"An element refers to a substance made up of atoms with the same number of protons, identified by its atomic number.\",\n",
      "  \"Do not label\": \"Non-elemental concepts, compounds, mixtures, and non-specific entity references like 'quantity of' or 'amount of'.\"\n",
      "}\n"
     ]
    }
   ],
   "source": [
    "finish_reason = choice.finish_reason\n",
    "print(f\"finish_reason: {finish_reason}\")\n",
    "\n",
    "message = choice.message\n",
    "print(message.role)\n",
    "print(message.content)"
   ]
  },
  {
   "cell_type": "code",
   "execution_count": 24,
   "metadata": {},
   "outputs": [
    {
     "name": "stdout",
     "output_type": "stream",
     "text": [
      "CompletionUsage(completion_tokens=59, prompt_tokens=200, total_tokens=259)\n",
      "Choice(finish_reason='stop', index=0, message=ChatCompletionMessage(content='{\\n  \"Definition\": \"A location refers to a specific place or position on the Earth\\'s surface, often with a name that identifies it uniquely.\",\\n  \"Do not label\": \"Generic terms like \\'here\\', \\'there\\', or \\'somewhere\\' should not be labeled as locations.\"\\n}', role='assistant', function_call=None, tool_calls=None))\n",
      "finish_reason: stop\n",
      "assistant\n",
      "{\n",
      "  \"Definition\": \"A location refers to a specific place or position on the Earth's surface, often with a name that identifies it uniquely.\",\n",
      "  \"Do not label\": \"Generic terms like 'here', 'there', or 'somewhere' should not be labeled as locations.\"\n",
      "}\n"
     ]
    }
   ],
   "source": [
    "choice = completion.choices[0]\n",
    "print(completion.usage)\n",
    "print(choice)\n",
    "finish_reason = choice.finish_reason\n",
    "print(f\"finish_reason: {finish_reason}\")\n",
    "\n",
    "message = choice.message\n",
    "print(message.role)\n",
    "print(message.content)"
   ]
  }
 ],
 "metadata": {
  "kernelspec": {
   "display_name": "Python 3",
   "language": "python",
   "name": "python3"
  },
  "language_info": {
   "codemirror_mode": {
    "name": "ipython",
    "version": 3
   },
   "file_extension": ".py",
   "mimetype": "text/x-python",
   "name": "python",
   "nbconvert_exporter": "python",
   "pygments_lexer": "ipython3",
   "version": "3.8.13"
  }
 },
 "nbformat": 4,
 "nbformat_minor": 2
}
