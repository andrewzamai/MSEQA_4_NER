{
 "cells": [
  {
   "cell_type": "markdown",
   "metadata": {},
   "source": [
    "# Visualizing NE types in PILE-NER corpus by plotting their word embeddings"
   ]
  },
  {
   "cell_type": "code",
   "execution_count": 10,
   "metadata": {},
   "outputs": [],
   "source": [
    "import sys\n",
    "sys.path.append(\"/Users/andrew/ExpertAI/MSEQA_for_NER/src/MSEQA_4_NER\")\n",
    "from data_handlers import data_handler_pileNER\n",
    "\n",
    "import gensim # to use pre-trained word2vec model\n",
    "import gensim.downloader as gensim_downloader\n",
    "\n",
    "from sklearn.metrics.pairwise import cosine_similarity\n",
    "\n",
    "import numpy as np\n",
    "import pandas as pd\n",
    "\n",
    "import json"
   ]
  },
  {
   "cell_type": "code",
   "execution_count": 11,
   "metadata": {},
   "outputs": [
    {
     "name": "stdout",
     "output_type": "stream",
     "text": [
      "455\n",
      "['person', 'organization', 'location', 'concept', 'product', 'variable', 'date', 'medical condition', 'object', 'technology', 'chemical', 'software', 'event', 'number', 'disease', 'attribute', 'protein', 'group', 'material', 'measurement', 'other', 'function', 'entity type', 'nationality', 'country', 'class', 'process', 'title', 'animal', 'component', 'condition', 'substance', 'food', 'city', 'activity', 'type', 'company', 'time', 'method', 'property', 'organism', 'drug', 'medical procedure', 'treatment', 'profession', 'cell type', 'anatomical structure', 'job title', 'data', 'quantity', 'sports team', 'biological process', 'data type', 'programming language', 'occupation', 'file', 'body part', 'medical treatment', 'language', 'chemical compound', 'entity', 'gene', 'state', 'law', 'action', 'website', 'library', 'facility', 'publication', 'tool', 'field of study', 'compound', 'document', 'organ', 'abbreviation', 'character', 'brand', 'device', 'operating system', 'service', 'technique', 'miscellaneous', 'species', 'symptom', 'task', 'category', 'parameter', 'movie', 'molecule', 'political party', 'procedure', 'sport', 'equipment', 'team', 'biological entity', 'book', 'region', 'medical test', 'anatomical_structure', 'anatomy', 'module', 'hardware', 'place', 'characteristic', 'plant', 'biomolecule', 'field', 'award', 'tv show', 'gender', 'feature', 'program', 'enzyme', 'structure', 'phenomenon', 'industry', 'license', 'ethnicity', 'system', 'value', 'age', 'time period', 'element', 'topic', 'color', 'unit', 'virus', 'religion', 'sports league', 'band', 'vehicle', 'ingredient', 'media', 'factor', 'tissue', 'crime', 'village', 'year', 'demographic', 'medical equipment', 'namespace', 'skill', 'anatomical entity', 'model', 'position', 'medical concept', 'song', 'video game', 'test', 'data structure', 'album', 'string', 'part', 'medical term', 'package', 'org', 'command', 'building', 'currency', 'noun', 'cell', 'medical device', 'trait', 'age group', 'county', 'invention', 'column', 'url', 'outcome', 'family', 'html tag', 'database', 'business', 'study', 'author', 'text', 'information', 'cell line', 'genus', 'letter', 'patent', 'application', 'physical quantity', 'item', 'duration', 'programming concept', 'constant', 'cryptocurrency', 'tag', 'protocol', 'medication', 'educational institution', 'version', 'resource', 'film', 'policy', 'quality', 'particle', 'directory', 'subject', 'cellular component', 'project', 'work of art', 'town', 'table', 'research', 'hormone', 'legal', 'genre', 'problem', 'file format', 'province', 'disorder', 'acronym', 'biological', 'genetic variation', 'issue', 'instrument', 'biological_process', 'ordinal', 'statistic', 'import', 'framework', 'clothing', 'financial', 'district', 'fictional character', 'body_part', 'education', 'competition', 'nutrient', 'government', 'behavior', 'weapon', 'apparatus', 'emotion', 'general', 'demonym', 'interface', 'money', 'communication', 'group of people', 'keyword', 'adjective', 'game', 'court', 'amino acid', 'misc', 'transportation', 'medical facility', 'gpe', 'term', 'signal', 'effect', 'legal term', 'email', 'actor', 'identifier', 'degree', 'culture', 'platform', 'format', 'shape', 'algorithm', 'entity type not specified', 'image', 'cell component', 'planet', 'physical object', 'bacteria', 'music genre', 'gene/protein', 'restaurant', 'surname', 'direction', 'css property', 'machine', 'therapy', 'code', 'legal citation', 'name', 'html element', 'integer', 'deity', 'sports event', 'people', 'measure', 'plant part', 'error', 'medical_condition', 'reference', 'symbol', 'holiday', 'artist', 'population', 'mutation', 'source', 'department', 'section', 'medical', 'health condition', 'chemical substance', 'furniture', 'metric', 'folder', 'percentage', 'tv series', 'address', 'river', 'weather', 'aspect', 'school', 'continent', 'biomarker', 'season', 'medical measurement', 'cardinal', 'physical property', 'course', 'size', 'work_of_art', 'mathematical concept', 'role', 'legal document', 'cytokine', 'legal case', 'relationship', 'musical instrument', 'cause', 'microorganism', 'energy', 'medium', 'commodity', 'university', 'configuration', 'work', 'list', 'data format', 'status', 'network', 'file type', 'tournament', 'living organism', 'venue', 'art', 'contact', 'unknown', 'governmental body', 'pronoun', 'geopolitical entity', 'anatomicalstructure', 'musical group', 'biological molecule', 'newspaper', 'natural disaster', 'landmark', 'government body', 'scientific concept', 'radio station', 'norp', 'tv network', 'geographic location', 'dish', 'unit of measurement', 'job', 'road', 'operation', 'environment', 'ship', 'celestial body', 'patient', 'strain', 'street', 'setting', 'style', 'job_title', 'agreement', 'option', 'magazine', 'file name', 'marker', 'header file', 'creative work', 'appliance', 'religious group', 'user interface element', 'domain', 'related art', 'creature', 'league', 'ability', 'mechanism', 'user', 'month', 'design', 'government agency', 'boolean', 'journal', 'governmental organization', 'entertainment', 'verb', 'bacterium', 'register', 'sequence', 'specific', 'methodology', 'military unit', 'municipality', 'struct', 'set', 'figure', 'label', 'township', 'pattern', 'idea', 'real estate', 'ethnic group', 'artifact', 'organisation', 'social group', 'html attribute', 'chemical_substance', 'room', 'aircraft', 'biological sample', 'financial term', 'metabolite', 'highway', 'medicalcondition', 'antibody', 'music group', 'political group', 'operator', 'description', 'race', 'store', 'stage', 'brain region', 'body fluid', 'container', 'mineral', 'ui element', 'nickname', 'athlete', 'patient group', 'neighborhood', 'electronic device', 'route', 'protein domain', 'science', 'beverage', 'standard', 'hotel', 'club', 'fieldterminology']\n"
     ]
    }
   ],
   "source": [
    "path_to_ne_types_list = '../data_handlers/questions/ne_types_list.json'\n",
    "with open(path_to_ne_types_list, 'r') as file:\n",
    "        ne_types_list = json.load(file)\n",
    "print(len(ne_types_list))\n",
    "print(ne_types_list)"
   ]
  },
  {
   "cell_type": "code",
   "execution_count": 12,
   "metadata": {},
   "outputs": [
    {
     "name": "stdout",
     "output_type": "stream",
     "text": [
      "<class 'gensim.models.keyedvectors.KeyedVectors'>\n"
     ]
    }
   ],
   "source": [
    "# downloading word2vec pre-trained model\n",
    "all_pretrained_word_embeddings = gensim_downloader.load(\"word2vec-google-news-300\")\n",
    "print(type(all_pretrained_word_embeddings))"
   ]
  },
  {
   "cell_type": "code",
   "execution_count": 13,
   "metadata": {},
   "outputs": [
    {
     "name": "stdout",
     "output_type": "stream",
     "text": [
      "Each word embedding is a vector of shape: (300,)\n",
      "of type <class 'gensim.models.keyedvectors.KeyedVectors'>\n",
      "each vector is of type <class 'numpy.ndarray'>\n"
     ]
    }
   ],
   "source": [
    "print(f\"Each word embedding is a vector of shape: {all_pretrained_word_embeddings[0].shape}\")\n",
    "print(f\"of type {type(all_pretrained_word_embeddings)}\")\n",
    "print(f\"each vector is of type {type(all_pretrained_word_embeddings[0])}\") # access by index\n",
    "# print(word_emb[\"apple\"]) # access by word-lookup"
   ]
  },
  {
   "cell_type": "code",
   "execution_count": 14,
   "metadata": {},
   "outputs": [
    {
     "name": "stdout",
     "output_type": "stream",
     "text": [
      "\"of\" not in embeddings\n",
      "\"anatomical_structure\" not in embeddings\n",
      "\"cryptocurrency\" not in embeddings\n",
      "\"of\" not in embeddings\n",
      "\"biological_process\" not in embeddings\n",
      "\"body_part\" not in embeddings\n",
      "\"demonym\" not in embeddings\n",
      "\"of\" not in embeddings\n",
      "\"gpe\" not in embeddings\n",
      "\"gene/protein\" not in embeddings\n",
      "\"medical_condition\" not in embeddings\n",
      "\"work_of_art\" not in embeddings\n",
      "\"anatomicalstructure\" not in embeddings\n",
      "\"norp\" not in embeddings\n",
      "\"of\" not in embeddings\n",
      "\"job_title\" not in embeddings\n",
      "\"organisation\" not in embeddings\n",
      "\"chemical_substance\" not in embeddings\n",
      "\"medicalcondition\" not in embeddings\n",
      "\"fieldterminology\" not in embeddings\n"
     ]
    }
   ],
   "source": [
    "for ne in ne_types_list:\n",
    "    for word in ne.split():\n",
    "        if word not in all_pretrained_word_embeddings:\n",
    "            print(f\"\\\"{word}\\\" not in embeddings\")"
   ]
  },
  {
   "cell_type": "markdown",
   "metadata": {},
   "source": [
    "##### Defining a dictionary to map some NE types in words belonging to all_pretrained_word_embeddings"
   ]
  },
  {
   "cell_type": "code",
   "execution_count": 15,
   "metadata": {},
   "outputs": [],
   "source": [
    "ne_mapping = {\"cryptocurrency\": [\"crypto\", \"currency\"], \n",
    "                \"demonym\": [\"inhabitants\", \"natives\"], \n",
    "                \"gpe\": [\"geo\", \"political\", \"entity\"],\n",
    "                \"anatomicalstructure\": [\"anatomical\", \"structure\"],\n",
    "                \"norp\": [\"nationalities\", \"religious\", \"political\", \"group\"],\n",
    "                \"organisation\": [\"organization\"],\n",
    "                \"medicalcondition\": [\"medical\", \"condition\"],\n",
    "                \"fieldterminology\": [\"field\", \"terminology\"]\n",
    "                }"
   ]
  },
  {
   "cell_type": "code",
   "execution_count": 16,
   "metadata": {},
   "outputs": [],
   "source": [
    "def get_embedding_for_ne(word_emb_model, ne, ne_mapping):\n",
    "    \"\"\" \n",
    "    Given a NE type return its embedding vector.\n",
    "    Since a NE type may be composed of multiple words like \"medical condition\" we take the average of its sub-words embeddings.\n",
    "    If a NE type/word is not present in word2vec embeddings we map it to some other existings words (e.g. a synonym)\n",
    "    \"\"\"\n",
    "    ne_words = ne.split()\n",
    "    if len(ne_words) == 1:\n",
    "        if ne not in word_emb_model:\n",
    "            # try splitting using _ or /\n",
    "            # e.g work_of_art or gene/protein\n",
    "            if \"/\" in ne:\n",
    "                ne_words = ne.split(\"/\")\n",
    "            elif \"_\" in ne:\n",
    "                ne_words = ne.split(\"_\")\n",
    "            else:    \n",
    "                if ne in ne_mapping:\n",
    "                    ne_words = ne_mapping[ne]\n",
    "                else:\n",
    "                    print(f\"\\\"{ne}\\\" not in word_emb_model!\")\n",
    "                    return np.zeros_like(word_emb_model[0])\n",
    "        else:\n",
    "            return word_emb_model[ne]\n",
    "            \n",
    "    tot_sum = np.zeros_like(word_emb_model[0])\n",
    "    n_sub_words = 0\n",
    "    for sub_word in ne_words:\n",
    "        if sub_word in word_emb_model:\n",
    "            tot_sum += word_emb_model[sub_word]\n",
    "            n_sub_words += 1\n",
    "        else:\n",
    "            print(f\"\\\"{sub_word}\\\" not found while processing ne: \\\"{ne}\\\", will be skipped\")\n",
    "    average = tot_sum / n_sub_words\n",
    "    return average"
   ]
  },
  {
   "cell_type": "code",
   "execution_count": 17,
   "metadata": {},
   "outputs": [
    {
     "name": "stdout",
     "output_type": "stream",
     "text": [
      "\"of\" not found while processing ne: \"field of study\", will be skipped\n",
      "\"of\" not found while processing ne: \"work of art\", will be skipped\n",
      "\"of\" not found while processing ne: \"group of people\", will be skipped\n",
      "\"of\" not found while processing ne: \"work_of_art\", will be skipped\n",
      "\"of\" not found while processing ne: \"unit of measurement\", will be skipped\n"
     ]
    }
   ],
   "source": [
    "for ne in ne_types_list:\n",
    "    if get_embedding_for_ne(all_pretrained_word_embeddings, ne, ne_mapping) is None:\n",
    "        print(ne)"
   ]
  },
  {
   "cell_type": "code",
   "execution_count": 18,
   "metadata": {},
   "outputs": [
    {
     "name": "stdout",
     "output_type": "stream",
     "text": [
      "\"of\" not found while processing ne: \"field of study\", will be skipped\n",
      "\"of\" not found while processing ne: \"work of art\", will be skipped\n",
      "\"of\" not found while processing ne: \"group of people\", will be skipped\n",
      "\"of\" not found while processing ne: \"work_of_art\", will be skipped\n",
      "\"of\" not found while processing ne: \"unit of measurement\", will be skipped\n"
     ]
    }
   ],
   "source": [
    "ne_types_embeddings = np.array([get_embedding_for_ne(all_pretrained_word_embeddings, ne, ne_mapping) for ne in ne_types_list])"
   ]
  },
  {
   "cell_type": "code",
   "execution_count": 19,
   "metadata": {},
   "outputs": [
    {
     "name": "stdout",
     "output_type": "stream",
     "text": [
      "(455, 300)\n"
     ]
    }
   ],
   "source": [
    "print(ne_types_embeddings.shape)"
   ]
  },
  {
   "cell_type": "markdown",
   "metadata": {},
   "source": [
    "### Constructing KeyedVector object to store embedding for each NE type"
   ]
  },
  {
   "cell_type": "code",
   "execution_count": 22,
   "metadata": {},
   "outputs": [],
   "source": [
    "from gensim.models import KeyedVectors"
   ]
  },
  {
   "cell_type": "code",
   "execution_count": 23,
   "metadata": {},
   "outputs": [],
   "source": [
    "ne_embeddings_keyedvector = KeyedVectors(vector_size=ne_types_embeddings.shape[-1], count=ne_types_embeddings.shape[0])\n",
    "for ne_name, ne_emb in zip(ne_types_list, ne_types_embeddings):\n",
    "    ne_embeddings_keyedvector.add_vector(key=ne_name, vector=ne_emb)"
   ]
  },
  {
   "cell_type": "code",
   "execution_count": 24,
   "metadata": {},
   "outputs": [
    {
     "data": {
      "text/plain": [
       "'person'"
      ]
     },
     "execution_count": 24,
     "metadata": {},
     "output_type": "execute_result"
    }
   ],
   "source": [
    "ne_embeddings_keyedvector.key_to_index['person']\n",
    "ne_embeddings_keyedvector.index_to_key[0]"
   ]
  },
  {
   "cell_type": "code",
   "execution_count": null,
   "metadata": {},
   "outputs": [],
   "source": [
    "def retrieve_most_similar(query_words_list, all_words_embeddings_kv, my_NE_kv):\n",
    "    \n",
    "    # get the word embeddings for the query words\n",
    "    query_emb = all_words_embeddings_kv[query_words_list] # shape: |Q| x 300\n",
    "    \n",
    "    # get cosine similarity between queries and my NE embeddings\n",
    "    cos_sim = cosine_similarity(query_emb, my_NE_kv.vectors) # shape: |Q| x |V_r|=455\n",
    "\n",
    "    # cos_sim = np.where(cos_sim > 0, cos_sim, 0)\n",
    "    #cos_sim_thresholded = [cos_sim_row[cos_sim_row > 0.3] for cos_sim_row in cos_sim]\n",
    "    #print(cos_sim_thresholded)\n",
    "    #nn = [np.argsort(-cos_sim_row_t) for cos_sim_row_t in cos_sim_thresholded]\n",
    "\n",
    "    # sort similarities in desceding orders and get indices of nearest neighbours\n",
    "    nn = np.argsort(-cos_sim) # shape: |Q| x |V_r|\n",
    "\n",
    "    #print(nn)\n",
    "    # delete self-similarity, i.e. cos_sim(w,w)=1.0 \n",
    "    #nn_filtered = nn[:, 1:] # remove self_similarity\n",
    "    \n",
    "    \n",
    "    # use the indices to get the words\n",
    "    nn_filtered = [[] for i in range(nn.shape[0])]\n",
    "    for i, n_i in enumerate(nn): \n",
    "        for j, n_i_j in enumerate(n_i):\n",
    "            if cos_sim[i,j]>0.1:\n",
    "                nn_filtered[i].append(n_i_j)\n",
    "    print(nn_filtered)\n",
    "    nn_words = [np.array(my_NE_kv.index_to_key)[nn_f] for nn_f in nn_filtered]\n",
    "    \n",
    "    return nn_words"
   ]
  },
  {
   "cell_type": "code",
   "execution_count": 25,
   "metadata": {},
   "outputs": [],
   "source": [
    "def retrieve_top_K_most_similar(query_words_list, all_words_embeddings_kv, my_NE_kv, top_k=10):\n",
    "    \n",
    "    # get the word embeddings for the query words\n",
    "    query_emb = all_words_embeddings_kv[query_words_list] # shape: |Q| x 300\n",
    "    \n",
    "    # get cosine similarity between queries and my NE embeddings\n",
    "    cos_sim = cosine_similarity(query_emb, my_NE_kv.vectors) # shape: |Q| x |V_r|=455\n",
    "\n",
    "    # sort similarities in desceding orders and get indices of nearest neighbours\n",
    "    nn = np.argsort(-cos_sim) # shape: |Q| x |V_r|\n",
    "\n",
    "    # delete self-similarity, i.e. cos_sim(w,w)=1.0 \n",
    "    nn_filtered = nn[:, 1:] # remove self_similarity\n",
    "    \n",
    "    nn_words = np.array(my_NE_kv.index_to_key)[nn_filtered][:, :top_k]\n",
    "    \n",
    "    return nn_words"
   ]
  },
  {
   "cell_type": "code",
   "execution_count": 32,
   "metadata": {},
   "outputs": [
    {
     "name": "stdout",
     "output_type": "stream",
     "text": [
      "person\n",
      "['people' 'group of people' 'entity type' 'entity type not specified'\n",
      " 'patient group' 'patient' 'creature' 'athlete' 'user' 'entity' 'type'\n",
      " 'user interface element' 'living organism' 'item' 'condition']\n",
      "-------------------\n",
      "organization\n",
      "['organisation' 'governmental organization' 'group' 'entity'\n",
      " 'social group' 'educational institution' 'group of people'\n",
      " 'government agency' 'org' 'patient group' 'entity type' 'team'\n",
      " 'religious group' 'political group' 'age group']\n",
      "-------------------\n",
      "location\n",
      "['geographic location' 'venue' 'facility' 'route' 'store' 'data structure'\n",
      " 'neighborhood' 'place' 'restaurant' 'date' 'data type' 'size'\n",
      " 'medical facility' 'name' 'data format']\n",
      "-------------------\n",
      "date\n",
      "['set' 'subject' 'location' 'year' 'file name' 'geographic location'\n",
      " 'time' 'month' 'time period' 'venue' 'entity type not specified'\n",
      " 'duration' 'name' 'specific' 'information']\n",
      "-------------------\n",
      "time\n",
      "['time period' 'year' 'month' 'season' 'place' 'duration' 'date' 'money'\n",
      " 'term' 'course' 'task' 'legal term' 'game' 'holiday' 'age']\n",
      "-------------------\n",
      "miscellaneous\n",
      "['misc' 'related art' 'other' 'medical equipment' 'struct' 'equipment'\n",
      " 'item' 'furniture' 'category' 'transportation' 'css property' 'clothing'\n",
      " 'entity type not specified' 'hardware' 'specific']\n",
      "-------------------\n"
     ]
    }
   ],
   "source": [
    "queries = [\"person\", \"organization\", \"location\", \"date\", \"time\", \"miscellaneous\"]\n",
    "top_k = 15\n",
    "res = retrieve_top_K_most_similar(queries, all_pretrained_word_embeddings, ne_embeddings_keyedvector, top_k=top_k)\n",
    "\n",
    "for query_word, most_similar_to_q in zip(queries, res):\n",
    "    print(query_word)\n",
    "    print(most_similar_to_q)\n",
    "    print(\"-------------------\")"
   ]
  },
  {
   "cell_type": "markdown",
   "metadata": {},
   "source": [
    "### Plotting the top_k NE types (among our list of NE types) most similar to each query word"
   ]
  },
  {
   "cell_type": "code",
   "execution_count": 20,
   "metadata": {},
   "outputs": [],
   "source": [
    "from sklearn.decomposition import PCA"
   ]
  },
  {
   "cell_type": "code",
   "execution_count": 21,
   "metadata": {},
   "outputs": [],
   "source": [
    "all_res_words = res.flatten()\n",
    "res_word_emb = ne_embeddings_keyedvector[all_res_words]\n",
    "pca = PCA(n_components=3) #Perform 3d-PCA\n",
    "word_emb_pca = pca.fit_transform(res_word_emb)"
   ]
  },
  {
   "cell_type": "code",
   "execution_count": 22,
   "metadata": {},
   "outputs": [
    {
     "name": "stdout",
     "output_type": "stream",
     "text": [
      "      pca_x     pca_y     pca_z                       word   query\n",
      "0  0.058417 -0.530820  0.133391                     people  person\n",
      "1  0.221345 -0.687288  0.243515            group of people  person\n",
      "2  0.984710  0.073084 -0.460458                entity type  person\n",
      "3  0.421284  0.143852 -0.533350  entity type not specified  person\n",
      "4  0.244947 -0.643533 -0.122138              patient group  person\n"
     ]
    }
   ],
   "source": [
    "pca_df = pd.DataFrame(word_emb_pca, columns=[\"pca_x\", \"pca_y\", \"pca_z\"])\n",
    "\n",
    "pca_df[\"word\"] = res.flatten()\n",
    "\n",
    "labels = np.array([queries]).repeat(top_k)\n",
    "pca_df[\"query\"] = labels\n",
    "\n",
    "print(pca_df.head())"
   ]
  },
  {
   "cell_type": "code",
   "execution_count": 23,
   "metadata": {},
   "outputs": [
    {
     "data": {
      "application/vnd.plotly.v1+json": {
       "config": {
        "plotlyServerURL": "https://plot.ly"
       },
       "data": [
        {
         "hovertemplate": "query=person<br>pca_x=%{x}<br>pca_y=%{y}<br>pca_z=%{z}<br>word=%{text}<extra></extra>",
         "legendgroup": "person",
         "marker": {
          "color": "#636efa",
          "opacity": 0.7,
          "symbol": "circle"
         },
         "mode": "markers+text",
         "name": "person",
         "scene": "scene",
         "showlegend": true,
         "text": [
          "people",
          "group of people",
          "entity type",
          "entity type not specified",
          "patient group",
          "patient",
          "creature",
          "athlete",
          "user",
          "entity",
          "type",
          "user interface element",
          "living organism",
          "item",
          "condition"
         ],
         "type": "scatter3d",
         "x": [
          0.05841739848256111,
          0.22134535014629364,
          0.9847102761268616,
          0.4212839603424072,
          0.2449466437101364,
          0.1056203693151474,
          0.5367311239242554,
          0.3691391944885254,
          0.51400226354599,
          1.8991280794143677,
          0.07029376924037933,
          0.45165684819221497,
          0.4711982309818268,
          0.10470351576805115,
          -0.0820414125919342
         ],
         "y": [
          -0.5308198928833008,
          -0.6872875094413757,
          0.07308417558670044,
          0.14385199546813965,
          -0.6435328125953674,
          -0.44330722093582153,
          -0.34159421920776367,
          -0.6340513825416565,
          0.44615766406059265,
          -0.06582122296094894,
          0.21199123561382294,
          0.3506969213485718,
          -0.35121187567710876,
          0.43626829981803894,
          0.056171443313360214
         ],
         "z": [
          0.13339075446128845,
          0.243515282869339,
          -0.4604584574699402,
          -0.5333498120307922,
          -0.12213761359453201,
          -0.5979160070419312,
          -0.17459480464458466,
          -0.12394166737794876,
          -0.878110945224762,
          -0.33948394656181335,
          -0.5814338326454163,
          -0.48743924498558044,
          -0.12817800045013428,
          -0.012823916040360928,
          -0.25144606828689575
         ]
        },
        {
         "hovertemplate": "query=organization<br>pca_x=%{x}<br>pca_y=%{y}<br>pca_z=%{z}<br>word=%{text}<extra></extra>",
         "legendgroup": "organization",
         "marker": {
          "color": "#EF553B",
          "opacity": 0.7,
          "symbol": "circle"
         },
         "mode": "markers+text",
         "name": "organization",
         "scene": "scene",
         "showlegend": true,
         "text": [
          "organisation",
          "governmental organization",
          "group",
          "entity",
          "social group",
          "educational institution",
          "group of people",
          "government agency",
          "org",
          "patient group",
          "entity type",
          "team",
          "religious group",
          "political group",
          "age group"
         ],
         "type": "scatter3d",
         "x": [
          0.933387041091919,
          0.8002798557281494,
          0.38427308201789856,
          1.8991279602050781,
          0.28600290417671204,
          0.5774096250534058,
          0.2213452160358429,
          0.3862440288066864,
          0.7819079160690308,
          0.2449469268321991,
          0.9847109913825989,
          0.0641893669962883,
          0.3106716275215149,
          0.2747165560722351,
          -0.10909052193164825
         ],
         "y": [
          -0.7594884037971497,
          -0.5843539237976074,
          -0.843758225440979,
          -0.06582119315862656,
          -0.6557893753051758,
          -0.3484390676021576,
          -0.6872891187667847,
          -0.596782922744751,
          -0.13276304304599762,
          -0.6435326933860779,
          0.0730850026011467,
          -0.6586715579032898,
          -0.6937048435211182,
          -0.6381399631500244,
          -0.6324445605278015
         ],
         "z": [
          0.2910146713256836,
          0.0032536659855395555,
          0.3536401689052582,
          -0.3394835591316223,
          0.24459752440452576,
          0.1797262281179428,
          0.24351540207862854,
          -0.00469721294939518,
          0.00651199696585536,
          -0.1221378818154335,
          -0.4604584872722626,
          0.3312285840511322,
          0.28230103850364685,
          0.1646214723587036,
          0.0531390979886055
         ]
        },
        {
         "hovertemplate": "query=location<br>pca_x=%{x}<br>pca_y=%{y}<br>pca_z=%{z}<br>word=%{text}<extra></extra>",
         "legendgroup": "location",
         "marker": {
          "color": "#00cc96",
          "opacity": 0.7,
          "symbol": "circle"
         },
         "mode": "markers+text",
         "name": "location",
         "scene": "scene",
         "showlegend": true,
         "text": [
          "geographic location",
          "venue",
          "facility",
          "route",
          "store",
          "data structure",
          "neighborhood",
          "place",
          "restaurant",
          "date",
          "data type",
          "size",
          "medical facility",
          "name",
          "data format"
         ],
         "type": "scatter3d",
         "x": [
          0.1935371458530426,
          -0.010661797598004341,
          0.23224107921123505,
          -0.0927264541387558,
          -0.3541286289691925,
          0.3540373146533966,
          0.20320571959018707,
          -0.3226710855960846,
          -0.050555821508169174,
          -0.895035445690155,
          0.14279502630233765,
          -0.3534175753593445,
          0.12767210602760315,
          0.29223424196243286,
          0.09394396841526031
         ],
         "y": [
          1.3111118078231812,
          0.9229202270507812,
          0.32444289326667786,
          0.5755448937416077,
          0.40108582377433777,
          0.4077683687210083,
          0.03616828843951225,
          0.1980234980583191,
          0.292587548494339,
          0.8310888409614563,
          0.35171279311180115,
          0.6686996817588806,
          -0.08460874110460281,
          0.7239827513694763,
          0.5632280111312866
         ],
         "z": [
          0.10670508444309235,
          1.3443912267684937,
          0.4931280314922333,
          0.4738124907016754,
          0.9798609614372253,
          -0.3858794569969177,
          1.0371097326278687,
          0.5769673585891724,
          1.5422937870025635,
          -0.04266081005334854,
          -0.6251801252365112,
          -0.5258799195289612,
          0.18943174183368683,
          0.17845518887043,
          -0.38310182094573975
         ]
        },
        {
         "hovertemplate": "query=date<br>pca_x=%{x}<br>pca_y=%{y}<br>pca_z=%{z}<br>word=%{text}<extra></extra>",
         "legendgroup": "date",
         "marker": {
          "color": "#ab63fa",
          "opacity": 0.7,
          "symbol": "circle"
         },
         "mode": "markers+text",
         "name": "date",
         "scene": "scene",
         "showlegend": true,
         "text": [
          "set",
          "subject",
          "location",
          "year",
          "file name",
          "geographic location",
          "time",
          "month",
          "time period",
          "venue",
          "entity type not specified",
          "duration",
          "name",
          "specific",
          "information"
         ],
         "type": "scatter3d",
         "x": [
          -0.48243483901023865,
          -0.307836651802063,
          0.060128435492515564,
          -0.9777328372001648,
          0.22660435736179352,
          0.1935371458530426,
          -0.7658408880233765,
          -1.0809978246688843,
          -0.883486270904541,
          -0.010661797598004341,
          0.42128393054008484,
          -1.2987024784088135,
          0.29223424196243286,
          0.14327043294906616,
          0.39385005831718445
         ],
         "y": [
          0.03410246968269348,
          0.314312607049942,
          1.6829586029052734,
          -0.6626927852630615,
          0.5762649774551392,
          1.3111118078231812,
          -0.2110559195280075,
          -0.4929155707359314,
          -0.3005291819572449,
          0.9229202270507812,
          0.14385239779949188,
          0.49564412236213684,
          0.7239827513694763,
          0.3760572075843811,
          0.6313669085502625
         ],
         "z": [
          0.1232031062245369,
          -0.5426913499832153,
          0.6721307039260864,
          0.25316932797431946,
          -0.03889920562505722,
          0.10670508444309235,
          -0.05677296593785286,
          0.22182095050811768,
          -0.28419265151023865,
          1.3443912267684937,
          -0.533349871635437,
          -1.520520567893982,
          0.17845518887043,
          -0.8377304673194885,
          -0.26560622453689575
         ]
        },
        {
         "hovertemplate": "query=time<br>pca_x=%{x}<br>pca_y=%{y}<br>pca_z=%{z}<br>word=%{text}<extra></extra>",
         "legendgroup": "time",
         "marker": {
          "color": "#FFA15A",
          "opacity": 0.7,
          "symbol": "circle"
         },
         "mode": "markers+text",
         "name": "time",
         "scene": "scene",
         "showlegend": true,
         "text": [
          "time period",
          "year",
          "month",
          "season",
          "place",
          "duration",
          "date",
          "money",
          "term",
          "course",
          "task",
          "legal term",
          "game",
          "holiday",
          "age"
         ],
         "type": "scatter3d",
         "x": [
          -0.883486270904541,
          -0.9777328372001648,
          -1.0809978246688843,
          -1.0515352487564087,
          -0.3226710855960846,
          -1.2987024784088135,
          -0.895035445690155,
          0.02305622585117817,
          -0.7152591943740845,
          -0.38490018248558044,
          -0.026029223576188087,
          -0.36216720938682556,
          -0.4155539572238922,
          -0.9014759659767151,
          -0.6024541258811951
         ],
         "y": [
          -0.3005291819572449,
          -0.6626927852630615,
          -0.4929155707359314,
          -0.6803199648857117,
          0.1980234980583191,
          0.49564412236213684,
          0.8310888409614563,
          -0.182814359664917,
          -0.41250503063201904,
          -0.09957762807607651,
          -0.13722100853919983,
          -0.414096862077713,
          -0.5116413235664368,
          -0.4311510920524597,
          -0.42113080620765686
         ],
         "z": [
          -0.28419265151023865,
          0.25316932797431946,
          0.22182095050811768,
          0.42986077070236206,
          0.5769673585891724,
          -1.520520567893982,
          -0.04266081005334854,
          0.12723308801651,
          -0.6695069670677185,
          0.05258054658770561,
          0.04277810454368591,
          -0.4010653495788574,
          0.2891116142272949,
          0.47985681891441345,
          -0.24736207723617554
         ]
        }
       ],
       "layout": {
        "legend": {
         "title": {
          "text": "query"
         },
         "tracegroupgap": 0
        },
        "scene": {
         "domain": {
          "x": [
           0,
           1
          ],
          "y": [
           0,
           1
          ]
         },
         "xaxis": {
          "title": {
           "text": "pca_x"
          }
         },
         "yaxis": {
          "title": {
           "text": "pca_y"
          }
         },
         "zaxis": {
          "title": {
           "text": "pca_z"
          }
         }
        },
        "template": {
         "data": {
          "bar": [
           {
            "error_x": {
             "color": "#2a3f5f"
            },
            "error_y": {
             "color": "#2a3f5f"
            },
            "marker": {
             "line": {
              "color": "#E5ECF6",
              "width": 0.5
             },
             "pattern": {
              "fillmode": "overlay",
              "size": 10,
              "solidity": 0.2
             }
            },
            "type": "bar"
           }
          ],
          "barpolar": [
           {
            "marker": {
             "line": {
              "color": "#E5ECF6",
              "width": 0.5
             },
             "pattern": {
              "fillmode": "overlay",
              "size": 10,
              "solidity": 0.2
             }
            },
            "type": "barpolar"
           }
          ],
          "carpet": [
           {
            "aaxis": {
             "endlinecolor": "#2a3f5f",
             "gridcolor": "white",
             "linecolor": "white",
             "minorgridcolor": "white",
             "startlinecolor": "#2a3f5f"
            },
            "baxis": {
             "endlinecolor": "#2a3f5f",
             "gridcolor": "white",
             "linecolor": "white",
             "minorgridcolor": "white",
             "startlinecolor": "#2a3f5f"
            },
            "type": "carpet"
           }
          ],
          "choropleth": [
           {
            "colorbar": {
             "outlinewidth": 0,
             "ticks": ""
            },
            "type": "choropleth"
           }
          ],
          "contour": [
           {
            "colorbar": {
             "outlinewidth": 0,
             "ticks": ""
            },
            "colorscale": [
             [
              0,
              "#0d0887"
             ],
             [
              0.1111111111111111,
              "#46039f"
             ],
             [
              0.2222222222222222,
              "#7201a8"
             ],
             [
              0.3333333333333333,
              "#9c179e"
             ],
             [
              0.4444444444444444,
              "#bd3786"
             ],
             [
              0.5555555555555556,
              "#d8576b"
             ],
             [
              0.6666666666666666,
              "#ed7953"
             ],
             [
              0.7777777777777778,
              "#fb9f3a"
             ],
             [
              0.8888888888888888,
              "#fdca26"
             ],
             [
              1,
              "#f0f921"
             ]
            ],
            "type": "contour"
           }
          ],
          "contourcarpet": [
           {
            "colorbar": {
             "outlinewidth": 0,
             "ticks": ""
            },
            "type": "contourcarpet"
           }
          ],
          "heatmap": [
           {
            "colorbar": {
             "outlinewidth": 0,
             "ticks": ""
            },
            "colorscale": [
             [
              0,
              "#0d0887"
             ],
             [
              0.1111111111111111,
              "#46039f"
             ],
             [
              0.2222222222222222,
              "#7201a8"
             ],
             [
              0.3333333333333333,
              "#9c179e"
             ],
             [
              0.4444444444444444,
              "#bd3786"
             ],
             [
              0.5555555555555556,
              "#d8576b"
             ],
             [
              0.6666666666666666,
              "#ed7953"
             ],
             [
              0.7777777777777778,
              "#fb9f3a"
             ],
             [
              0.8888888888888888,
              "#fdca26"
             ],
             [
              1,
              "#f0f921"
             ]
            ],
            "type": "heatmap"
           }
          ],
          "heatmapgl": [
           {
            "colorbar": {
             "outlinewidth": 0,
             "ticks": ""
            },
            "colorscale": [
             [
              0,
              "#0d0887"
             ],
             [
              0.1111111111111111,
              "#46039f"
             ],
             [
              0.2222222222222222,
              "#7201a8"
             ],
             [
              0.3333333333333333,
              "#9c179e"
             ],
             [
              0.4444444444444444,
              "#bd3786"
             ],
             [
              0.5555555555555556,
              "#d8576b"
             ],
             [
              0.6666666666666666,
              "#ed7953"
             ],
             [
              0.7777777777777778,
              "#fb9f3a"
             ],
             [
              0.8888888888888888,
              "#fdca26"
             ],
             [
              1,
              "#f0f921"
             ]
            ],
            "type": "heatmapgl"
           }
          ],
          "histogram": [
           {
            "marker": {
             "pattern": {
              "fillmode": "overlay",
              "size": 10,
              "solidity": 0.2
             }
            },
            "type": "histogram"
           }
          ],
          "histogram2d": [
           {
            "colorbar": {
             "outlinewidth": 0,
             "ticks": ""
            },
            "colorscale": [
             [
              0,
              "#0d0887"
             ],
             [
              0.1111111111111111,
              "#46039f"
             ],
             [
              0.2222222222222222,
              "#7201a8"
             ],
             [
              0.3333333333333333,
              "#9c179e"
             ],
             [
              0.4444444444444444,
              "#bd3786"
             ],
             [
              0.5555555555555556,
              "#d8576b"
             ],
             [
              0.6666666666666666,
              "#ed7953"
             ],
             [
              0.7777777777777778,
              "#fb9f3a"
             ],
             [
              0.8888888888888888,
              "#fdca26"
             ],
             [
              1,
              "#f0f921"
             ]
            ],
            "type": "histogram2d"
           }
          ],
          "histogram2dcontour": [
           {
            "colorbar": {
             "outlinewidth": 0,
             "ticks": ""
            },
            "colorscale": [
             [
              0,
              "#0d0887"
             ],
             [
              0.1111111111111111,
              "#46039f"
             ],
             [
              0.2222222222222222,
              "#7201a8"
             ],
             [
              0.3333333333333333,
              "#9c179e"
             ],
             [
              0.4444444444444444,
              "#bd3786"
             ],
             [
              0.5555555555555556,
              "#d8576b"
             ],
             [
              0.6666666666666666,
              "#ed7953"
             ],
             [
              0.7777777777777778,
              "#fb9f3a"
             ],
             [
              0.8888888888888888,
              "#fdca26"
             ],
             [
              1,
              "#f0f921"
             ]
            ],
            "type": "histogram2dcontour"
           }
          ],
          "mesh3d": [
           {
            "colorbar": {
             "outlinewidth": 0,
             "ticks": ""
            },
            "type": "mesh3d"
           }
          ],
          "parcoords": [
           {
            "line": {
             "colorbar": {
              "outlinewidth": 0,
              "ticks": ""
             }
            },
            "type": "parcoords"
           }
          ],
          "pie": [
           {
            "automargin": true,
            "type": "pie"
           }
          ],
          "scatter": [
           {
            "fillpattern": {
             "fillmode": "overlay",
             "size": 10,
             "solidity": 0.2
            },
            "type": "scatter"
           }
          ],
          "scatter3d": [
           {
            "line": {
             "colorbar": {
              "outlinewidth": 0,
              "ticks": ""
             }
            },
            "marker": {
             "colorbar": {
              "outlinewidth": 0,
              "ticks": ""
             }
            },
            "type": "scatter3d"
           }
          ],
          "scattercarpet": [
           {
            "marker": {
             "colorbar": {
              "outlinewidth": 0,
              "ticks": ""
             }
            },
            "type": "scattercarpet"
           }
          ],
          "scattergeo": [
           {
            "marker": {
             "colorbar": {
              "outlinewidth": 0,
              "ticks": ""
             }
            },
            "type": "scattergeo"
           }
          ],
          "scattergl": [
           {
            "marker": {
             "colorbar": {
              "outlinewidth": 0,
              "ticks": ""
             }
            },
            "type": "scattergl"
           }
          ],
          "scattermapbox": [
           {
            "marker": {
             "colorbar": {
              "outlinewidth": 0,
              "ticks": ""
             }
            },
            "type": "scattermapbox"
           }
          ],
          "scatterpolar": [
           {
            "marker": {
             "colorbar": {
              "outlinewidth": 0,
              "ticks": ""
             }
            },
            "type": "scatterpolar"
           }
          ],
          "scatterpolargl": [
           {
            "marker": {
             "colorbar": {
              "outlinewidth": 0,
              "ticks": ""
             }
            },
            "type": "scatterpolargl"
           }
          ],
          "scatterternary": [
           {
            "marker": {
             "colorbar": {
              "outlinewidth": 0,
              "ticks": ""
             }
            },
            "type": "scatterternary"
           }
          ],
          "surface": [
           {
            "colorbar": {
             "outlinewidth": 0,
             "ticks": ""
            },
            "colorscale": [
             [
              0,
              "#0d0887"
             ],
             [
              0.1111111111111111,
              "#46039f"
             ],
             [
              0.2222222222222222,
              "#7201a8"
             ],
             [
              0.3333333333333333,
              "#9c179e"
             ],
             [
              0.4444444444444444,
              "#bd3786"
             ],
             [
              0.5555555555555556,
              "#d8576b"
             ],
             [
              0.6666666666666666,
              "#ed7953"
             ],
             [
              0.7777777777777778,
              "#fb9f3a"
             ],
             [
              0.8888888888888888,
              "#fdca26"
             ],
             [
              1,
              "#f0f921"
             ]
            ],
            "type": "surface"
           }
          ],
          "table": [
           {
            "cells": {
             "fill": {
              "color": "#EBF0F8"
             },
             "line": {
              "color": "white"
             }
            },
            "header": {
             "fill": {
              "color": "#C8D4E3"
             },
             "line": {
              "color": "white"
             }
            },
            "type": "table"
           }
          ]
         },
         "layout": {
          "annotationdefaults": {
           "arrowcolor": "#2a3f5f",
           "arrowhead": 0,
           "arrowwidth": 1
          },
          "autotypenumbers": "strict",
          "coloraxis": {
           "colorbar": {
            "outlinewidth": 0,
            "ticks": ""
           }
          },
          "colorscale": {
           "diverging": [
            [
             0,
             "#8e0152"
            ],
            [
             0.1,
             "#c51b7d"
            ],
            [
             0.2,
             "#de77ae"
            ],
            [
             0.3,
             "#f1b6da"
            ],
            [
             0.4,
             "#fde0ef"
            ],
            [
             0.5,
             "#f7f7f7"
            ],
            [
             0.6,
             "#e6f5d0"
            ],
            [
             0.7,
             "#b8e186"
            ],
            [
             0.8,
             "#7fbc41"
            ],
            [
             0.9,
             "#4d9221"
            ],
            [
             1,
             "#276419"
            ]
           ],
           "sequential": [
            [
             0,
             "#0d0887"
            ],
            [
             0.1111111111111111,
             "#46039f"
            ],
            [
             0.2222222222222222,
             "#7201a8"
            ],
            [
             0.3333333333333333,
             "#9c179e"
            ],
            [
             0.4444444444444444,
             "#bd3786"
            ],
            [
             0.5555555555555556,
             "#d8576b"
            ],
            [
             0.6666666666666666,
             "#ed7953"
            ],
            [
             0.7777777777777778,
             "#fb9f3a"
            ],
            [
             0.8888888888888888,
             "#fdca26"
            ],
            [
             1,
             "#f0f921"
            ]
           ],
           "sequentialminus": [
            [
             0,
             "#0d0887"
            ],
            [
             0.1111111111111111,
             "#46039f"
            ],
            [
             0.2222222222222222,
             "#7201a8"
            ],
            [
             0.3333333333333333,
             "#9c179e"
            ],
            [
             0.4444444444444444,
             "#bd3786"
            ],
            [
             0.5555555555555556,
             "#d8576b"
            ],
            [
             0.6666666666666666,
             "#ed7953"
            ],
            [
             0.7777777777777778,
             "#fb9f3a"
            ],
            [
             0.8888888888888888,
             "#fdca26"
            ],
            [
             1,
             "#f0f921"
            ]
           ]
          },
          "colorway": [
           "#636efa",
           "#EF553B",
           "#00cc96",
           "#ab63fa",
           "#FFA15A",
           "#19d3f3",
           "#FF6692",
           "#B6E880",
           "#FF97FF",
           "#FECB52"
          ],
          "font": {
           "color": "#2a3f5f"
          },
          "geo": {
           "bgcolor": "white",
           "lakecolor": "white",
           "landcolor": "#E5ECF6",
           "showlakes": true,
           "showland": true,
           "subunitcolor": "white"
          },
          "hoverlabel": {
           "align": "left"
          },
          "hovermode": "closest",
          "mapbox": {
           "style": "light"
          },
          "paper_bgcolor": "white",
          "plot_bgcolor": "#E5ECF6",
          "polar": {
           "angularaxis": {
            "gridcolor": "white",
            "linecolor": "white",
            "ticks": ""
           },
           "bgcolor": "#E5ECF6",
           "radialaxis": {
            "gridcolor": "white",
            "linecolor": "white",
            "ticks": ""
           }
          },
          "scene": {
           "xaxis": {
            "backgroundcolor": "#E5ECF6",
            "gridcolor": "white",
            "gridwidth": 2,
            "linecolor": "white",
            "showbackground": true,
            "ticks": "",
            "zerolinecolor": "white"
           },
           "yaxis": {
            "backgroundcolor": "#E5ECF6",
            "gridcolor": "white",
            "gridwidth": 2,
            "linecolor": "white",
            "showbackground": true,
            "ticks": "",
            "zerolinecolor": "white"
           },
           "zaxis": {
            "backgroundcolor": "#E5ECF6",
            "gridcolor": "white",
            "gridwidth": 2,
            "linecolor": "white",
            "showbackground": true,
            "ticks": "",
            "zerolinecolor": "white"
           }
          },
          "shapedefaults": {
           "line": {
            "color": "#2a3f5f"
           }
          },
          "ternary": {
           "aaxis": {
            "gridcolor": "white",
            "linecolor": "white",
            "ticks": ""
           },
           "baxis": {
            "gridcolor": "white",
            "linecolor": "white",
            "ticks": ""
           },
           "bgcolor": "#E5ECF6",
           "caxis": {
            "gridcolor": "white",
            "linecolor": "white",
            "ticks": ""
           }
          },
          "title": {
           "x": 0.05
          },
          "xaxis": {
           "automargin": true,
           "gridcolor": "white",
           "linecolor": "white",
           "ticks": "",
           "title": {
            "standoff": 15
           },
           "zerolinecolor": "white",
           "zerolinewidth": 2
          },
          "yaxis": {
           "automargin": true,
           "gridcolor": "white",
           "linecolor": "white",
           "ticks": "",
           "title": {
            "standoff": 15
           },
           "zerolinecolor": "white",
           "zerolinewidth": 2
          }
         }
        },
        "title": {
         "text": "3d-PCA representation of word embeddings"
        }
       }
      }
     },
     "metadata": {},
     "output_type": "display_data"
    }
   ],
   "source": [
    "import plotly.express as px\n",
    "px.scatter_3d(pca_df, x='pca_x', y='pca_y', z='pca_z', color=\"query\", text=\"word\", opacity=0.7, title=\"3d-PCA representation of word embeddings\")"
   ]
  },
  {
   "cell_type": "markdown",
   "metadata": {},
   "source": [
    "## 2D"
   ]
  },
  {
   "cell_type": "code",
   "execution_count": 26,
   "metadata": {},
   "outputs": [
    {
     "name": "stdout",
     "output_type": "stream",
     "text": [
      "      pca_x     pca_y                       word   query\n",
      "0  0.058417 -0.530820                     people  person\n",
      "1  0.221345 -0.687288            group of people  person\n",
      "2  0.984710  0.073084                entity type  person\n",
      "3  0.421284  0.143852  entity type not specified  person\n",
      "4  0.244947 -0.643533              patient group  person\n"
     ]
    },
    {
     "data": {
      "application/vnd.plotly.v1+json": {
       "config": {
        "plotlyServerURL": "https://plot.ly"
       },
       "data": [
        {
         "hovertemplate": "query=person<br>pca_x=%{x}<br>pca_y=%{y}<br>word=%{text}<extra></extra>",
         "legendgroup": "person",
         "marker": {
          "color": "#636efa",
          "opacity": 0.7,
          "symbol": "circle"
         },
         "mode": "markers+text",
         "name": "person",
         "orientation": "v",
         "showlegend": true,
         "text": [
          "people",
          "group of people",
          "entity type",
          "entity type not specified",
          "patient group",
          "patient",
          "creature",
          "athlete",
          "user",
          "entity",
          "type",
          "user interface element",
          "living organism",
          "item",
          "condition"
         ],
         "type": "scatter",
         "x": [
          0.05841739848256111,
          0.22134535014629364,
          0.9847102761268616,
          0.4212839603424072,
          0.2449466437101364,
          0.1056203693151474,
          0.5367311239242554,
          0.3691391944885254,
          0.51400226354599,
          1.8991280794143677,
          0.07029376924037933,
          0.45165684819221497,
          0.4711982309818268,
          0.10470351576805115,
          -0.0820414125919342
         ],
         "xaxis": "x",
         "y": [
          -0.5308198928833008,
          -0.6872875094413757,
          0.07308417558670044,
          0.14385199546813965,
          -0.6435328125953674,
          -0.44330722093582153,
          -0.34159421920776367,
          -0.6340513825416565,
          0.44615766406059265,
          -0.06582122296094894,
          0.21199123561382294,
          0.3506969213485718,
          -0.35121187567710876,
          0.43626829981803894,
          0.056171443313360214
         ],
         "yaxis": "y"
        },
        {
         "hovertemplate": "query=organization<br>pca_x=%{x}<br>pca_y=%{y}<br>word=%{text}<extra></extra>",
         "legendgroup": "organization",
         "marker": {
          "color": "#EF553B",
          "opacity": 0.7,
          "symbol": "circle"
         },
         "mode": "markers+text",
         "name": "organization",
         "orientation": "v",
         "showlegend": true,
         "text": [
          "organisation",
          "governmental organization",
          "group",
          "entity",
          "social group",
          "educational institution",
          "group of people",
          "government agency",
          "org",
          "patient group",
          "entity type",
          "team",
          "religious group",
          "political group",
          "age group"
         ],
         "type": "scatter",
         "x": [
          0.933387041091919,
          0.8002798557281494,
          0.38427308201789856,
          1.8991279602050781,
          0.28600290417671204,
          0.5774096250534058,
          0.2213452160358429,
          0.3862440288066864,
          0.7819079160690308,
          0.2449469268321991,
          0.9847109913825989,
          0.0641893669962883,
          0.3106716275215149,
          0.2747165560722351,
          -0.10909052193164825
         ],
         "xaxis": "x",
         "y": [
          -0.7594884037971497,
          -0.5843539237976074,
          -0.843758225440979,
          -0.06582119315862656,
          -0.6557893753051758,
          -0.3484390676021576,
          -0.6872891187667847,
          -0.596782922744751,
          -0.13276304304599762,
          -0.6435326933860779,
          0.0730850026011467,
          -0.6586715579032898,
          -0.6937048435211182,
          -0.6381399631500244,
          -0.6324445605278015
         ],
         "yaxis": "y"
        },
        {
         "hovertemplate": "query=location<br>pca_x=%{x}<br>pca_y=%{y}<br>word=%{text}<extra></extra>",
         "legendgroup": "location",
         "marker": {
          "color": "#00cc96",
          "opacity": 0.7,
          "symbol": "circle"
         },
         "mode": "markers+text",
         "name": "location",
         "orientation": "v",
         "showlegend": true,
         "text": [
          "geographic location",
          "venue",
          "facility",
          "route",
          "store",
          "data structure",
          "neighborhood",
          "place",
          "restaurant",
          "date",
          "data type",
          "size",
          "medical facility",
          "name",
          "data format"
         ],
         "type": "scatter",
         "x": [
          0.1935371458530426,
          -0.010661797598004341,
          0.23224107921123505,
          -0.0927264541387558,
          -0.3541286289691925,
          0.3540373146533966,
          0.20320571959018707,
          -0.3226710855960846,
          -0.050555821508169174,
          -0.895035445690155,
          0.14279502630233765,
          -0.3534175753593445,
          0.12767210602760315,
          0.29223424196243286,
          0.09394396841526031
         ],
         "xaxis": "x",
         "y": [
          1.3111118078231812,
          0.9229202270507812,
          0.32444289326667786,
          0.5755448937416077,
          0.40108582377433777,
          0.4077683687210083,
          0.03616828843951225,
          0.1980234980583191,
          0.292587548494339,
          0.8310888409614563,
          0.35171279311180115,
          0.6686996817588806,
          -0.08460874110460281,
          0.7239827513694763,
          0.5632280111312866
         ],
         "yaxis": "y"
        },
        {
         "hovertemplate": "query=date<br>pca_x=%{x}<br>pca_y=%{y}<br>word=%{text}<extra></extra>",
         "legendgroup": "date",
         "marker": {
          "color": "#ab63fa",
          "opacity": 0.7,
          "symbol": "circle"
         },
         "mode": "markers+text",
         "name": "date",
         "orientation": "v",
         "showlegend": true,
         "text": [
          "set",
          "subject",
          "location",
          "year",
          "file name",
          "geographic location",
          "time",
          "month",
          "time period",
          "venue",
          "entity type not specified",
          "duration",
          "name",
          "specific",
          "information"
         ],
         "type": "scatter",
         "x": [
          -0.48243483901023865,
          -0.307836651802063,
          0.060128435492515564,
          -0.9777328372001648,
          0.22660435736179352,
          0.1935371458530426,
          -0.7658408880233765,
          -1.0809978246688843,
          -0.883486270904541,
          -0.010661797598004341,
          0.42128393054008484,
          -1.2987024784088135,
          0.29223424196243286,
          0.14327043294906616,
          0.39385005831718445
         ],
         "xaxis": "x",
         "y": [
          0.03410246968269348,
          0.314312607049942,
          1.6829586029052734,
          -0.6626927852630615,
          0.5762649774551392,
          1.3111118078231812,
          -0.2110559195280075,
          -0.4929155707359314,
          -0.3005291819572449,
          0.9229202270507812,
          0.14385239779949188,
          0.49564412236213684,
          0.7239827513694763,
          0.3760572075843811,
          0.6313669085502625
         ],
         "yaxis": "y"
        },
        {
         "hovertemplate": "query=time<br>pca_x=%{x}<br>pca_y=%{y}<br>word=%{text}<extra></extra>",
         "legendgroup": "time",
         "marker": {
          "color": "#FFA15A",
          "opacity": 0.7,
          "symbol": "circle"
         },
         "mode": "markers+text",
         "name": "time",
         "orientation": "v",
         "showlegend": true,
         "text": [
          "time period",
          "year",
          "month",
          "season",
          "place",
          "duration",
          "date",
          "money",
          "term",
          "course",
          "task",
          "legal term",
          "game",
          "holiday",
          "age"
         ],
         "type": "scatter",
         "x": [
          -0.883486270904541,
          -0.9777328372001648,
          -1.0809978246688843,
          -1.0515352487564087,
          -0.3226710855960846,
          -1.2987024784088135,
          -0.895035445690155,
          0.02305622585117817,
          -0.7152591943740845,
          -0.38490018248558044,
          -0.026029223576188087,
          -0.36216720938682556,
          -0.4155539572238922,
          -0.9014759659767151,
          -0.6024541258811951
         ],
         "xaxis": "x",
         "y": [
          -0.3005291819572449,
          -0.6626927852630615,
          -0.4929155707359314,
          -0.6803199648857117,
          0.1980234980583191,
          0.49564412236213684,
          0.8310888409614563,
          -0.182814359664917,
          -0.41250503063201904,
          -0.09957762807607651,
          -0.13722100853919983,
          -0.414096862077713,
          -0.5116413235664368,
          -0.4311510920524597,
          -0.42113080620765686
         ],
         "yaxis": "y"
        }
       ],
       "layout": {
        "legend": {
         "title": {
          "text": "query"
         },
         "tracegroupgap": 0
        },
        "template": {
         "data": {
          "bar": [
           {
            "error_x": {
             "color": "#2a3f5f"
            },
            "error_y": {
             "color": "#2a3f5f"
            },
            "marker": {
             "line": {
              "color": "#E5ECF6",
              "width": 0.5
             },
             "pattern": {
              "fillmode": "overlay",
              "size": 10,
              "solidity": 0.2
             }
            },
            "type": "bar"
           }
          ],
          "barpolar": [
           {
            "marker": {
             "line": {
              "color": "#E5ECF6",
              "width": 0.5
             },
             "pattern": {
              "fillmode": "overlay",
              "size": 10,
              "solidity": 0.2
             }
            },
            "type": "barpolar"
           }
          ],
          "carpet": [
           {
            "aaxis": {
             "endlinecolor": "#2a3f5f",
             "gridcolor": "white",
             "linecolor": "white",
             "minorgridcolor": "white",
             "startlinecolor": "#2a3f5f"
            },
            "baxis": {
             "endlinecolor": "#2a3f5f",
             "gridcolor": "white",
             "linecolor": "white",
             "minorgridcolor": "white",
             "startlinecolor": "#2a3f5f"
            },
            "type": "carpet"
           }
          ],
          "choropleth": [
           {
            "colorbar": {
             "outlinewidth": 0,
             "ticks": ""
            },
            "type": "choropleth"
           }
          ],
          "contour": [
           {
            "colorbar": {
             "outlinewidth": 0,
             "ticks": ""
            },
            "colorscale": [
             [
              0,
              "#0d0887"
             ],
             [
              0.1111111111111111,
              "#46039f"
             ],
             [
              0.2222222222222222,
              "#7201a8"
             ],
             [
              0.3333333333333333,
              "#9c179e"
             ],
             [
              0.4444444444444444,
              "#bd3786"
             ],
             [
              0.5555555555555556,
              "#d8576b"
             ],
             [
              0.6666666666666666,
              "#ed7953"
             ],
             [
              0.7777777777777778,
              "#fb9f3a"
             ],
             [
              0.8888888888888888,
              "#fdca26"
             ],
             [
              1,
              "#f0f921"
             ]
            ],
            "type": "contour"
           }
          ],
          "contourcarpet": [
           {
            "colorbar": {
             "outlinewidth": 0,
             "ticks": ""
            },
            "type": "contourcarpet"
           }
          ],
          "heatmap": [
           {
            "colorbar": {
             "outlinewidth": 0,
             "ticks": ""
            },
            "colorscale": [
             [
              0,
              "#0d0887"
             ],
             [
              0.1111111111111111,
              "#46039f"
             ],
             [
              0.2222222222222222,
              "#7201a8"
             ],
             [
              0.3333333333333333,
              "#9c179e"
             ],
             [
              0.4444444444444444,
              "#bd3786"
             ],
             [
              0.5555555555555556,
              "#d8576b"
             ],
             [
              0.6666666666666666,
              "#ed7953"
             ],
             [
              0.7777777777777778,
              "#fb9f3a"
             ],
             [
              0.8888888888888888,
              "#fdca26"
             ],
             [
              1,
              "#f0f921"
             ]
            ],
            "type": "heatmap"
           }
          ],
          "heatmapgl": [
           {
            "colorbar": {
             "outlinewidth": 0,
             "ticks": ""
            },
            "colorscale": [
             [
              0,
              "#0d0887"
             ],
             [
              0.1111111111111111,
              "#46039f"
             ],
             [
              0.2222222222222222,
              "#7201a8"
             ],
             [
              0.3333333333333333,
              "#9c179e"
             ],
             [
              0.4444444444444444,
              "#bd3786"
             ],
             [
              0.5555555555555556,
              "#d8576b"
             ],
             [
              0.6666666666666666,
              "#ed7953"
             ],
             [
              0.7777777777777778,
              "#fb9f3a"
             ],
             [
              0.8888888888888888,
              "#fdca26"
             ],
             [
              1,
              "#f0f921"
             ]
            ],
            "type": "heatmapgl"
           }
          ],
          "histogram": [
           {
            "marker": {
             "pattern": {
              "fillmode": "overlay",
              "size": 10,
              "solidity": 0.2
             }
            },
            "type": "histogram"
           }
          ],
          "histogram2d": [
           {
            "colorbar": {
             "outlinewidth": 0,
             "ticks": ""
            },
            "colorscale": [
             [
              0,
              "#0d0887"
             ],
             [
              0.1111111111111111,
              "#46039f"
             ],
             [
              0.2222222222222222,
              "#7201a8"
             ],
             [
              0.3333333333333333,
              "#9c179e"
             ],
             [
              0.4444444444444444,
              "#bd3786"
             ],
             [
              0.5555555555555556,
              "#d8576b"
             ],
             [
              0.6666666666666666,
              "#ed7953"
             ],
             [
              0.7777777777777778,
              "#fb9f3a"
             ],
             [
              0.8888888888888888,
              "#fdca26"
             ],
             [
              1,
              "#f0f921"
             ]
            ],
            "type": "histogram2d"
           }
          ],
          "histogram2dcontour": [
           {
            "colorbar": {
             "outlinewidth": 0,
             "ticks": ""
            },
            "colorscale": [
             [
              0,
              "#0d0887"
             ],
             [
              0.1111111111111111,
              "#46039f"
             ],
             [
              0.2222222222222222,
              "#7201a8"
             ],
             [
              0.3333333333333333,
              "#9c179e"
             ],
             [
              0.4444444444444444,
              "#bd3786"
             ],
             [
              0.5555555555555556,
              "#d8576b"
             ],
             [
              0.6666666666666666,
              "#ed7953"
             ],
             [
              0.7777777777777778,
              "#fb9f3a"
             ],
             [
              0.8888888888888888,
              "#fdca26"
             ],
             [
              1,
              "#f0f921"
             ]
            ],
            "type": "histogram2dcontour"
           }
          ],
          "mesh3d": [
           {
            "colorbar": {
             "outlinewidth": 0,
             "ticks": ""
            },
            "type": "mesh3d"
           }
          ],
          "parcoords": [
           {
            "line": {
             "colorbar": {
              "outlinewidth": 0,
              "ticks": ""
             }
            },
            "type": "parcoords"
           }
          ],
          "pie": [
           {
            "automargin": true,
            "type": "pie"
           }
          ],
          "scatter": [
           {
            "fillpattern": {
             "fillmode": "overlay",
             "size": 10,
             "solidity": 0.2
            },
            "type": "scatter"
           }
          ],
          "scatter3d": [
           {
            "line": {
             "colorbar": {
              "outlinewidth": 0,
              "ticks": ""
             }
            },
            "marker": {
             "colorbar": {
              "outlinewidth": 0,
              "ticks": ""
             }
            },
            "type": "scatter3d"
           }
          ],
          "scattercarpet": [
           {
            "marker": {
             "colorbar": {
              "outlinewidth": 0,
              "ticks": ""
             }
            },
            "type": "scattercarpet"
           }
          ],
          "scattergeo": [
           {
            "marker": {
             "colorbar": {
              "outlinewidth": 0,
              "ticks": ""
             }
            },
            "type": "scattergeo"
           }
          ],
          "scattergl": [
           {
            "marker": {
             "colorbar": {
              "outlinewidth": 0,
              "ticks": ""
             }
            },
            "type": "scattergl"
           }
          ],
          "scattermapbox": [
           {
            "marker": {
             "colorbar": {
              "outlinewidth": 0,
              "ticks": ""
             }
            },
            "type": "scattermapbox"
           }
          ],
          "scatterpolar": [
           {
            "marker": {
             "colorbar": {
              "outlinewidth": 0,
              "ticks": ""
             }
            },
            "type": "scatterpolar"
           }
          ],
          "scatterpolargl": [
           {
            "marker": {
             "colorbar": {
              "outlinewidth": 0,
              "ticks": ""
             }
            },
            "type": "scatterpolargl"
           }
          ],
          "scatterternary": [
           {
            "marker": {
             "colorbar": {
              "outlinewidth": 0,
              "ticks": ""
             }
            },
            "type": "scatterternary"
           }
          ],
          "surface": [
           {
            "colorbar": {
             "outlinewidth": 0,
             "ticks": ""
            },
            "colorscale": [
             [
              0,
              "#0d0887"
             ],
             [
              0.1111111111111111,
              "#46039f"
             ],
             [
              0.2222222222222222,
              "#7201a8"
             ],
             [
              0.3333333333333333,
              "#9c179e"
             ],
             [
              0.4444444444444444,
              "#bd3786"
             ],
             [
              0.5555555555555556,
              "#d8576b"
             ],
             [
              0.6666666666666666,
              "#ed7953"
             ],
             [
              0.7777777777777778,
              "#fb9f3a"
             ],
             [
              0.8888888888888888,
              "#fdca26"
             ],
             [
              1,
              "#f0f921"
             ]
            ],
            "type": "surface"
           }
          ],
          "table": [
           {
            "cells": {
             "fill": {
              "color": "#EBF0F8"
             },
             "line": {
              "color": "white"
             }
            },
            "header": {
             "fill": {
              "color": "#C8D4E3"
             },
             "line": {
              "color": "white"
             }
            },
            "type": "table"
           }
          ]
         },
         "layout": {
          "annotationdefaults": {
           "arrowcolor": "#2a3f5f",
           "arrowhead": 0,
           "arrowwidth": 1
          },
          "autotypenumbers": "strict",
          "coloraxis": {
           "colorbar": {
            "outlinewidth": 0,
            "ticks": ""
           }
          },
          "colorscale": {
           "diverging": [
            [
             0,
             "#8e0152"
            ],
            [
             0.1,
             "#c51b7d"
            ],
            [
             0.2,
             "#de77ae"
            ],
            [
             0.3,
             "#f1b6da"
            ],
            [
             0.4,
             "#fde0ef"
            ],
            [
             0.5,
             "#f7f7f7"
            ],
            [
             0.6,
             "#e6f5d0"
            ],
            [
             0.7,
             "#b8e186"
            ],
            [
             0.8,
             "#7fbc41"
            ],
            [
             0.9,
             "#4d9221"
            ],
            [
             1,
             "#276419"
            ]
           ],
           "sequential": [
            [
             0,
             "#0d0887"
            ],
            [
             0.1111111111111111,
             "#46039f"
            ],
            [
             0.2222222222222222,
             "#7201a8"
            ],
            [
             0.3333333333333333,
             "#9c179e"
            ],
            [
             0.4444444444444444,
             "#bd3786"
            ],
            [
             0.5555555555555556,
             "#d8576b"
            ],
            [
             0.6666666666666666,
             "#ed7953"
            ],
            [
             0.7777777777777778,
             "#fb9f3a"
            ],
            [
             0.8888888888888888,
             "#fdca26"
            ],
            [
             1,
             "#f0f921"
            ]
           ],
           "sequentialminus": [
            [
             0,
             "#0d0887"
            ],
            [
             0.1111111111111111,
             "#46039f"
            ],
            [
             0.2222222222222222,
             "#7201a8"
            ],
            [
             0.3333333333333333,
             "#9c179e"
            ],
            [
             0.4444444444444444,
             "#bd3786"
            ],
            [
             0.5555555555555556,
             "#d8576b"
            ],
            [
             0.6666666666666666,
             "#ed7953"
            ],
            [
             0.7777777777777778,
             "#fb9f3a"
            ],
            [
             0.8888888888888888,
             "#fdca26"
            ],
            [
             1,
             "#f0f921"
            ]
           ]
          },
          "colorway": [
           "#636efa",
           "#EF553B",
           "#00cc96",
           "#ab63fa",
           "#FFA15A",
           "#19d3f3",
           "#FF6692",
           "#B6E880",
           "#FF97FF",
           "#FECB52"
          ],
          "font": {
           "color": "#2a3f5f"
          },
          "geo": {
           "bgcolor": "white",
           "lakecolor": "white",
           "landcolor": "#E5ECF6",
           "showlakes": true,
           "showland": true,
           "subunitcolor": "white"
          },
          "hoverlabel": {
           "align": "left"
          },
          "hovermode": "closest",
          "mapbox": {
           "style": "light"
          },
          "paper_bgcolor": "white",
          "plot_bgcolor": "#E5ECF6",
          "polar": {
           "angularaxis": {
            "gridcolor": "white",
            "linecolor": "white",
            "ticks": ""
           },
           "bgcolor": "#E5ECF6",
           "radialaxis": {
            "gridcolor": "white",
            "linecolor": "white",
            "ticks": ""
           }
          },
          "scene": {
           "xaxis": {
            "backgroundcolor": "#E5ECF6",
            "gridcolor": "white",
            "gridwidth": 2,
            "linecolor": "white",
            "showbackground": true,
            "ticks": "",
            "zerolinecolor": "white"
           },
           "yaxis": {
            "backgroundcolor": "#E5ECF6",
            "gridcolor": "white",
            "gridwidth": 2,
            "linecolor": "white",
            "showbackground": true,
            "ticks": "",
            "zerolinecolor": "white"
           },
           "zaxis": {
            "backgroundcolor": "#E5ECF6",
            "gridcolor": "white",
            "gridwidth": 2,
            "linecolor": "white",
            "showbackground": true,
            "ticks": "",
            "zerolinecolor": "white"
           }
          },
          "shapedefaults": {
           "line": {
            "color": "#2a3f5f"
           }
          },
          "ternary": {
           "aaxis": {
            "gridcolor": "white",
            "linecolor": "white",
            "ticks": ""
           },
           "baxis": {
            "gridcolor": "white",
            "linecolor": "white",
            "ticks": ""
           },
           "bgcolor": "#E5ECF6",
           "caxis": {
            "gridcolor": "white",
            "linecolor": "white",
            "ticks": ""
           }
          },
          "title": {
           "x": 0.05
          },
          "xaxis": {
           "automargin": true,
           "gridcolor": "white",
           "linecolor": "white",
           "ticks": "",
           "title": {
            "standoff": 15
           },
           "zerolinecolor": "white",
           "zerolinewidth": 2
          },
          "yaxis": {
           "automargin": true,
           "gridcolor": "white",
           "linecolor": "white",
           "ticks": "",
           "title": {
            "standoff": 15
           },
           "zerolinecolor": "white",
           "zerolinewidth": 2
          }
         }
        },
        "title": {
         "text": "2d-PCA representation of word embeddings"
        },
        "xaxis": {
         "anchor": "y",
         "domain": [
          0,
          1
         ],
         "title": {
          "text": "pca_x"
         }
        },
        "yaxis": {
         "anchor": "x",
         "domain": [
          0,
          1
         ],
         "title": {
          "text": "pca_y"
         }
        }
       }
      }
     },
     "metadata": {},
     "output_type": "display_data"
    }
   ],
   "source": [
    "all_res_words = res.flatten()\n",
    "res_word_emb = ne_embeddings_keyedvector[all_res_words]\n",
    "pca = PCA(n_components=2) #Perform 2d-PCA\n",
    "word_emb_pca = pca.fit_transform(res_word_emb)\n",
    "\n",
    "pca_df = pd.DataFrame(word_emb_pca, columns=[\"pca_x\", \"pca_y\"])\n",
    "\n",
    "pca_df[\"word\"] = res.flatten()\n",
    "\n",
    "labels = np.array([queries]).repeat(top_k)\n",
    "pca_df[\"query\"] = labels\n",
    "\n",
    "print(pca_df.head())\n",
    "\n",
    "import plotly.express as px\n",
    "px.scatter(pca_df, x='pca_x', y='pca_y', color=\"query\", text=\"word\", opacity=0.7, title=\"2d-PCA representation of word embeddings\")"
   ]
  },
  {
   "cell_type": "markdown",
   "metadata": {},
   "source": [
    "### 3D plotting of all NE types"
   ]
  },
  {
   "cell_type": "code",
   "execution_count": 27,
   "metadata": {},
   "outputs": [],
   "source": [
    "from sklearn.metrics.pairwise import cosine_similarity\n",
    "from sklearn.decomposition import PCA\n",
    "\n",
    "import matplotlib.pyplot as plt\n",
    "from mpl_toolkits.mplot3d import Axes3D "
   ]
  },
  {
   "cell_type": "code",
   "execution_count": 28,
   "metadata": {},
   "outputs": [],
   "source": [
    "pca = PCA(n_components=3) #Perform 3d-PCA\n",
    "word_emb_3d = pca.fit_transform(ne_types_embeddings)"
   ]
  },
  {
   "cell_type": "code",
   "execution_count": 29,
   "metadata": {},
   "outputs": [
    {
     "data": {
      "image/png": "[encoded data removed]",
      "text/plain": [
       "<Figure size 1000x800 with 1 Axes>"
      ]
     },
     "metadata": {},
     "output_type": "display_data"
    }
   ],
   "source": [
    "# Create a 3D scatter plot\n",
    "fig = plt.figure(figsize=(10, 8))\n",
    "ax = fig.add_subplot(111, projection='3d')\n",
    "\n",
    "# Scatter plot\n",
    "ax.scatter(word_emb_3d[:, 0], word_emb_3d[:, 1], word_emb_3d[:, 2])\n",
    "\n",
    "# Annotate points with word labels (adjust labels accordingly)\n",
    "for i, word in enumerate(ne_types_list):\n",
    "    ax.text(word_emb_3d[i, 0], word_emb_3d[i, 1], word_emb_3d[i, 2], word)\n",
    "\n",
    "ax.set_xlabel('Principal Component 1')\n",
    "ax.set_ylabel('Principal Component 2')\n",
    "ax.set_zlabel('Principal Component 3')\n",
    "ax.set_title('3D Word Embeddings Visualization')\n",
    "\n",
    "plt.show()"
   ]
  },
  {
   "cell_type": "code",
   "execution_count": 30,
   "metadata": {},
   "outputs": [
    {
     "data": {
      "application/vnd.plotly.v1+json": {
       "config": {
        "plotlyServerURL": "https://plot.ly"
       },
       "data": [
        {
         "hovertemplate": "x=%{x}<br>y=%{y}<br>z=%{z}<br>word=%{text}<extra></extra>",
         "legendgroup": "",
         "marker": {
          "color": "#636efa",
          "symbol": "circle"
         },
         "mode": "markers+text",
         "name": "",
         "scene": "scene",
         "showlegend": false,
         "text": [
          "person",
          "organization",
          "location",
          "concept",
          "product",
          "variable",
          "date",
          "medical condition",
          "object",
          "technology",
          "chemical",
          "software",
          "event",
          "number",
          "disease",
          "attribute",
          "protein",
          "group",
          "material",
          "measurement",
          "other",
          "function",
          "entity type",
          "nationality",
          "country",
          "class",
          "process",
          "title",
          "animal",
          "component",
          "condition",
          "substance",
          "food",
          "city",
          "activity",
          "type",
          "company",
          "time",
          "method",
          "property",
          "organism",
          "drug",
          "medical procedure",
          "treatment",
          "profession",
          "cell type",
          "anatomical structure",
          "job title",
          "data",
          "quantity",
          "sports team",
          "biological process",
          "data type",
          "programming language",
          "occupation",
          "file",
          "body part",
          "medical treatment",
          "language",
          "chemical compound",
          "entity",
          "gene",
          "state",
          "law",
          "action",
          "website",
          "library",
          "facility",
          "publication",
          "tool",
          "field of study",
          "compound",
          "document",
          "organ",
          "abbreviation",
          "character",
          "brand",
          "device",
          "operating system",
          "service",
          "technique",
          "miscellaneous",
          "species",
          "symptom",
          "task",
          "category",
          "parameter",
          "movie",
          "molecule",
          "political party",
          "procedure",
          "sport",
          "equipment",
          "team",
          "biological entity",
          "book",
          "region",
          "medical test",
          "anatomical_structure",
          "anatomy",
          "module",
          "hardware",
          "place",
          "characteristic",
          "plant",
          "biomolecule",
          "field",
          "award",
          "tv show",
          "gender",
          "feature",
          "program",
          "enzyme",
          "structure",
          "phenomenon",
          "industry",
          "license",
          "ethnicity",
          "system",
          "value",
          "age",
          "time period",
          "element",
          "topic",
          "color",
          "unit",
          "virus",
          "religion",
          "sports league",
          "band",
          "vehicle",
          "ingredient",
          "media",
          "factor",
          "tissue",
          "crime",
          "village",
          "year",
          "demographic",
          "medical equipment",
          "namespace",
          "skill",
          "anatomical entity",
          "model",
          "position",
          "medical concept",
          "song",
          "video game",
          "test",
          "data structure",
          "album",
          "string",
          "part",
          "medical term",
          "package",
          "org",
          "command",
          "building",
          "currency",
          "noun",
          "cell",
          "medical device",
          "trait",
          "age group",
          "county",
          "invention",
          "column",
          "url",
          "outcome",
          "family",
          "html tag",
          "database",
          "business",
          "study",
          "author",
          "text",
          "information",
          "cell line",
          "genus",
          "letter",
          "patent",
          "application",
          "physical quantity",
          "item",
          "duration",
          "programming concept",
          "constant",
          "cryptocurrency",
          "tag",
          "protocol",
          "medication",
          "educational institution",
          "version",
          "resource",
          "film",
          "policy",
          "quality",
          "particle",
          "directory",
          "subject",
          "cellular component",
          "project",
          "work of art",
          "town",
          "table",
          "research",
          "hormone",
          "legal",
          "genre",
          "problem",
          "file format",
          "province",
          "disorder",
          "acronym",
          "biological",
          "genetic variation",
          "issue",
          "instrument",
          "biological_process",
          "ordinal",
          "statistic",
          "import",
          "framework",
          "clothing",
          "financial",
          "district",
          "fictional character",
          "body_part",
          "education",
          "competition",
          "nutrient",
          "government",
          "behavior",
          "weapon",
          "apparatus",
          "emotion",
          "general",
          "demonym",
          "interface",
          "money",
          "communication",
          "group of people",
          "keyword",
          "adjective",
          "game",
          "court",
          "amino acid",
          "misc",
          "transportation",
          "medical facility",
          "gpe",
          "term",
          "signal",
          "effect",
          "legal term",
          "email",
          "actor",
          "identifier",
          "degree",
          "culture",
          "platform",
          "format",
          "shape",
          "algorithm",
          "entity type not specified",
          "image",
          "cell component",
          "planet",
          "physical object",
          "bacteria",
          "music genre",
          "gene/protein",
          "restaurant",
          "surname",
          "direction",
          "css property",
          "machine",
          "therapy",
          "code",
          "legal citation",
          "name",
          "html element",
          "integer",
          "deity",
          "sports event",
          "people",
          "measure",
          "plant part",
          "error",
          "medical_condition",
          "reference",
          "symbol",
          "holiday",
          "artist",
          "population",
          "mutation",
          "source",
          "department",
          "section",
          "medical",
          "health condition",
          "chemical substance",
          "furniture",
          "metric",
          "folder",
          "percentage",
          "tv series",
          "address",
          "river",
          "weather",
          "aspect",
          "school",
          "continent",
          "biomarker",
          "season",
          "medical measurement",
          "cardinal",
          "physical property",
          "course",
          "size",
          "work_of_art",
          "mathematical concept",
          "role",
          "legal document",
          "cytokine",
          "legal case",
          "relationship",
          "musical instrument",
          "cause",
          "microorganism",
          "energy",
          "medium",
          "commodity",
          "university",
          "configuration",
          "work",
          "list",
          "data format",
          "status",
          "network",
          "file type",
          "tournament",
          "living organism",
          "venue",
          "art",
          "contact",
          "unknown",
          "governmental body",
          "pronoun",
          "geopolitical entity",
          "anatomicalstructure",
          "musical group",
          "biological molecule",
          "newspaper",
          "natural disaster",
          "landmark",
          "government body",
          "scientific concept",
          "radio station",
          "norp",
          "tv network",
          "geographic location",
          "dish",
          "unit of measurement",
          "job",
          "road",
          "operation",
          "environment",
          "ship",
          "celestial body",
          "patient",
          "strain",
          "street",
          "setting",
          "style",
          "job_title",
          "agreement",
          "option",
          "magazine",
          "file name",
          "marker",
          "header file",
          "creative work",
          "appliance",
          "religious group",
          "user interface element",
          "domain",
          "related art",
          "creature",
          "league",
          "ability",
          "mechanism",
          "user",
          "month",
          "design",
          "government agency",
          "boolean",
          "journal",
          "governmental organization",
          "entertainment",
          "verb",
          "bacterium",
          "register",
          "sequence",
          "specific",
          "methodology",
          "military unit",
          "municipality",
          "struct",
          "set",
          "figure",
          "label",
          "township",
          "pattern",
          "idea",
          "real estate",
          "ethnic group",
          "artifact",
          "organisation",
          "social group",
          "html attribute",
          "chemical_substance",
          "room",
          "aircraft",
          "biological sample",
          "financial term",
          "metabolite",
          "highway",
          "medicalcondition",
          "antibody",
          "music group",
          "political group",
          "operator",
          "description",
          "race",
          "store",
          "stage",
          "brain region",
          "body fluid",
          "container",
          "mineral",
          "ui element",
          "nickname",
          "athlete",
          "patient group",
          "neighborhood",
          "electronic device",
          "route",
          "protein domain",
          "science",
          "beverage",
          "standard",
          "hotel",
          "club",
          "fieldterminology"
         ],
         "type": "scatter3d",
         "x": [
          -0.15910302102565765,
          -0.44834429025650024,
          -0.35262444615364075,
          -0.1335984617471695,
          0.14023613929748535,
          0.4265941083431244,
          -0.3740745186805725,
          -0.41014364361763,
          -0.013926711864769459,
          -0.07662639021873474,
          0.8832110166549683,
          -0.011066592298448086,
          -0.4978245794773102,
          -0.303200364112854,
          0.8064558506011963,
          -0.01876896806061268,
          2.6474404335021973,
          -0.4022147059440613,
          -0.006620944011956453,
          0.3253311514854431,
          -0.3960587978363037,
          0.23815856873989105,
          -0.003814517054706812,
          -0.08432614058256149,
          -0.459320068359375,
          -0.3434547781944275,
          -0.07061884552240372,
          -0.460437148809433,
          0.28281858563423157,
          0.11501573026180267,
          -0.31875380873680115,
          0.3949175179004669,
          -0.23010322451591492,
          -0.6623240113258362,
          0.006561593618243933,
          0.08881025016307831,
          -0.34015193581581116,
          -0.42547667026519775,
          0.34631669521331787,
          -0.47683826088905334,
          1.964509129524231,
          0.21368888020515442,
          -0.2648784816265106,
          -0.03830910474061966,
          -0.3595678508281708,
          0.6689409613609314,
          0.49072641134262085,
          -0.534382164478302,
          0.128689706325531,
          0.0529680997133255,
          -0.48794108629226685,
          0.5266613960266113,
          0.1087498590350151,
          -0.16753634810447693,
          -0.3192354440689087,
          -0.11828088760375977,
          -0.14560675621032715,
          -0.2699202597141266,
          -0.09723281115293503,
          0.6673994660377502,
          -0.09643874317407608,
          2.955928087234497,
          -0.5605273842811584,
          -0.4024054706096649,
          -0.4391765892505646,
          -0.38488441705703735,
          -0.43467244505882263,
          -0.38502076268196106,
          -0.36592942476272583,
          0.06482727825641632,
          -0.04044453427195549,
          0.451587975025177,
          -0.24751600623130798,
          0.3469381332397461,
          0.5305983424186707,
          -0.05778925493359566,
          -0.26489296555519104,
          0.21242216229438782,
          -0.24144092202186584,
          -0.5575782656669617,
          0.5994403958320618,
          -0.33022165298461914,
          1.0328199863433838,
          0.39207378029823303,
          -0.31451714038848877,
          -0.3312193751335144,
          0.9356662034988403,
          -0.39808252453804016,
          2.7940797805786133,
          -0.4735671281814575,
          -0.0282243974506855,
          -0.2708934247493744,
          -0.4536115825176239,
          -0.3982027471065521,
          0.5137518644332886,
          -0.3368696868419647,
          -0.3815026581287384,
          -0.2476511150598526,
          0.49072596430778503,
          0.47321927547454834,
          0.42395472526550293,
          -0.16283635795116425,
          -0.573050320148468,
          0.41833722591400146,
          0.027309847995638847,
          1.8738154172897339,
          -0.24962817132472992,
          -0.6285645365715027,
          -0.3997756838798523,
          0.17668065428733826,
          -0.22017796337604523,
          -0.4926128685474396,
          3.1829721927642822,
          0.030174683779478073,
          0.06672624498605728,
          -0.303642213344574,
          -0.22839437425136566,
          0.13019059598445892,
          -0.1886681467294693,
          -0.1865493357181549,
          -0.2862182557582855,
          -0.38018330931663513,
          0.061546698212623596,
          -0.3598642945289612,
          0.1368669867515564,
          -0.30472531914711,
          1.059989094734192,
          -0.014999295584857464,
          -0.537676215171814,
          -0.38674747943878174,
          -0.29296332597732544,
          0.673900306224823,
          -0.5668402910232544,
          0.06028497591614723,
          1.3837374448776245,
          -0.4306398332118988,
          -0.4990100562572479,
          -0.5529521107673645,
          -0.18005061149597168,
          -0.4775717854499817,
          1.307957649230957,
          -0.2011616975069046,
          0.4274192154407501,
          -0.1364983320236206,
          -0.4653463065624237,
          -0.317565381526947,
          -0.12391138821840286,
          -0.42622002959251404,
          0.006230136379599571,
          0.07943236827850342,
          -0.2456340789794922,
          -0.3683949112892151,
          -0.44830718636512756,
          -0.4393267333507538,
          -0.38906386494636536,
          -0.16350938379764557,
          -0.4478016197681427,
          -0.4913446307182312,
          -0.06762714684009552,
          0.5283194184303284,
          1.2490710020065308,
          -0.14455518126487732,
          0.6543832421302795,
          -0.344216525554657,
          -0.4571443796157837,
          0.08421781659126282,
          -0.30954834818840027,
          0.6696922183036804,
          -0.22251169383525848,
          -0.45882031321525574,
          0.2635437250137329,
          0.2627493441104889,
          -0.5501685738563538,
          0.16873905062675476,
          -0.07511816173791885,
          -0.0045118252746760845,
          -0.22764858603477478,
          0.41790810227394104,
          1.2957749366760254,
          -0.3759109079837799,
          0.40367627143859863,
          0.04544670134782791,
          -0.08390817791223526,
          -0.12040524929761887,
          0.07130973041057587,
          -0.18571864068508148,
          -0.31598493456840515,
          0.1180897131562233,
          -0.050157442688941956,
          0.15312276780605316,
          0.3845226466655731,
          -0.4481698274612427,
          -0.2023259401321411,
          -0.1945866495370865,
          -0.38709914684295654,
          -0.44220760464668274,
          -0.3072349429130554,
          1.5246413946151733,
          0.020402362570166588,
          -0.33277401328086853,
          0.3967650234699249,
          -0.4735899865627289,
          -0.44312918186187744,
          -0.7325437664985657,
          -0.4880916476249695,
          0.12882933020591736,
          1.8734594583511353,
          -0.42942801117897034,
          -0.035812411457300186,
          -0.25223779678344727,
          -0.17181910574436188,
          -0.3818630576133728,
          0.4279806315898895,
          0.2835286557674408,
          1.1239417791366577,
          1.0963860750198364,
          -0.384944349527359,
          0.048522595316171646,
          0.5266615152359009,
          0.5969426035881042,
          -0.26542413234710693,
          -0.09618407487869263,
          -0.1282312273979187,
          -0.3671867549419403,
          -0.5011711716651917,
          -0.7019643187522888,
          -0.24214452505111694,
          -0.14560669660568237,
          -0.6053275465965271,
          -0.5226377844810486,
          1.4586350917816162,
          -0.4262111783027649,
          0.03680713102221489,
          0.016115060076117516,
          -0.04452041536569595,
          0.10889022052288055,
          -0.6425064206123352,
          -0.32700222730636597,
          0.4648478329181671,
          -0.5906775593757629,
          -0.4017333686351776,
          -0.4172844886779785,
          0.7250701189041138,
          0.1460992693901062,
          -0.4108642339706421,
          -0.47041985392570496,
          1.2754268646240234,
          -0.250698983669281,
          -0.5092602372169495,
          -0.4432764947414398,
          -0.11734002828598022,
          -0.37712058424949646,
          0.067385233938694,
          -0.0349435992538929,
          -0.4032740592956543,
          -0.22665731608867645,
          -0.3866957724094391,
          0.5154451131820679,
          -0.32665470242500305,
          -0.15074874460697174,
          -0.13358943164348602,
          -0.22535783052444458,
          -0.25927218794822693,
          1.1831082105636597,
          -0.09208297729492188,
          -0.27803879976272583,
          0.6820433735847473,
          0.25106677412986755,
          -0.11735574156045914,
          2.0246026515960693,
          -0.2851859927177429,
          2.8016841411590576,
          -0.6166875958442688,
          0.06109645590186119,
          -0.5008718371391296,
          -0.024559326469898224,
          -0.03561145439743996,
          0.5123070478439331,
          0.23290668427944183,
          -0.341724157333374,
          -0.3091537058353424,
          0.3193958103656769,
          1.5184053182601929,
          0.06521578133106232,
          -0.5377520322799683,
          -0.43235453963279724,
          -0.17284037172794342,
          -0.21049867570400238,
          0.2008223533630371,
          -0.4101432263851166,
          -0.14858277142047882,
          0.0406106673181057,
          -0.6970361471176147,
          -0.3562457859516144,
          -0.08021731674671173,
          2.2364354133605957,
          -0.19008010625839233,
          -0.5838193297386169,
          -0.33384642004966736,
          -0.5015325546264648,
          -0.35875973105430603,
          0.6390641331672668,
          -0.5733997225761414,
          0.21588949859142303,
          0.4879453778266907,
          -0.22326670587062836,
          -0.4158187806606293,
          -0.4761386513710022,
          -0.1909905970096588,
          -0.3906703591346741,
          -0.24135810136795044,
          -0.6587542295455933,
          -0.10984928160905838,
          2.2432971000671387,
          -0.4109804332256317,
          -0.08810049295425415,
          -0.06379348039627075,
          -0.34881147742271423,
          -0.47012263536453247,
          -0.09027876704931259,
          -0.44312912225723267,
          0.20627501606941223,
          -0.259417861700058,
          -0.3384719789028168,
          2.79433274269104,
          -0.36356276273727417,
          -0.3585447072982788,
          -0.0899919643998146,
          -0.05267958343029022,
          2.1710667610168457,
          -0.22981145977973938,
          -0.2450362741947174,
          -0.028062930330634117,
          -0.5158816576004028,
          0.3181273937225342,
          -0.4343523681163788,
          -0.3893708884716034,
          -0.048334039747714996,
          -0.4187425971031189,
          -0.2707497179508209,
          -0.014735286124050617,
          -0.5397019386291504,
          0.7378177046775818,
          -0.573384165763855,
          -0.4519064426422119,
          -0.40217557549476624,
          -0.033784858882427216,
          -0.10644453763961792,
          0.3514925241470337,
          -0.1484859734773636,
          0.4907262921333313,
          -0.31536081433296204,
          1.9590102434158325,
          -0.6475682258605957,
          -0.08187117427587509,
          -0.5125892758369446,
          -0.1345588117837906,
          0.04582855850458145,
          -0.5524597764015198,
          -0.3419541120529175,
          -0.2857836186885834,
          -0.12137619405984879,
          0.026751188561320305,
          0.010303271934390068,
          -0.6083283424377441,
          -0.5985731482505798,
          -0.30634552240371704,
          -0.2106197327375412,
          -0.3101827800273895,
          0.16006436944007874,
          0.1398247927427292,
          0.3093896210193634,
          -0.5649732351303101,
          -0.52262282371521,
          -0.43831515312194824,
          -0.5343821048736572,
          -0.3877051770687103,
          -0.34116029739379883,
          -0.5616223812103271,
          -0.21371731162071228,
          0.4166087508201599,
          -0.016131343320012093,
          -0.36668887734413147,
          -0.08537883311510086,
          -0.37533771991729736,
          0.2910091280937195,
          0.1918538361787796,
          -0.37051519751548767,
          0.35948997735977173,
          -0.4976727068424225,
          -0.08372269570827484,
          0.6930251717567444,
          0.3466329276561737,
          -0.5349154472351074,
          -0.13804395496845245,
          -0.43085116147994995,
          1.0448153018951416,
          0.016326148062944412,
          -0.4091636836528778,
          -0.6485937833786011,
          0.48672473430633545,
          2.434777021408081,
          -0.5000947713851929,
          0.539078950881958,
          0.09846744686365128,
          0.18117260932922363,
          -0.3825029134750366,
          -0.4603564441204071,
          0.7638249397277832,
          -0.5509635210037231,
          -0.3959607481956482,
          -0.1105249747633934,
          -0.5825771689414978,
          0.19840842485427856,
          -0.40996888279914856,
          -0.39993253350257874,
          -0.1922394037246704,
          0.19877229630947113,
          -0.4483445882797241,
          -0.37947919964790344,
          0.27923792600631714,
          0.6390641331672668,
          -0.3534091114997864,
          -0.1415519118309021,
          0.7600458264350891,
          -0.43914589285850525,
          2.4094064235687256,
          -0.48748326301574707,
          -0.41014325618743896,
          2.6576037406921387,
          -0.4683873951435089,
          -0.42735859751701355,
          -0.3783118426799774,
          -0.2854020297527313,
          -0.444591224193573,
          -0.42653289437294006,
          -0.23164649307727814,
          0.27951350808143616,
          0.3221276104450226,
          0.14685992896556854,
          0.23280438780784607,
          0.16729243099689484,
          -0.29395192861557007,
          -0.06182160601019859,
          -0.1311952769756317,
          -0.47024068236351013,
          -0.029533959925174713,
          -0.302753746509552,
          1.4196463823318481,
          -0.11170127987861633,
          -0.13820640742778778,
          -0.17015871405601501,
          -0.6030755639076233,
          -0.6056668162345886,
          -0.044061079621315
         ],
         "y": [
          -0.1027664765715599,
          -0.12989237904548645,
          0.2720828652381897,
          0.49527180194854736,
          0.11134704947471619,
          0.5661591291427612,
          0.19456546008586884,
          -0.7968631386756897,
          0.5638276934623718,
          0.05521826446056366,
          -0.8633493185043335,
          0.548828661441803,
          -0.09888258576393127,
          0.06157219409942627,
          -1.0119719505310059,
          0.459870308637619,
          -0.7361478209495544,
          -0.3406006991863251,
          0.027321593835949898,
          0.48891526460647583,
          -0.2526842951774597,
          0.23799006640911102,
          0.2674202024936676,
          0.2299463003873825,
          -0.3501419425010681,
          -0.15761083364486694,
          -0.002300917636603117,
          0.2668958008289337,
          -0.5928191542625427,
          0.34786349534988403,
          -0.6352486610412598,
          -0.1812075674533844,
          -0.5594801902770996,
          -0.5837453603744507,
          -0.1611434519290924,
          0.23448388278484344,
          -0.23200833797454834,
          -0.14867790043354034,
          0.6778121590614319,
          -0.2505544126033783,
          -0.49937278032302856,
          -0.7202649712562561,
          -0.4460742771625519,
          -0.8821293711662292,
          -0.23165950179100037,
          -0.3160881996154785,
          0.055640511214733124,
          0.005533074494451284,
          0.5436148047447205,
          -0.155459925532341,
          -0.2794228792190552,
          -0.4498712718486786,
          0.38904932141304016,
          0.3888324797153473,
          0.07350348681211472,
          0.661325216293335,
          -0.3038601279258728,
          -0.9203035831451416,
          0.4993569552898407,
          -0.6902855634689331,
          0.3003564476966858,
          -0.844692051410675,
          -0.48278507590293884,
          -0.18185777962207794,
          -0.1437171995639801,
          0.4049743711948395,
          -0.05072714015841484,
          -0.46135199069976807,
          0.06577147543430328,
          0.787034809589386,
          -0.3983002305030823,
          -0.5172234773635864,
          0.3897119462490082,
          -0.41866639256477356,
          1.7256296873092651,
          0.17498669028282166,
          0.2553812563419342,
          0.2618086338043213,
          0.04866759851574898,
          -0.03524501994252205,
          0.20781947672367096,
          0.17095428705215454,
          -0.2368643432855606,
          -0.04269622266292572,
          0.0761224702000618,
          0.37717798352241516,
          1.396514892578125,
          -0.13831883668899536,
          -0.4776184558868408,
          -0.22891582548618317,
          0.06632829457521439,
          -0.26781120896339417,
          -0.2771638333797455,
          -0.29504144191741943,
          -0.29854241013526917,
          0.01715654507279396,
          -0.463022917509079,
          -0.5729673504829407,
          0.05564044415950775,
          -0.14478285610675812,
          0.9171788096427917,
          0.3359498083591461,
          -0.09006588906049728,
          0.28138959407806396,
          -0.679029107093811,
          0.021774720400571823,
          -0.38430270552635193,
          0.0178497526794672,
          0.09741640836000443,
          -0.06738222390413284,
          0.49617576599121094,
          -0.031263481825590134,
          -1.0924235582351685,
          0.181411474943161,
          0.12132132798433304,
          -0.17008893191814423,
          0.18469804525375366,
          -0.01739393174648285,
          0.28876227140426636,
          0.20009756088256836,
          -0.38808950781822205,
          -0.14950281381607056,
          0.40571996569633484,
          0.3307221829891205,
          0.19578804075717926,
          -0.14754286408424377,
          -0.5147078037261963,
          -0.09508226066827774,
          -0.3136892020702362,
          -0.08643786609172821,
          -0.28636425733566284,
          0.047836173325777054,
          -0.14842656254768372,
          0.05614662915468216,
          -0.8724316358566284,
          -0.31751587986946106,
          -0.6017284989356995,
          -0.38687217235565186,
          0.09213972836732864,
          -0.6178209185600281,
          2.138253688812256,
          0.07083093374967575,
          0.11511310189962387,
          0.32173290848731995,
          0.0889754593372345,
          -0.23160326480865479,
          0.2706303894519806,
          -0.0599735826253891,
          -0.18745648860931396,
          0.36251315474510193,
          0.0005641562165692449,
          0.02432619407773018,
          -0.12829245626926422,
          -0.5613585710525513,
          0.11548580974340439,
          0.8392616510391235,
          0.2579890489578247,
          -0.344684898853302,
          0.1494470238685608,
          1.2838765382766724,
          -0.8666602969169617,
          -0.3483346998691559,
          0.11955410987138748,
          -0.3643452227115631,
          -0.48166701197624207,
          0.20994751155376434,
          0.32999664545059204,
          1.9406685829162598,
          -0.2174927294254303,
          -0.5655897259712219,
          1.2949602603912354,
          0.8894277215003967,
          -0.21492916345596313,
          -0.41229745745658875,
          -0.23169001936912537,
          1.0856987237930298,
          0.17602604627609253,
          -0.398550420999527,
          0.3133211135864258,
          0.053618378937244415,
          0.24410973489284515,
          0.4555986225605011,
          -0.28221163153648376,
          0.6327894330024719,
          0.09845858067274094,
          0.38678959012031555,
          -0.12461862713098526,
          0.414764404296875,
          0.878962516784668,
          0.5409192442893982,
          -0.7704031467437744,
          -0.2710760533809662,
          0.5828890204429626,
          0.10268410295248032,
          -0.34078025817871094,
          -0.02079109475016594,
          -0.24535788595676422,
          -0.064304418861866,
          0.9574754238128662,
          0.15180125832557678,
          -0.14489226043224335,
          -0.17325329780578613,
          -0.17083704471588135,
          -0.5287286639213562,
          0.0923653393983841,
          -0.47593042254447937,
          -1.1973323822021484,
          -0.40190622210502625,
          0.3727402985095978,
          -0.04869384318590164,
          0.8594953417778015,
          -0.49981409311294556,
          -0.6957966685295105,
          1.5222837924957275,
          -0.8974412679672241,
          -0.14097198843955994,
          -0.023637404665350914,
          0.47102516889572144,
          -0.44987112283706665,
          1.234553337097168,
          0.4113401770591736,
          0.0990612804889679,
          0.5001235008239746,
          -0.2908428907394409,
          -0.3813985288143158,
          -0.5288445353507996,
          0.11429822444915771,
          -0.303860068321228,
          -0.5253340601921082,
          -0.2596219778060913,
          -0.731381356716156,
          -0.47223523259162903,
          -0.21453054249286652,
          -0.01794831082224846,
          0.008210418745875359,
          -0.13137014210224152,
          -0.2156074494123459,
          -0.43441641330718994,
          1.2783174514770508,
          -0.21292021870613098,
          0.0010018598986789584,
          -0.37896671891212463,
          1.5712544918060303,
          1.0875186920166016,
          -0.21617861092090607,
          -0.5652889609336853,
          -0.29285144805908203,
          1.1116164922714233,
          -0.5263805985450745,
          -0.7099155187606812,
          0.19415679574012756,
          -0.1642398238182068,
          0.11498022079467773,
          -0.1730974316596985,
          -0.28307318687438965,
          0.7688069343566895,
          -0.2827538549900055,
          1.8246679306030273,
          -0.1721877157688141,
          -0.2578437030315399,
          0.530055582523346,
          1.0576658248901367,
          -0.1762261688709259,
          1.3393651247024536,
          0.2175508439540863,
          0.3864496350288391,
          -0.25939831137657166,
          -0.2599499225616455,
          0.0774322971701622,
          -1.1181974411010742,
          0.14712274074554443,
          -0.7904197573661804,
          -0.332905113697052,
          0.7190269827842712,
          -0.010288632474839687,
          0.5735679268836975,
          0.17723940312862396,
          -0.620719313621521,
          1.0411173105239868,
          -0.1294930875301361,
          0.6404573321342468,
          1.0583394765853882,
          1.8784193992614746,
          0.1873163878917694,
          -0.18134340643882751,
          -0.41733255982398987,
          0.054255276918411255,
          -0.4036606550216675,
          0.5787744522094727,
          -0.7968636751174927,
          0.6977524757385254,
          0.7383962869644165,
          -0.22721931338310242,
          0.020992286503314972,
          -0.5978763699531555,
          -0.5999501347541809,
          0.12828361988067627,
          -0.46586114168167114,
          0.17393335700035095,
          -0.9584780931472778,
          -0.7896801829338074,
          -0.5222784280776978,
          -0.27374550700187683,
          0.9502875208854675,
          1.343048095703125,
          0.037891924381256104,
          0.14976847171783447,
          0.221284881234169,
          -0.6220061182975769,
          -0.3312198221683502,
          0.14229843020439148,
          -0.4532112181186676,
          -0.2068423181772232,
          -0.4563315808773041,
          -0.3353534936904907,
          -0.23478099703788757,
          0.021317342296242714,
          -0.329758882522583,
          -0.0695873573422432,
          0.06848720461130142,
          -0.17083700001239777,
          0.39868178963661194,
          -0.17964884638786316,
          -0.006097148638218641,
          -1.0552881956100464,
          -0.2865990400314331,
          -0.13813745975494385,
          0.0926751047372818,
          -0.19248457252979279,
          -0.6580163240432739,
          -0.3530683219432831,
          0.17203174531459808,
          -0.026430901139974594,
          -0.5341935157775879,
          0.9997459053993225,
          -0.26485931873321533,
          0.27232590317726135,
          0.8006404638290405,
          0.17895206809043884,
          0.03695054352283478,
          0.4479045867919922,
          -0.3222925066947937,
          -0.5493918657302856,
          -0.030861355364322662,
          -0.0768144279718399,
          -0.04789304733276367,
          -0.12437120825052261,
          -0.45034658908843994,
          1.5441604852676392,
          0.11697669327259064,
          0.05564053729176521,
          -0.31313759088516235,
          -0.6875301003456116,
          -0.37128886580467224,
          -0.3134772777557373,
          -0.23582398891448975,
          -0.4758317172527313,
          0.043933138251304626,
          -0.12243977934122086,
          -0.2766916751861572,
          0.18367953598499298,
          0.22695596516132355,
          0.04678422212600708,
          0.17068664729595184,
          -0.2558295726776123,
          -0.45671021938323975,
          -0.30562886595726013,
          -0.22596333920955658,
          -0.12778425216674805,
          -0.2219213843345642,
          -0.5761570334434509,
          -0.3430836498737335,
          -0.2962132692337036,
          -0.16005660593509674,
          0.26019662618637085,
          0.005533068906515837,
          -0.018932629376649857,
          0.38033682107925415,
          -0.0045737153850495815,
          0.650891125202179,
          0.23603220283985138,
          0.5166577100753784,
          -0.1676969677209854,
          0.4347749650478363,
          -0.37726080417633057,
          0.8201668858528137,
          0.8905113935470581,
          -0.12274368852376938,
          -0.11763390898704529,
          -0.3635737895965576,
          -0.05041185021400452,
          0.36567065119743347,
          0.7764638066291809,
          -0.293244868516922,
          0.20505599677562714,
          -0.3547358810901642,
          1.9685139656066895,
          -0.05152779817581177,
          -0.27557823061943054,
          -0.24344360828399658,
          1.5017073154449463,
          -0.9341886639595032,
          0.218309685587883,
          0.33328181505203247,
          0.2600151002407074,
          0.8421897292137146,
          -0.24266581237316132,
          -0.5685782432556152,
          1.6132882833480835,
          -0.08471616357564926,
          0.0880584865808487,
          0.32905006408691406,
          -0.5970227122306824,
          0.3500187397003174,
          0.12975820899009705,
          -0.2204245775938034,
          -0.3180846571922302,
          0.4520910680294037,
          -0.12989148497581482,
          -0.2885323464870453,
          1.085415005683899,
          -0.5222784280776978,
          -0.10753604769706726,
          -0.4105510711669922,
          -0.34684887528419495,
          -0.2728192210197449,
          -0.3269844055175781,
          -0.516502857208252,
          -0.7968637347221375,
          -0.6696863770484924,
          -0.20954780280590057,
          -0.33739176392555237,
          0.03296399116516113,
          0.6791121363639832,
          -0.1670788675546646,
          -0.23253194987773895,
          -0.337007611989975,
          -0.565456211566925,
          -0.3604621887207031,
          0.022058837115764618,
          -0.48578137159347534,
          0.7822231650352478,
          0.6397367715835571,
          -0.42501047253608704,
          -0.45837873220443726,
          -0.47592732310295105,
          0.21159522235393524,
          0.04881544038653374,
          0.07718168944120407,
          -0.414478063583374,
          -0.43983787298202515,
          0.5348806381225586,
          -0.42009082436561584,
          -0.3261028230190277,
          0.295703262090683
         ],
         "z": [
          0.28453224897384644,
          0.16650550067424774,
          -0.20468345284461975,
          0.09084257483482361,
          -0.6273683905601501,
          -0.3932410180568695,
          0.04530845955014229,
          -0.12807747721672058,
          0.02273174375295639,
          -0.907193124294281,
          -0.5450461506843567,
          -1.0924004316329956,
          0.08901656419038773,
          0.049001507461071014,
          0.4458499848842621,
          0.367713987827301,
          -0.056632816791534424,
          0.1280858814716339,
          -0.3938246965408325,
          -0.8836154341697693,
          -0.07259941846132278,
          -0.37725067138671875,
          0.11484166234731674,
          1.2312315702438354,
          0.19322220981121063,
          0.19703823328018188,
          -0.48033735156059265,
          0.7311894297599792,
          -0.034252576529979706,
          -0.5048173666000366,
          0.18627476692199707,
          0.2389494627714157,
          -0.11112876236438751,
          0.08966998010873795,
          -0.3141847550868988,
          0.09722629934549332,
          -0.4553414583206177,
          0.09829948842525482,
          -0.22111882269382477,
          -0.22523953020572662,
          0.37516698241233826,
          -0.1714794635772705,
          -0.38825729489326477,
          -0.21869556605815887,
          0.5642110109329224,
          -0.25225359201431274,
          -0.05526024103164673,
          0.417489618062973,
          -1.2216771841049194,
          -0.24304944276809692,
          0.22047503292560577,
          -0.2377002239227295,
          -0.562225341796875,
          0.19489282369613647,
          0.3652709424495697,
          -0.59146648645401,
          0.1340780109167099,
          -0.33056214451789856,
          0.6183542609214783,
          -0.452235609292984,
          0.13245660066604614,
          0.6223216652870178,
          0.013234385289251804,
          0.07223305851221085,
          0.08585169911384583,
          -0.16181053221225739,
          -0.35925471782684326,
          -0.7365739941596985,
          0.06692355871200562,
          -0.68599933385849,
          -0.09162908047437668,
          -0.3594250977039337,
          -0.4074229598045349,
          -0.056081585586071014,
          0.9838805198669434,
          0.8652989864349365,
          0.23345151543617249,
          -1.1598529815673828,
          -0.6987822651863098,
          -0.6108579039573669,
          0.016713790595531464,
          -0.46339476108551025,
          0.8253188133239746,
          0.313103586435318,
          0.0984971821308136,
          0.37663084268569946,
          -0.4639508128166199,
          0.4400867819786072,
          -0.21271702647209167,
          0.2026025354862213,
          -0.3340853452682495,
          0.717478334903717,
          -1.0439914464950562,
          0.19184327125549316,
          0.06869662553071976,
          0.4073607325553894,
          0.01223312970250845,
          -0.4201401174068451,
          -0.05525994673371315,
          0.35970523953437805,
          -1.263266682624817,
          -0.9109083414077759,
          0.14602543413639069,
          0.6664919853210449,
          -0.5808731317520142,
          -0.5732664465904236,
          -0.039589375257492065,
          0.24169960618019104,
          0.04525405168533325,
          0.7990162968635559,
          -0.03013436309993267,
          -0.3543064594268799,
          -0.015286573208868504,
          -0.25606584548950195,
          0.8025521039962769,
          -0.49124351143836975,
          -0.45404917001724243,
          0.9617575407028198,
          -0.7896832823753357,
          -0.22212965786457062,
          0.5618413090705872,
          0.04627295210957527,
          0.163947194814682,
          0.4731731712818146,
          0.3500670790672302,
          -0.6522971987724304,
          0.2145552933216095,
          0.9683396220207214,
          0.37843793630599976,
          0.3677332401275635,
          -0.5489071011543274,
          0.3128993809223175,
          0.05207344889640808,
          0.2738625705242157,
          -0.509513258934021,
          0.23713481426239014,
          0.2489258497953415,
          0.1545247733592987,
          0.40372949838638306,
          -0.7432104349136353,
          -0.33380863070487976,
          0.25794610381126404,
          0.1390010565519333,
          -0.2033088058233261,
          0.2265806645154953,
          -0.17579326033592224,
          0.8497286438941956,
          -0.012488299049437046,
          -0.397850900888443,
          -0.7388712763786316,
          0.7707164883613586,
          0.11777240037918091,
          0.13882896304130554,
          -0.1697245091199875,
          -0.532522439956665,
          0.2608357071876526,
          -0.01598011702299118,
          -0.3835567831993103,
          -0.03254183381795883,
          1.0826191902160645,
          -0.6017333269119263,
          -0.8011408448219299,
          1.0924278497695923,
          0.3449634313583374,
          -0.06835729628801346,
          0.06149278208613396,
          0.4761570990085602,
          -0.1771295964717865,
          0.23963254690170288,
          0.21768386662006378,
          -0.044568222016096115,
          -0.8336572051048279,
          -0.3855387568473816,
          -0.14366887509822845,
          0.635141134262085,
          0.07678603380918503,
          -0.6637895107269287,
          -0.3558509945869446,
          1.4562480449676514,
          0.13206350803375244,
          -0.729225218296051,
          -0.7842121124267578,
          -0.1518091857433319,
          0.040403060615062714,
          -0.09064074605703354,
          -0.06886347383260727,
          -0.07578590512275696,
          -0.10830215364694595,
          0.33204206824302673,
          -0.5695645213127136,
          -0.2327163964509964,
          -0.04907071962952614,
          0.09485448151826859,
          -0.5307303071022034,
          0.43226358294487,
          -0.20015612244606018,
          -0.364420086145401,
          -0.5508168935775757,
          -0.4839347004890442,
          0.17090252041816711,
          -0.5319426655769348,
          -0.24875198304653168,
          -0.08403441309928894,
          0.2947710156440735,
          0.006331290118396282,
          -0.5029605627059937,
          0.3932919502258301,
          0.010119586251676083,
          0.8453125357627869,
          0.15552492439746857,
          -0.27398768067359924,
          0.1235368624329567,
          0.5281698107719421,
          0.9457234740257263,
          0.004936829674988985,
          0.4996336102485657,
          0.10746871680021286,
          -0.321004182100296,
          -0.23770025372505188,
          0.388119101524353,
          0.59087735414505,
          -0.02529594674706459,
          -0.36507347226142883,
          0.11056658625602722,
          -0.3695937991142273,
          0.03193173184990883,
          0.7566150426864624,
          0.1340780407190323,
          -0.007564315106719732,
          0.07398485392332077,
          -0.23393511772155762,
          -0.23531392216682434,
          0.3619466722011566,
          0.08022962510585785,
          -0.5477986335754395,
          0.4689375162124634,
          -0.06133825704455376,
          0.6278455257415771,
          -0.9988765120506287,
          -0.14896360039710999,
          -0.43398022651672363,
          0.13700971007347107,
          -0.05003064498305321,
          1.5095072984695435,
          0.1914183795452118,
          0.11311959475278854,
          0.012212355621159077,
          -0.5085011124610901,
          -0.5766212940216064,
          -0.589501678943634,
          0.02485261671245098,
          0.10297966003417969,
          -0.3533749282360077,
          0.05229471996426582,
          0.0565495528280735,
          -0.2832089960575104,
          0.7370173335075378,
          0.15768055617809296,
          0.031062979251146317,
          0.5821325778961182,
          -0.5186272263526917,
          0.04349106177687645,
          0.2920585572719574,
          -0.5961065292358398,
          -0.018349437043070793,
          0.2659829556941986,
          -0.5532758235931396,
          0.39465460181236267,
          -0.018918519839644432,
          -0.02190866880118847,
          0.5189068913459778,
          0.28284433484077454,
          0.21039868891239166,
          1.7707329988479614,
          0.1644873172044754,
          -0.1349027007818222,
          -0.6418783068656921,
          -0.20049092173576355,
          -0.3567906618118286,
          0.025446541607379913,
          0.9519698023796082,
          -0.1286156177520752,
          -0.20051905512809753,
          0.9676483869552612,
          0.16906166076660156,
          0.1459338515996933,
          -0.2745908200740814,
          -0.2210220992565155,
          -0.17437298595905304,
          -0.12807704508304596,
          0.24132013320922852,
          0.6032612323760986,
          0.0969003289937973,
          0.5823154449462891,
          0.3564130365848541,
          0.7612056136131287,
          -0.07060494273900986,
          -0.2942715585231781,
          0.12119395285844803,
          -0.4424286484718323,
          0.046137433499097824,
          -0.15304841101169586,
          -0.26683562994003296,
          -0.36430031061172485,
          -0.28352484107017517,
          0.08459846675395966,
          0.077925905585289,
          -0.15147823095321655,
          0.15111348032951355,
          -0.019202126190066338,
          0.26934346556663513,
          0.28172585368156433,
          0.3042357563972473,
          -0.2188301533460617,
          0.40441760420799255,
          -0.6630223989486694,
          0.5564039945602417,
          -0.1429043710231781,
          0.23909775912761688,
          -0.0011615771800279617,
          -0.08403441309928894,
          0.17219994962215424,
          0.4475003778934479,
          -0.19865179061889648,
          0.024861155077815056,
          0.020455170422792435,
          0.27828770875930786,
          0.0904858410358429,
          0.20383526384830475,
          0.09006736427545547,
          -0.28129446506500244,
          -0.08095034956932068,
          -0.14126352965831757,
          0.16289591789245605,
          -0.7828413844108582,
          -0.11850333958864212,
          0.14911992847919464,
          -0.589093029499054,
          0.415256142616272,
          -0.5257174372673035,
          -0.24712017178535461,
          0.4050018787384033,
          0.33796876668930054,
          0.2730278968811035,
          -0.049565479159355164,
          -0.19239702820777893,
          0.3823818862438202,
          -0.05213549733161926,
          1.497851014137268,
          0.17790770530700684,
          -0.05526014417409897,
          0.3150308132171631,
          -0.10389003902673721,
          0.19583062827587128,
          -0.031030483543872833,
          0.007200988940894604,
          -0.05299335718154907,
          -0.05078202858567238,
          -0.1735510230064392,
          0.41385507583618164,
          -0.22452689707279205,
          -0.14805878698825836,
          0.41500189900398254,
          -0.7679564952850342,
          0.1037895679473877,
          0.13845743238925934,
          -0.5976641178131104,
          -0.2772925794124603,
          -0.4942721426486969,
          0.22819750010967255,
          -0.40678510069847107,
          0.3415755033493042,
          0.20708152651786804,
          -0.13973408937454224,
          0.5513463020324707,
          0.4174897074699402,
          -0.4148801267147064,
          -0.19162490963935852,
          0.22378253936767578,
          0.18025162816047668,
          0.3069438338279724,
          -0.23569563031196594,
          0.0016973401652649045,
          -1.0844935178756714,
          0.2519250214099884,
          -0.5718978047370911,
          0.02353113517165184,
          -0.21536627411842346,
          0.7248556613922119,
          0.5077691078186035,
          -0.16400669515132904,
          -0.5714596509933472,
          -0.8807632327079773,
          -0.011518401093780994,
          -0.46940651535987854,
          -0.2024502456188202,
          -0.32001209259033203,
          0.11137904226779938,
          -0.03354628011584282,
          -0.048347800970077515,
          1.0798940658569336,
          0.25819969177246094,
          -0.15098980069160461,
          0.3411282002925873,
          -0.32587119936943054,
          -0.3673378825187683,
          -0.3750345706939697,
          0.059304021298885345,
          -0.23344464600086212,
          -0.15891848504543304,
          0.44507643580436707,
          0.2643319368362427,
          -0.04105081409215927,
          0.3014422357082367,
          0.20415331423282623,
          0.002302557462826371,
          0.42018988728523254,
          -0.04313505068421364,
          0.16650548577308655,
          0.10777788609266281,
          -0.026732012629508972,
          -0.15304841101169586,
          -0.2654604911804199,
          -0.5104330778121948,
          -0.1065276637673378,
          -0.13330702483654022,
          0.5834987163543701,
          -0.019903652369976044,
          -0.12807703018188477,
          -0.15063650906085968,
          0.16029316186904907,
          0.18307887017726898,
          -0.6016207337379456,
          0.41442301869392395,
          0.3387652039527893,
          -0.39723414182662964,
          0.09484804421663284,
          0.09100782126188278,
          -0.10401316732168198,
          -0.7229973673820496,
          -0.21680371463298798,
          -0.01234272588044405,
          1.8238294124603271,
          0.7107442617416382,
          -0.13934952020645142,
          0.28966522216796875,
          -1.0198040008544922,
          0.08881525695323944,
          -0.016550859436392784,
          -0.024357879534363747,
          -0.15060089528560638,
          -0.3848415017127991,
          -0.009432431310415268,
          0.5247904658317566,
          0.33343905210494995
         ]
        }
       ],
       "layout": {
        "legend": {
         "tracegroupgap": 0
        },
        "scene": {
         "domain": {
          "x": [
           0,
           1
          ],
          "y": [
           0,
           1
          ]
         },
         "xaxis": {
          "title": {
           "text": "x"
          }
         },
         "yaxis": {
          "title": {
           "text": "y"
          }
         },
         "zaxis": {
          "title": {
           "text": "z"
          }
         }
        },
        "template": {
         "data": {
          "bar": [
           {
            "error_x": {
             "color": "#2a3f5f"
            },
            "error_y": {
             "color": "#2a3f5f"
            },
            "marker": {
             "line": {
              "color": "#E5ECF6",
              "width": 0.5
             },
             "pattern": {
              "fillmode": "overlay",
              "size": 10,
              "solidity": 0.2
             }
            },
            "type": "bar"
           }
          ],
          "barpolar": [
           {
            "marker": {
             "line": {
              "color": "#E5ECF6",
              "width": 0.5
             },
             "pattern": {
              "fillmode": "overlay",
              "size": 10,
              "solidity": 0.2
             }
            },
            "type": "barpolar"
           }
          ],
          "carpet": [
           {
            "aaxis": {
             "endlinecolor": "#2a3f5f",
             "gridcolor": "white",
             "linecolor": "white",
             "minorgridcolor": "white",
             "startlinecolor": "#2a3f5f"
            },
            "baxis": {
             "endlinecolor": "#2a3f5f",
             "gridcolor": "white",
             "linecolor": "white",
             "minorgridcolor": "white",
             "startlinecolor": "#2a3f5f"
            },
            "type": "carpet"
           }
          ],
          "choropleth": [
           {
            "colorbar": {
             "outlinewidth": 0,
             "ticks": ""
            },
            "type": "choropleth"
           }
          ],
          "contour": [
           {
            "colorbar": {
             "outlinewidth": 0,
             "ticks": ""
            },
            "colorscale": [
             [
              0,
              "#0d0887"
             ],
             [
              0.1111111111111111,
              "#46039f"
             ],
             [
              0.2222222222222222,
              "#7201a8"
             ],
             [
              0.3333333333333333,
              "#9c179e"
             ],
             [
              0.4444444444444444,
              "#bd3786"
             ],
             [
              0.5555555555555556,
              "#d8576b"
             ],
             [
              0.6666666666666666,
              "#ed7953"
             ],
             [
              0.7777777777777778,
              "#fb9f3a"
             ],
             [
              0.8888888888888888,
              "#fdca26"
             ],
             [
              1,
              "#f0f921"
             ]
            ],
            "type": "contour"
           }
          ],
          "contourcarpet": [
           {
            "colorbar": {
             "outlinewidth": 0,
             "ticks": ""
            },
            "type": "contourcarpet"
           }
          ],
          "heatmap": [
           {
            "colorbar": {
             "outlinewidth": 0,
             "ticks": ""
            },
            "colorscale": [
             [
              0,
              "#0d0887"
             ],
             [
              0.1111111111111111,
              "#46039f"
             ],
             [
              0.2222222222222222,
              "#7201a8"
             ],
             [
              0.3333333333333333,
              "#9c179e"
             ],
             [
              0.4444444444444444,
              "#bd3786"
             ],
             [
              0.5555555555555556,
              "#d8576b"
             ],
             [
              0.6666666666666666,
              "#ed7953"
             ],
             [
              0.7777777777777778,
              "#fb9f3a"
             ],
             [
              0.8888888888888888,
              "#fdca26"
             ],
             [
              1,
              "#f0f921"
             ]
            ],
            "type": "heatmap"
           }
          ],
          "heatmapgl": [
           {
            "colorbar": {
             "outlinewidth": 0,
             "ticks": ""
            },
            "colorscale": [
             [
              0,
              "#0d0887"
             ],
             [
              0.1111111111111111,
              "#46039f"
             ],
             [
              0.2222222222222222,
              "#7201a8"
             ],
             [
              0.3333333333333333,
              "#9c179e"
             ],
             [
              0.4444444444444444,
              "#bd3786"
             ],
             [
              0.5555555555555556,
              "#d8576b"
             ],
             [
              0.6666666666666666,
              "#ed7953"
             ],
             [
              0.7777777777777778,
              "#fb9f3a"
             ],
             [
              0.8888888888888888,
              "#fdca26"
             ],
             [
              1,
              "#f0f921"
             ]
            ],
            "type": "heatmapgl"
           }
          ],
          "histogram": [
           {
            "marker": {
             "pattern": {
              "fillmode": "overlay",
              "size": 10,
              "solidity": 0.2
             }
            },
            "type": "histogram"
           }
          ],
          "histogram2d": [
           {
            "colorbar": {
             "outlinewidth": 0,
             "ticks": ""
            },
            "colorscale": [
             [
              0,
              "#0d0887"
             ],
             [
              0.1111111111111111,
              "#46039f"
             ],
             [
              0.2222222222222222,
              "#7201a8"
             ],
             [
              0.3333333333333333,
              "#9c179e"
             ],
             [
              0.4444444444444444,
              "#bd3786"
             ],
             [
              0.5555555555555556,
              "#d8576b"
             ],
             [
              0.6666666666666666,
              "#ed7953"
             ],
             [
              0.7777777777777778,
              "#fb9f3a"
             ],
             [
              0.8888888888888888,
              "#fdca26"
             ],
             [
              1,
              "#f0f921"
             ]
            ],
            "type": "histogram2d"
           }
          ],
          "histogram2dcontour": [
           {
            "colorbar": {
             "outlinewidth": 0,
             "ticks": ""
            },
            "colorscale": [
             [
              0,
              "#0d0887"
             ],
             [
              0.1111111111111111,
              "#46039f"
             ],
             [
              0.2222222222222222,
              "#7201a8"
             ],
             [
              0.3333333333333333,
              "#9c179e"
             ],
             [
              0.4444444444444444,
              "#bd3786"
             ],
             [
              0.5555555555555556,
              "#d8576b"
             ],
             [
              0.6666666666666666,
              "#ed7953"
             ],
             [
              0.7777777777777778,
              "#fb9f3a"
             ],
             [
              0.8888888888888888,
              "#fdca26"
             ],
             [
              1,
              "#f0f921"
             ]
            ],
            "type": "histogram2dcontour"
           }
          ],
          "mesh3d": [
           {
            "colorbar": {
             "outlinewidth": 0,
             "ticks": ""
            },
            "type": "mesh3d"
           }
          ],
          "parcoords": [
           {
            "line": {
             "colorbar": {
              "outlinewidth": 0,
              "ticks": ""
             }
            },
            "type": "parcoords"
           }
          ],
          "pie": [
           {
            "automargin": true,
            "type": "pie"
           }
          ],
          "scatter": [
           {
            "fillpattern": {
             "fillmode": "overlay",
             "size": 10,
             "solidity": 0.2
            },
            "type": "scatter"
           }
          ],
          "scatter3d": [
           {
            "line": {
             "colorbar": {
              "outlinewidth": 0,
              "ticks": ""
             }
            },
            "marker": {
             "colorbar": {
              "outlinewidth": 0,
              "ticks": ""
             }
            },
            "type": "scatter3d"
           }
          ],
          "scattercarpet": [
           {
            "marker": {
             "colorbar": {
              "outlinewidth": 0,
              "ticks": ""
             }
            },
            "type": "scattercarpet"
           }
          ],
          "scattergeo": [
           {
            "marker": {
             "colorbar": {
              "outlinewidth": 0,
              "ticks": ""
             }
            },
            "type": "scattergeo"
           }
          ],
          "scattergl": [
           {
            "marker": {
             "colorbar": {
              "outlinewidth": 0,
              "ticks": ""
             }
            },
            "type": "scattergl"
           }
          ],
          "scattermapbox": [
           {
            "marker": {
             "colorbar": {
              "outlinewidth": 0,
              "ticks": ""
             }
            },
            "type": "scattermapbox"
           }
          ],
          "scatterpolar": [
           {
            "marker": {
             "colorbar": {
              "outlinewidth": 0,
              "ticks": ""
             }
            },
            "type": "scatterpolar"
           }
          ],
          "scatterpolargl": [
           {
            "marker": {
             "colorbar": {
              "outlinewidth": 0,
              "ticks": ""
             }
            },
            "type": "scatterpolargl"
           }
          ],
          "scatterternary": [
           {
            "marker": {
             "colorbar": {
              "outlinewidth": 0,
              "ticks": ""
             }
            },
            "type": "scatterternary"
           }
          ],
          "surface": [
           {
            "colorbar": {
             "outlinewidth": 0,
             "ticks": ""
            },
            "colorscale": [
             [
              0,
              "#0d0887"
             ],
             [
              0.1111111111111111,
              "#46039f"
             ],
             [
              0.2222222222222222,
              "#7201a8"
             ],
             [
              0.3333333333333333,
              "#9c179e"
             ],
             [
              0.4444444444444444,
              "#bd3786"
             ],
             [
              0.5555555555555556,
              "#d8576b"
             ],
             [
              0.6666666666666666,
              "#ed7953"
             ],
             [
              0.7777777777777778,
              "#fb9f3a"
             ],
             [
              0.8888888888888888,
              "#fdca26"
             ],
             [
              1,
              "#f0f921"
             ]
            ],
            "type": "surface"
           }
          ],
          "table": [
           {
            "cells": {
             "fill": {
              "color": "#EBF0F8"
             },
             "line": {
              "color": "white"
             }
            },
            "header": {
             "fill": {
              "color": "#C8D4E3"
             },
             "line": {
              "color": "white"
             }
            },
            "type": "table"
           }
          ]
         },
         "layout": {
          "annotationdefaults": {
           "arrowcolor": "#2a3f5f",
           "arrowhead": 0,
           "arrowwidth": 1
          },
          "autotypenumbers": "strict",
          "coloraxis": {
           "colorbar": {
            "outlinewidth": 0,
            "ticks": ""
           }
          },
          "colorscale": {
           "diverging": [
            [
             0,
             "#8e0152"
            ],
            [
             0.1,
             "#c51b7d"
            ],
            [
             0.2,
             "#de77ae"
            ],
            [
             0.3,
             "#f1b6da"
            ],
            [
             0.4,
             "#fde0ef"
            ],
            [
             0.5,
             "#f7f7f7"
            ],
            [
             0.6,
             "#e6f5d0"
            ],
            [
             0.7,
             "#b8e186"
            ],
            [
             0.8,
             "#7fbc41"
            ],
            [
             0.9,
             "#4d9221"
            ],
            [
             1,
             "#276419"
            ]
           ],
           "sequential": [
            [
             0,
             "#0d0887"
            ],
            [
             0.1111111111111111,
             "#46039f"
            ],
            [
             0.2222222222222222,
             "#7201a8"
            ],
            [
             0.3333333333333333,
             "#9c179e"
            ],
            [
             0.4444444444444444,
             "#bd3786"
            ],
            [
             0.5555555555555556,
             "#d8576b"
            ],
            [
             0.6666666666666666,
             "#ed7953"
            ],
            [
             0.7777777777777778,
             "#fb9f3a"
            ],
            [
             0.8888888888888888,
             "#fdca26"
            ],
            [
             1,
             "#f0f921"
            ]
           ],
           "sequentialminus": [
            [
             0,
             "#0d0887"
            ],
            [
             0.1111111111111111,
             "#46039f"
            ],
            [
             0.2222222222222222,
             "#7201a8"
            ],
            [
             0.3333333333333333,
             "#9c179e"
            ],
            [
             0.4444444444444444,
             "#bd3786"
            ],
            [
             0.5555555555555556,
             "#d8576b"
            ],
            [
             0.6666666666666666,
             "#ed7953"
            ],
            [
             0.7777777777777778,
             "#fb9f3a"
            ],
            [
             0.8888888888888888,
             "#fdca26"
            ],
            [
             1,
             "#f0f921"
            ]
           ]
          },
          "colorway": [
           "#636efa",
           "#EF553B",
           "#00cc96",
           "#ab63fa",
           "#FFA15A",
           "#19d3f3",
           "#FF6692",
           "#B6E880",
           "#FF97FF",
           "#FECB52"
          ],
          "font": {
           "color": "#2a3f5f"
          },
          "geo": {
           "bgcolor": "white",
           "lakecolor": "white",
           "landcolor": "#E5ECF6",
           "showlakes": true,
           "showland": true,
           "subunitcolor": "white"
          },
          "hoverlabel": {
           "align": "left"
          },
          "hovermode": "closest",
          "mapbox": {
           "style": "light"
          },
          "paper_bgcolor": "white",
          "plot_bgcolor": "#E5ECF6",
          "polar": {
           "angularaxis": {
            "gridcolor": "white",
            "linecolor": "white",
            "ticks": ""
           },
           "bgcolor": "#E5ECF6",
           "radialaxis": {
            "gridcolor": "white",
            "linecolor": "white",
            "ticks": ""
           }
          },
          "scene": {
           "xaxis": {
            "backgroundcolor": "#E5ECF6",
            "gridcolor": "white",
            "gridwidth": 2,
            "linecolor": "white",
            "showbackground": true,
            "ticks": "",
            "zerolinecolor": "white"
           },
           "yaxis": {
            "backgroundcolor": "#E5ECF6",
            "gridcolor": "white",
            "gridwidth": 2,
            "linecolor": "white",
            "showbackground": true,
            "ticks": "",
            "zerolinecolor": "white"
           },
           "zaxis": {
            "backgroundcolor": "#E5ECF6",
            "gridcolor": "white",
            "gridwidth": 2,
            "linecolor": "white",
            "showbackground": true,
            "ticks": "",
            "zerolinecolor": "white"
           }
          },
          "shapedefaults": {
           "line": {
            "color": "#2a3f5f"
           }
          },
          "ternary": {
           "aaxis": {
            "gridcolor": "white",
            "linecolor": "white",
            "ticks": ""
           },
           "baxis": {
            "gridcolor": "white",
            "linecolor": "white",
            "ticks": ""
           },
           "bgcolor": "#E5ECF6",
           "caxis": {
            "gridcolor": "white",
            "linecolor": "white",
            "ticks": ""
           }
          },
          "title": {
           "x": 0.05
          },
          "xaxis": {
           "automargin": true,
           "gridcolor": "white",
           "linecolor": "white",
           "ticks": "",
           "title": {
            "standoff": 15
           },
           "zerolinecolor": "white",
           "zerolinewidth": 2
          },
          "yaxis": {
           "automargin": true,
           "gridcolor": "white",
           "linecolor": "white",
           "ticks": "",
           "title": {
            "standoff": 15
           },
           "zerolinecolor": "white",
           "zerolinewidth": 2
          }
         }
        },
        "title": {
         "text": "3D Word Embeddings Visualization"
        }
       }
      }
     },
     "metadata": {},
     "output_type": "display_data"
    }
   ],
   "source": [
    "import plotly.express as px\n",
    "\n",
    "# Create a DataFrame with the 3D embeddings and word labels\n",
    "data = {'x': word_emb_3d[:, 0], 'y': word_emb_3d[:, 1], 'z': word_emb_3d[:, 2], 'word': ne_types_list}\n",
    "df = pd.DataFrame(data)\n",
    "\n",
    "# Create a 3D scatter plot using Plotly Express\n",
    "fig = px.scatter_3d(df, x='x', y='y', z='z', text='word', title='3D Word Embeddings Visualization')\n",
    "\n",
    "# Show the plot\n",
    "fig.show()"
   ]
  },
  {
   "cell_type": "code",
   "execution_count": 31,
   "metadata": {},
   "outputs": [
    {
     "data": {
      "application/vnd.plotly.v1+json": {
       "config": {
        "plotlyServerURL": "https://plot.ly"
       },
       "data": [
        {
         "hovertemplate": "x=%{x}<br>y=%{y}<br>word=%{text}<extra></extra>",
         "legendgroup": "",
         "marker": {
          "color": "#636efa",
          "symbol": "circle"
         },
         "mode": "markers+text",
         "name": "",
         "orientation": "v",
         "showlegend": false,
         "text": [
          "person",
          "organization",
          "location",
          "concept",
          "product",
          "variable",
          "date",
          "medical condition",
          "object",
          "technology",
          "chemical",
          "software",
          "event",
          "number",
          "disease",
          "attribute",
          "protein",
          "group",
          "material",
          "measurement",
          "other",
          "function",
          "entity type",
          "nationality",
          "country",
          "class",
          "process",
          "title",
          "animal",
          "component",
          "condition",
          "substance",
          "food",
          "city",
          "activity",
          "type",
          "company",
          "time",
          "method",
          "property",
          "organism",
          "drug",
          "medical procedure",
          "treatment",
          "profession",
          "cell type",
          "anatomical structure",
          "job title",
          "data",
          "quantity",
          "sports team",
          "biological process",
          "data type",
          "programming language",
          "occupation",
          "file",
          "body part",
          "medical treatment",
          "language",
          "chemical compound",
          "entity",
          "gene",
          "state",
          "law",
          "action",
          "website",
          "library",
          "facility",
          "publication",
          "tool",
          "field of study",
          "compound",
          "document",
          "organ",
          "abbreviation",
          "character",
          "brand",
          "device",
          "operating system",
          "service",
          "technique",
          "miscellaneous",
          "species",
          "symptom",
          "task",
          "category",
          "parameter",
          "movie",
          "molecule",
          "political party",
          "procedure",
          "sport",
          "equipment",
          "team",
          "biological entity",
          "book",
          "region",
          "medical test",
          "anatomical_structure",
          "anatomy",
          "module",
          "hardware",
          "place",
          "characteristic",
          "plant",
          "biomolecule",
          "field",
          "award",
          "tv show",
          "gender",
          "feature",
          "program",
          "enzyme",
          "structure",
          "phenomenon",
          "industry",
          "license",
          "ethnicity",
          "system",
          "value",
          "age",
          "time period",
          "element",
          "topic",
          "color",
          "unit",
          "virus",
          "religion",
          "sports league",
          "band",
          "vehicle",
          "ingredient",
          "media",
          "factor",
          "tissue",
          "crime",
          "village",
          "year",
          "demographic",
          "medical equipment",
          "namespace",
          "skill",
          "anatomical entity",
          "model",
          "position",
          "medical concept",
          "song",
          "video game",
          "test",
          "data structure",
          "album",
          "string",
          "part",
          "medical term",
          "package",
          "org",
          "command",
          "building",
          "currency",
          "noun",
          "cell",
          "medical device",
          "trait",
          "age group",
          "county",
          "invention",
          "column",
          "url",
          "outcome",
          "family",
          "html tag",
          "database",
          "business",
          "study",
          "author",
          "text",
          "information",
          "cell line",
          "genus",
          "letter",
          "patent",
          "application",
          "physical quantity",
          "item",
          "duration",
          "programming concept",
          "constant",
          "cryptocurrency",
          "tag",
          "protocol",
          "medication",
          "educational institution",
          "version",
          "resource",
          "film",
          "policy",
          "quality",
          "particle",
          "directory",
          "subject",
          "cellular component",
          "project",
          "work of art",
          "town",
          "table",
          "research",
          "hormone",
          "legal",
          "genre",
          "problem",
          "file format",
          "province",
          "disorder",
          "acronym",
          "biological",
          "genetic variation",
          "issue",
          "instrument",
          "biological_process",
          "ordinal",
          "statistic",
          "import",
          "framework",
          "clothing",
          "financial",
          "district",
          "fictional character",
          "body_part",
          "education",
          "competition",
          "nutrient",
          "government",
          "behavior",
          "weapon",
          "apparatus",
          "emotion",
          "general",
          "demonym",
          "interface",
          "money",
          "communication",
          "group of people",
          "keyword",
          "adjective",
          "game",
          "court",
          "amino acid",
          "misc",
          "transportation",
          "medical facility",
          "gpe",
          "term",
          "signal",
          "effect",
          "legal term",
          "email",
          "actor",
          "identifier",
          "degree",
          "culture",
          "platform",
          "format",
          "shape",
          "algorithm",
          "entity type not specified",
          "image",
          "cell component",
          "planet",
          "physical object",
          "bacteria",
          "music genre",
          "gene/protein",
          "restaurant",
          "surname",
          "direction",
          "css property",
          "machine",
          "therapy",
          "code",
          "legal citation",
          "name",
          "html element",
          "integer",
          "deity",
          "sports event",
          "people",
          "measure",
          "plant part",
          "error",
          "medical_condition",
          "reference",
          "symbol",
          "holiday",
          "artist",
          "population",
          "mutation",
          "source",
          "department",
          "section",
          "medical",
          "health condition",
          "chemical substance",
          "furniture",
          "metric",
          "folder",
          "percentage",
          "tv series",
          "address",
          "river",
          "weather",
          "aspect",
          "school",
          "continent",
          "biomarker",
          "season",
          "medical measurement",
          "cardinal",
          "physical property",
          "course",
          "size",
          "work_of_art",
          "mathematical concept",
          "role",
          "legal document",
          "cytokine",
          "legal case",
          "relationship",
          "musical instrument",
          "cause",
          "microorganism",
          "energy",
          "medium",
          "commodity",
          "university",
          "configuration",
          "work",
          "list",
          "data format",
          "status",
          "network",
          "file type",
          "tournament",
          "living organism",
          "venue",
          "art",
          "contact",
          "unknown",
          "governmental body",
          "pronoun",
          "geopolitical entity",
          "anatomicalstructure",
          "musical group",
          "biological molecule",
          "newspaper",
          "natural disaster",
          "landmark",
          "government body",
          "scientific concept",
          "radio station",
          "norp",
          "tv network",
          "geographic location",
          "dish",
          "unit of measurement",
          "job",
          "road",
          "operation",
          "environment",
          "ship",
          "celestial body",
          "patient",
          "strain",
          "street",
          "setting",
          "style",
          "job_title",
          "agreement",
          "option",
          "magazine",
          "file name",
          "marker",
          "header file",
          "creative work",
          "appliance",
          "religious group",
          "user interface element",
          "domain",
          "related art",
          "creature",
          "league",
          "ability",
          "mechanism",
          "user",
          "month",
          "design",
          "government agency",
          "boolean",
          "journal",
          "governmental organization",
          "entertainment",
          "verb",
          "bacterium",
          "register",
          "sequence",
          "specific",
          "methodology",
          "military unit",
          "municipality",
          "struct",
          "set",
          "figure",
          "label",
          "township",
          "pattern",
          "idea",
          "real estate",
          "ethnic group",
          "artifact",
          "organisation",
          "social group",
          "html attribute",
          "chemical_substance",
          "room",
          "aircraft",
          "biological sample",
          "financial term",
          "metabolite",
          "highway",
          "medicalcondition",
          "antibody",
          "music group",
          "political group",
          "operator",
          "description",
          "race",
          "store",
          "stage",
          "brain region",
          "body fluid",
          "container",
          "mineral",
          "ui element",
          "nickname",
          "athlete",
          "patient group",
          "neighborhood",
          "electronic device",
          "route",
          "protein domain",
          "science",
          "beverage",
          "standard",
          "hotel",
          "club",
          "fieldterminology"
         ],
         "type": "scatter",
         "x": [
          -0.15910302102565765,
          -0.44834429025650024,
          -0.35262444615364075,
          -0.1335984617471695,
          0.14023613929748535,
          0.4265941083431244,
          -0.3740745186805725,
          -0.41014364361763,
          -0.013926711864769459,
          -0.07662639021873474,
          0.8832110166549683,
          -0.011066592298448086,
          -0.4978245794773102,
          -0.303200364112854,
          0.8064558506011963,
          -0.01876896806061268,
          2.6474404335021973,
          -0.4022147059440613,
          -0.006620944011956453,
          0.3253311514854431,
          -0.3960587978363037,
          0.23815856873989105,
          -0.003814517054706812,
          -0.08432614058256149,
          -0.459320068359375,
          -0.3434547781944275,
          -0.07061884552240372,
          -0.460437148809433,
          0.28281858563423157,
          0.11501573026180267,
          -0.31875380873680115,
          0.3949175179004669,
          -0.23010322451591492,
          -0.6623240113258362,
          0.006561593618243933,
          0.08881025016307831,
          -0.34015193581581116,
          -0.42547667026519775,
          0.34631669521331787,
          -0.47683826088905334,
          1.964509129524231,
          0.21368888020515442,
          -0.2648784816265106,
          -0.03830910474061966,
          -0.3595678508281708,
          0.6689409613609314,
          0.49072641134262085,
          -0.534382164478302,
          0.128689706325531,
          0.0529680997133255,
          -0.48794108629226685,
          0.5266613960266113,
          0.1087498590350151,
          -0.16753634810447693,
          -0.3192354440689087,
          -0.11828088760375977,
          -0.14560675621032715,
          -0.2699202597141266,
          -0.09723281115293503,
          0.6673994660377502,
          -0.09643874317407608,
          2.955928087234497,
          -0.5605273842811584,
          -0.4024054706096649,
          -0.4391765892505646,
          -0.38488441705703735,
          -0.43467244505882263,
          -0.38502076268196106,
          -0.36592942476272583,
          0.06482727825641632,
          -0.04044453427195549,
          0.451587975025177,
          -0.24751600623130798,
          0.3469381332397461,
          0.5305983424186707,
          -0.05778925493359566,
          -0.26489296555519104,
          0.21242216229438782,
          -0.24144092202186584,
          -0.5575782656669617,
          0.5994403958320618,
          -0.33022165298461914,
          1.0328199863433838,
          0.39207378029823303,
          -0.31451714038848877,
          -0.3312193751335144,
          0.9356662034988403,
          -0.39808252453804016,
          2.7940797805786133,
          -0.4735671281814575,
          -0.0282243974506855,
          -0.2708934247493744,
          -0.4536115825176239,
          -0.3982027471065521,
          0.5137518644332886,
          -0.3368696868419647,
          -0.3815026581287384,
          -0.2476511150598526,
          0.49072596430778503,
          0.47321927547454834,
          0.42395472526550293,
          -0.16283635795116425,
          -0.573050320148468,
          0.41833722591400146,
          0.027309847995638847,
          1.8738154172897339,
          -0.24962817132472992,
          -0.6285645365715027,
          -0.3997756838798523,
          0.17668065428733826,
          -0.22017796337604523,
          -0.4926128685474396,
          3.1829721927642822,
          0.030174683779478073,
          0.06672624498605728,
          -0.303642213344574,
          -0.22839437425136566,
          0.13019059598445892,
          -0.1886681467294693,
          -0.1865493357181549,
          -0.2862182557582855,
          -0.38018330931663513,
          0.061546698212623596,
          -0.3598642945289612,
          0.1368669867515564,
          -0.30472531914711,
          1.059989094734192,
          -0.014999295584857464,
          -0.537676215171814,
          -0.38674747943878174,
          -0.29296332597732544,
          0.673900306224823,
          -0.5668402910232544,
          0.06028497591614723,
          1.3837374448776245,
          -0.4306398332118988,
          -0.4990100562572479,
          -0.5529521107673645,
          -0.18005061149597168,
          -0.4775717854499817,
          1.307957649230957,
          -0.2011616975069046,
          0.4274192154407501,
          -0.1364983320236206,
          -0.4653463065624237,
          -0.317565381526947,
          -0.12391138821840286,
          -0.42622002959251404,
          0.006230136379599571,
          0.07943236827850342,
          -0.2456340789794922,
          -0.3683949112892151,
          -0.44830718636512756,
          -0.4393267333507538,
          -0.38906386494636536,
          -0.16350938379764557,
          -0.4478016197681427,
          -0.4913446307182312,
          -0.06762714684009552,
          0.5283194184303284,
          1.2490710020065308,
          -0.14455518126487732,
          0.6543832421302795,
          -0.344216525554657,
          -0.4571443796157837,
          0.08421781659126282,
          -0.30954834818840027,
          0.6696922183036804,
          -0.22251169383525848,
          -0.45882031321525574,
          0.2635437250137329,
          0.2627493441104889,
          -0.5501685738563538,
          0.16873905062675476,
          -0.07511816173791885,
          -0.0045118252746760845,
          -0.22764858603477478,
          0.41790810227394104,
          1.2957749366760254,
          -0.3759109079837799,
          0.40367627143859863,
          0.04544670134782791,
          -0.08390817791223526,
          -0.12040524929761887,
          0.07130973041057587,
          -0.18571864068508148,
          -0.31598493456840515,
          0.1180897131562233,
          -0.050157442688941956,
          0.15312276780605316,
          0.3845226466655731,
          -0.4481698274612427,
          -0.2023259401321411,
          -0.1945866495370865,
          -0.38709914684295654,
          -0.44220760464668274,
          -0.3072349429130554,
          1.5246413946151733,
          0.020402362570166588,
          -0.33277401328086853,
          0.3967650234699249,
          -0.4735899865627289,
          -0.44312918186187744,
          -0.7325437664985657,
          -0.4880916476249695,
          0.12882933020591736,
          1.8734594583511353,
          -0.42942801117897034,
          -0.035812411457300186,
          -0.25223779678344727,
          -0.17181910574436188,
          -0.3818630576133728,
          0.4279806315898895,
          0.2835286557674408,
          1.1239417791366577,
          1.0963860750198364,
          -0.384944349527359,
          0.048522595316171646,
          0.5266615152359009,
          0.5969426035881042,
          -0.26542413234710693,
          -0.09618407487869263,
          -0.1282312273979187,
          -0.3671867549419403,
          -0.5011711716651917,
          -0.7019643187522888,
          -0.24214452505111694,
          -0.14560669660568237,
          -0.6053275465965271,
          -0.5226377844810486,
          1.4586350917816162,
          -0.4262111783027649,
          0.03680713102221489,
          0.016115060076117516,
          -0.04452041536569595,
          0.10889022052288055,
          -0.6425064206123352,
          -0.32700222730636597,
          0.4648478329181671,
          -0.5906775593757629,
          -0.4017333686351776,
          -0.4172844886779785,
          0.7250701189041138,
          0.1460992693901062,
          -0.4108642339706421,
          -0.47041985392570496,
          1.2754268646240234,
          -0.250698983669281,
          -0.5092602372169495,
          -0.4432764947414398,
          -0.11734002828598022,
          -0.37712058424949646,
          0.067385233938694,
          -0.0349435992538929,
          -0.4032740592956543,
          -0.22665731608867645,
          -0.3866957724094391,
          0.5154451131820679,
          -0.32665470242500305,
          -0.15074874460697174,
          -0.13358943164348602,
          -0.22535783052444458,
          -0.25927218794822693,
          1.1831082105636597,
          -0.09208297729492188,
          -0.27803879976272583,
          0.6820433735847473,
          0.25106677412986755,
          -0.11735574156045914,
          2.0246026515960693,
          -0.2851859927177429,
          2.8016841411590576,
          -0.6166875958442688,
          0.06109645590186119,
          -0.5008718371391296,
          -0.024559326469898224,
          -0.03561145439743996,
          0.5123070478439331,
          0.23290668427944183,
          -0.341724157333374,
          -0.3091537058353424,
          0.3193958103656769,
          1.5184053182601929,
          0.06521578133106232,
          -0.5377520322799683,
          -0.43235453963279724,
          -0.17284037172794342,
          -0.21049867570400238,
          0.2008223533630371,
          -0.4101432263851166,
          -0.14858277142047882,
          0.0406106673181057,
          -0.6970361471176147,
          -0.3562457859516144,
          -0.08021731674671173,
          2.2364354133605957,
          -0.19008010625839233,
          -0.5838193297386169,
          -0.33384642004966736,
          -0.5015325546264648,
          -0.35875973105430603,
          0.6390641331672668,
          -0.5733997225761414,
          0.21588949859142303,
          0.4879453778266907,
          -0.22326670587062836,
          -0.4158187806606293,
          -0.4761386513710022,
          -0.1909905970096588,
          -0.3906703591346741,
          -0.24135810136795044,
          -0.6587542295455933,
          -0.10984928160905838,
          2.2432971000671387,
          -0.4109804332256317,
          -0.08810049295425415,
          -0.06379348039627075,
          -0.34881147742271423,
          -0.47012263536453247,
          -0.09027876704931259,
          -0.44312912225723267,
          0.20627501606941223,
          -0.259417861700058,
          -0.3384719789028168,
          2.79433274269104,
          -0.36356276273727417,
          -0.3585447072982788,
          -0.0899919643998146,
          -0.05267958343029022,
          2.1710667610168457,
          -0.22981145977973938,
          -0.2450362741947174,
          -0.028062930330634117,
          -0.5158816576004028,
          0.3181273937225342,
          -0.4343523681163788,
          -0.3893708884716034,
          -0.048334039747714996,
          -0.4187425971031189,
          -0.2707497179508209,
          -0.014735286124050617,
          -0.5397019386291504,
          0.7378177046775818,
          -0.573384165763855,
          -0.4519064426422119,
          -0.40217557549476624,
          -0.033784858882427216,
          -0.10644453763961792,
          0.3514925241470337,
          -0.1484859734773636,
          0.4907262921333313,
          -0.31536081433296204,
          1.9590102434158325,
          -0.6475682258605957,
          -0.08187117427587509,
          -0.5125892758369446,
          -0.1345588117837906,
          0.04582855850458145,
          -0.5524597764015198,
          -0.3419541120529175,
          -0.2857836186885834,
          -0.12137619405984879,
          0.026751188561320305,
          0.010303271934390068,
          -0.6083283424377441,
          -0.5985731482505798,
          -0.30634552240371704,
          -0.2106197327375412,
          -0.3101827800273895,
          0.16006436944007874,
          0.1398247927427292,
          0.3093896210193634,
          -0.5649732351303101,
          -0.52262282371521,
          -0.43831515312194824,
          -0.5343821048736572,
          -0.3877051770687103,
          -0.34116029739379883,
          -0.5616223812103271,
          -0.21371731162071228,
          0.4166087508201599,
          -0.016131343320012093,
          -0.36668887734413147,
          -0.08537883311510086,
          -0.37533771991729736,
          0.2910091280937195,
          0.1918538361787796,
          -0.37051519751548767,
          0.35948997735977173,
          -0.4976727068424225,
          -0.08372269570827484,
          0.6930251717567444,
          0.3466329276561737,
          -0.5349154472351074,
          -0.13804395496845245,
          -0.43085116147994995,
          1.0448153018951416,
          0.016326148062944412,
          -0.4091636836528778,
          -0.6485937833786011,
          0.48672473430633545,
          2.434777021408081,
          -0.5000947713851929,
          0.539078950881958,
          0.09846744686365128,
          0.18117260932922363,
          -0.3825029134750366,
          -0.4603564441204071,
          0.7638249397277832,
          -0.5509635210037231,
          -0.3959607481956482,
          -0.1105249747633934,
          -0.5825771689414978,
          0.19840842485427856,
          -0.40996888279914856,
          -0.39993253350257874,
          -0.1922394037246704,
          0.19877229630947113,
          -0.4483445882797241,
          -0.37947919964790344,
          0.27923792600631714,
          0.6390641331672668,
          -0.3534091114997864,
          -0.1415519118309021,
          0.7600458264350891,
          -0.43914589285850525,
          2.4094064235687256,
          -0.48748326301574707,
          -0.41014325618743896,
          2.6576037406921387,
          -0.4683873951435089,
          -0.42735859751701355,
          -0.3783118426799774,
          -0.2854020297527313,
          -0.444591224193573,
          -0.42653289437294006,
          -0.23164649307727814,
          0.27951350808143616,
          0.3221276104450226,
          0.14685992896556854,
          0.23280438780784607,
          0.16729243099689484,
          -0.29395192861557007,
          -0.06182160601019859,
          -0.1311952769756317,
          -0.47024068236351013,
          -0.029533959925174713,
          -0.302753746509552,
          1.4196463823318481,
          -0.11170127987861633,
          -0.13820640742778778,
          -0.17015871405601501,
          -0.6030755639076233,
          -0.6056668162345886,
          -0.044061079621315
         ],
         "xaxis": "x",
         "y": [
          -0.1027664765715599,
          -0.12989237904548645,
          0.2720828652381897,
          0.49527180194854736,
          0.11134704947471619,
          0.5661591291427612,
          0.19456546008586884,
          -0.7968631386756897,
          0.5638276934623718,
          0.05521826446056366,
          -0.8633493185043335,
          0.548828661441803,
          -0.09888258576393127,
          0.06157219409942627,
          -1.0119719505310059,
          0.459870308637619,
          -0.7361478209495544,
          -0.3406006991863251,
          0.027321593835949898,
          0.48891526460647583,
          -0.2526842951774597,
          0.23799006640911102,
          0.2674202024936676,
          0.2299463003873825,
          -0.3501419425010681,
          -0.15761083364486694,
          -0.002300917636603117,
          0.2668958008289337,
          -0.5928191542625427,
          0.34786349534988403,
          -0.6352486610412598,
          -0.1812075674533844,
          -0.5594801902770996,
          -0.5837453603744507,
          -0.1611434519290924,
          0.23448388278484344,
          -0.23200833797454834,
          -0.14867790043354034,
          0.6778121590614319,
          -0.2505544126033783,
          -0.49937278032302856,
          -0.7202649712562561,
          -0.4460742771625519,
          -0.8821293711662292,
          -0.23165950179100037,
          -0.3160881996154785,
          0.055640511214733124,
          0.005533074494451284,
          0.5436148047447205,
          -0.155459925532341,
          -0.2794228792190552,
          -0.4498712718486786,
          0.38904932141304016,
          0.3888324797153473,
          0.07350348681211472,
          0.661325216293335,
          -0.3038601279258728,
          -0.9203035831451416,
          0.4993569552898407,
          -0.6902855634689331,
          0.3003564476966858,
          -0.844692051410675,
          -0.48278507590293884,
          -0.18185777962207794,
          -0.1437171995639801,
          0.4049743711948395,
          -0.05072714015841484,
          -0.46135199069976807,
          0.06577147543430328,
          0.787034809589386,
          -0.3983002305030823,
          -0.5172234773635864,
          0.3897119462490082,
          -0.41866639256477356,
          1.7256296873092651,
          0.17498669028282166,
          0.2553812563419342,
          0.2618086338043213,
          0.04866759851574898,
          -0.03524501994252205,
          0.20781947672367096,
          0.17095428705215454,
          -0.2368643432855606,
          -0.04269622266292572,
          0.0761224702000618,
          0.37717798352241516,
          1.396514892578125,
          -0.13831883668899536,
          -0.4776184558868408,
          -0.22891582548618317,
          0.06632829457521439,
          -0.26781120896339417,
          -0.2771638333797455,
          -0.29504144191741943,
          -0.29854241013526917,
          0.01715654507279396,
          -0.463022917509079,
          -0.5729673504829407,
          0.05564044415950775,
          -0.14478285610675812,
          0.9171788096427917,
          0.3359498083591461,
          -0.09006588906049728,
          0.28138959407806396,
          -0.679029107093811,
          0.021774720400571823,
          -0.38430270552635193,
          0.0178497526794672,
          0.09741640836000443,
          -0.06738222390413284,
          0.49617576599121094,
          -0.031263481825590134,
          -1.0924235582351685,
          0.181411474943161,
          0.12132132798433304,
          -0.17008893191814423,
          0.18469804525375366,
          -0.01739393174648285,
          0.28876227140426636,
          0.20009756088256836,
          -0.38808950781822205,
          -0.14950281381607056,
          0.40571996569633484,
          0.3307221829891205,
          0.19578804075717926,
          -0.14754286408424377,
          -0.5147078037261963,
          -0.09508226066827774,
          -0.3136892020702362,
          -0.08643786609172821,
          -0.28636425733566284,
          0.047836173325777054,
          -0.14842656254768372,
          0.05614662915468216,
          -0.8724316358566284,
          -0.31751587986946106,
          -0.6017284989356995,
          -0.38687217235565186,
          0.09213972836732864,
          -0.6178209185600281,
          2.138253688812256,
          0.07083093374967575,
          0.11511310189962387,
          0.32173290848731995,
          0.0889754593372345,
          -0.23160326480865479,
          0.2706303894519806,
          -0.0599735826253891,
          -0.18745648860931396,
          0.36251315474510193,
          0.0005641562165692449,
          0.02432619407773018,
          -0.12829245626926422,
          -0.5613585710525513,
          0.11548580974340439,
          0.8392616510391235,
          0.2579890489578247,
          -0.344684898853302,
          0.1494470238685608,
          1.2838765382766724,
          -0.8666602969169617,
          -0.3483346998691559,
          0.11955410987138748,
          -0.3643452227115631,
          -0.48166701197624207,
          0.20994751155376434,
          0.32999664545059204,
          1.9406685829162598,
          -0.2174927294254303,
          -0.5655897259712219,
          1.2949602603912354,
          0.8894277215003967,
          -0.21492916345596313,
          -0.41229745745658875,
          -0.23169001936912537,
          1.0856987237930298,
          0.17602604627609253,
          -0.398550420999527,
          0.3133211135864258,
          0.053618378937244415,
          0.24410973489284515,
          0.4555986225605011,
          -0.28221163153648376,
          0.6327894330024719,
          0.09845858067274094,
          0.38678959012031555,
          -0.12461862713098526,
          0.414764404296875,
          0.878962516784668,
          0.5409192442893982,
          -0.7704031467437744,
          -0.2710760533809662,
          0.5828890204429626,
          0.10268410295248032,
          -0.34078025817871094,
          -0.02079109475016594,
          -0.24535788595676422,
          -0.064304418861866,
          0.9574754238128662,
          0.15180125832557678,
          -0.14489226043224335,
          -0.17325329780578613,
          -0.17083704471588135,
          -0.5287286639213562,
          0.0923653393983841,
          -0.47593042254447937,
          -1.1973323822021484,
          -0.40190622210502625,
          0.3727402985095978,
          -0.04869384318590164,
          0.8594953417778015,
          -0.49981409311294556,
          -0.6957966685295105,
          1.5222837924957275,
          -0.8974412679672241,
          -0.14097198843955994,
          -0.023637404665350914,
          0.47102516889572144,
          -0.44987112283706665,
          1.234553337097168,
          0.4113401770591736,
          0.0990612804889679,
          0.5001235008239746,
          -0.2908428907394409,
          -0.3813985288143158,
          -0.5288445353507996,
          0.11429822444915771,
          -0.303860068321228,
          -0.5253340601921082,
          -0.2596219778060913,
          -0.731381356716156,
          -0.47223523259162903,
          -0.21453054249286652,
          -0.01794831082224846,
          0.008210418745875359,
          -0.13137014210224152,
          -0.2156074494123459,
          -0.43441641330718994,
          1.2783174514770508,
          -0.21292021870613098,
          0.0010018598986789584,
          -0.37896671891212463,
          1.5712544918060303,
          1.0875186920166016,
          -0.21617861092090607,
          -0.5652889609336853,
          -0.29285144805908203,
          1.1116164922714233,
          -0.5263805985450745,
          -0.7099155187606812,
          0.19415679574012756,
          -0.1642398238182068,
          0.11498022079467773,
          -0.1730974316596985,
          -0.28307318687438965,
          0.7688069343566895,
          -0.2827538549900055,
          1.8246679306030273,
          -0.1721877157688141,
          -0.2578437030315399,
          0.530055582523346,
          1.0576658248901367,
          -0.1762261688709259,
          1.3393651247024536,
          0.2175508439540863,
          0.3864496350288391,
          -0.25939831137657166,
          -0.2599499225616455,
          0.0774322971701622,
          -1.1181974411010742,
          0.14712274074554443,
          -0.7904197573661804,
          -0.332905113697052,
          0.7190269827842712,
          -0.010288632474839687,
          0.5735679268836975,
          0.17723940312862396,
          -0.620719313621521,
          1.0411173105239868,
          -0.1294930875301361,
          0.6404573321342468,
          1.0583394765853882,
          1.8784193992614746,
          0.1873163878917694,
          -0.18134340643882751,
          -0.41733255982398987,
          0.054255276918411255,
          -0.4036606550216675,
          0.5787744522094727,
          -0.7968636751174927,
          0.6977524757385254,
          0.7383962869644165,
          -0.22721931338310242,
          0.020992286503314972,
          -0.5978763699531555,
          -0.5999501347541809,
          0.12828361988067627,
          -0.46586114168167114,
          0.17393335700035095,
          -0.9584780931472778,
          -0.7896801829338074,
          -0.5222784280776978,
          -0.27374550700187683,
          0.9502875208854675,
          1.343048095703125,
          0.037891924381256104,
          0.14976847171783447,
          0.221284881234169,
          -0.6220061182975769,
          -0.3312198221683502,
          0.14229843020439148,
          -0.4532112181186676,
          -0.2068423181772232,
          -0.4563315808773041,
          -0.3353534936904907,
          -0.23478099703788757,
          0.021317342296242714,
          -0.329758882522583,
          -0.0695873573422432,
          0.06848720461130142,
          -0.17083700001239777,
          0.39868178963661194,
          -0.17964884638786316,
          -0.006097148638218641,
          -1.0552881956100464,
          -0.2865990400314331,
          -0.13813745975494385,
          0.0926751047372818,
          -0.19248457252979279,
          -0.6580163240432739,
          -0.3530683219432831,
          0.17203174531459808,
          -0.026430901139974594,
          -0.5341935157775879,
          0.9997459053993225,
          -0.26485931873321533,
          0.27232590317726135,
          0.8006404638290405,
          0.17895206809043884,
          0.03695054352283478,
          0.4479045867919922,
          -0.3222925066947937,
          -0.5493918657302856,
          -0.030861355364322662,
          -0.0768144279718399,
          -0.04789304733276367,
          -0.12437120825052261,
          -0.45034658908843994,
          1.5441604852676392,
          0.11697669327259064,
          0.05564053729176521,
          -0.31313759088516235,
          -0.6875301003456116,
          -0.37128886580467224,
          -0.3134772777557373,
          -0.23582398891448975,
          -0.4758317172527313,
          0.043933138251304626,
          -0.12243977934122086,
          -0.2766916751861572,
          0.18367953598499298,
          0.22695596516132355,
          0.04678422212600708,
          0.17068664729595184,
          -0.2558295726776123,
          -0.45671021938323975,
          -0.30562886595726013,
          -0.22596333920955658,
          -0.12778425216674805,
          -0.2219213843345642,
          -0.5761570334434509,
          -0.3430836498737335,
          -0.2962132692337036,
          -0.16005660593509674,
          0.26019662618637085,
          0.005533068906515837,
          -0.018932629376649857,
          0.38033682107925415,
          -0.0045737153850495815,
          0.650891125202179,
          0.23603220283985138,
          0.5166577100753784,
          -0.1676969677209854,
          0.4347749650478363,
          -0.37726080417633057,
          0.8201668858528137,
          0.8905113935470581,
          -0.12274368852376938,
          -0.11763390898704529,
          -0.3635737895965576,
          -0.05041185021400452,
          0.36567065119743347,
          0.7764638066291809,
          -0.293244868516922,
          0.20505599677562714,
          -0.3547358810901642,
          1.9685139656066895,
          -0.05152779817581177,
          -0.27557823061943054,
          -0.24344360828399658,
          1.5017073154449463,
          -0.9341886639595032,
          0.218309685587883,
          0.33328181505203247,
          0.2600151002407074,
          0.8421897292137146,
          -0.24266581237316132,
          -0.5685782432556152,
          1.6132882833480835,
          -0.08471616357564926,
          0.0880584865808487,
          0.32905006408691406,
          -0.5970227122306824,
          0.3500187397003174,
          0.12975820899009705,
          -0.2204245775938034,
          -0.3180846571922302,
          0.4520910680294037,
          -0.12989148497581482,
          -0.2885323464870453,
          1.085415005683899,
          -0.5222784280776978,
          -0.10753604769706726,
          -0.4105510711669922,
          -0.34684887528419495,
          -0.2728192210197449,
          -0.3269844055175781,
          -0.516502857208252,
          -0.7968637347221375,
          -0.6696863770484924,
          -0.20954780280590057,
          -0.33739176392555237,
          0.03296399116516113,
          0.6791121363639832,
          -0.1670788675546646,
          -0.23253194987773895,
          -0.337007611989975,
          -0.565456211566925,
          -0.3604621887207031,
          0.022058837115764618,
          -0.48578137159347534,
          0.7822231650352478,
          0.6397367715835571,
          -0.42501047253608704,
          -0.45837873220443726,
          -0.47592732310295105,
          0.21159522235393524,
          0.04881544038653374,
          0.07718168944120407,
          -0.414478063583374,
          -0.43983787298202515,
          0.5348806381225586,
          -0.42009082436561584,
          -0.3261028230190277,
          0.295703262090683
         ],
         "yaxis": "y"
        }
       ],
       "layout": {
        "legend": {
         "tracegroupgap": 0
        },
        "template": {
         "data": {
          "bar": [
           {
            "error_x": {
             "color": "#2a3f5f"
            },
            "error_y": {
             "color": "#2a3f5f"
            },
            "marker": {
             "line": {
              "color": "#E5ECF6",
              "width": 0.5
             },
             "pattern": {
              "fillmode": "overlay",
              "size": 10,
              "solidity": 0.2
             }
            },
            "type": "bar"
           }
          ],
          "barpolar": [
           {
            "marker": {
             "line": {
              "color": "#E5ECF6",
              "width": 0.5
             },
             "pattern": {
              "fillmode": "overlay",
              "size": 10,
              "solidity": 0.2
             }
            },
            "type": "barpolar"
           }
          ],
          "carpet": [
           {
            "aaxis": {
             "endlinecolor": "#2a3f5f",
             "gridcolor": "white",
             "linecolor": "white",
             "minorgridcolor": "white",
             "startlinecolor": "#2a3f5f"
            },
            "baxis": {
             "endlinecolor": "#2a3f5f",
             "gridcolor": "white",
             "linecolor": "white",
             "minorgridcolor": "white",
             "startlinecolor": "#2a3f5f"
            },
            "type": "carpet"
           }
          ],
          "choropleth": [
           {
            "colorbar": {
             "outlinewidth": 0,
             "ticks": ""
            },
            "type": "choropleth"
           }
          ],
          "contour": [
           {
            "colorbar": {
             "outlinewidth": 0,
             "ticks": ""
            },
            "colorscale": [
             [
              0,
              "#0d0887"
             ],
             [
              0.1111111111111111,
              "#46039f"
             ],
             [
              0.2222222222222222,
              "#7201a8"
             ],
             [
              0.3333333333333333,
              "#9c179e"
             ],
             [
              0.4444444444444444,
              "#bd3786"
             ],
             [
              0.5555555555555556,
              "#d8576b"
             ],
             [
              0.6666666666666666,
              "#ed7953"
             ],
             [
              0.7777777777777778,
              "#fb9f3a"
             ],
             [
              0.8888888888888888,
              "#fdca26"
             ],
             [
              1,
              "#f0f921"
             ]
            ],
            "type": "contour"
           }
          ],
          "contourcarpet": [
           {
            "colorbar": {
             "outlinewidth": 0,
             "ticks": ""
            },
            "type": "contourcarpet"
           }
          ],
          "heatmap": [
           {
            "colorbar": {
             "outlinewidth": 0,
             "ticks": ""
            },
            "colorscale": [
             [
              0,
              "#0d0887"
             ],
             [
              0.1111111111111111,
              "#46039f"
             ],
             [
              0.2222222222222222,
              "#7201a8"
             ],
             [
              0.3333333333333333,
              "#9c179e"
             ],
             [
              0.4444444444444444,
              "#bd3786"
             ],
             [
              0.5555555555555556,
              "#d8576b"
             ],
             [
              0.6666666666666666,
              "#ed7953"
             ],
             [
              0.7777777777777778,
              "#fb9f3a"
             ],
             [
              0.8888888888888888,
              "#fdca26"
             ],
             [
              1,
              "#f0f921"
             ]
            ],
            "type": "heatmap"
           }
          ],
          "heatmapgl": [
           {
            "colorbar": {
             "outlinewidth": 0,
             "ticks": ""
            },
            "colorscale": [
             [
              0,
              "#0d0887"
             ],
             [
              0.1111111111111111,
              "#46039f"
             ],
             [
              0.2222222222222222,
              "#7201a8"
             ],
             [
              0.3333333333333333,
              "#9c179e"
             ],
             [
              0.4444444444444444,
              "#bd3786"
             ],
             [
              0.5555555555555556,
              "#d8576b"
             ],
             [
              0.6666666666666666,
              "#ed7953"
             ],
             [
              0.7777777777777778,
              "#fb9f3a"
             ],
             [
              0.8888888888888888,
              "#fdca26"
             ],
             [
              1,
              "#f0f921"
             ]
            ],
            "type": "heatmapgl"
           }
          ],
          "histogram": [
           {
            "marker": {
             "pattern": {
              "fillmode": "overlay",
              "size": 10,
              "solidity": 0.2
             }
            },
            "type": "histogram"
           }
          ],
          "histogram2d": [
           {
            "colorbar": {
             "outlinewidth": 0,
             "ticks": ""
            },
            "colorscale": [
             [
              0,
              "#0d0887"
             ],
             [
              0.1111111111111111,
              "#46039f"
             ],
             [
              0.2222222222222222,
              "#7201a8"
             ],
             [
              0.3333333333333333,
              "#9c179e"
             ],
             [
              0.4444444444444444,
              "#bd3786"
             ],
             [
              0.5555555555555556,
              "#d8576b"
             ],
             [
              0.6666666666666666,
              "#ed7953"
             ],
             [
              0.7777777777777778,
              "#fb9f3a"
             ],
             [
              0.8888888888888888,
              "#fdca26"
             ],
             [
              1,
              "#f0f921"
             ]
            ],
            "type": "histogram2d"
           }
          ],
          "histogram2dcontour": [
           {
            "colorbar": {
             "outlinewidth": 0,
             "ticks": ""
            },
            "colorscale": [
             [
              0,
              "#0d0887"
             ],
             [
              0.1111111111111111,
              "#46039f"
             ],
             [
              0.2222222222222222,
              "#7201a8"
             ],
             [
              0.3333333333333333,
              "#9c179e"
             ],
             [
              0.4444444444444444,
              "#bd3786"
             ],
             [
              0.5555555555555556,
              "#d8576b"
             ],
             [
              0.6666666666666666,
              "#ed7953"
             ],
             [
              0.7777777777777778,
              "#fb9f3a"
             ],
             [
              0.8888888888888888,
              "#fdca26"
             ],
             [
              1,
              "#f0f921"
             ]
            ],
            "type": "histogram2dcontour"
           }
          ],
          "mesh3d": [
           {
            "colorbar": {
             "outlinewidth": 0,
             "ticks": ""
            },
            "type": "mesh3d"
           }
          ],
          "parcoords": [
           {
            "line": {
             "colorbar": {
              "outlinewidth": 0,
              "ticks": ""
             }
            },
            "type": "parcoords"
           }
          ],
          "pie": [
           {
            "automargin": true,
            "type": "pie"
           }
          ],
          "scatter": [
           {
            "fillpattern": {
             "fillmode": "overlay",
             "size": 10,
             "solidity": 0.2
            },
            "type": "scatter"
           }
          ],
          "scatter3d": [
           {
            "line": {
             "colorbar": {
              "outlinewidth": 0,
              "ticks": ""
             }
            },
            "marker": {
             "colorbar": {
              "outlinewidth": 0,
              "ticks": ""
             }
            },
            "type": "scatter3d"
           }
          ],
          "scattercarpet": [
           {
            "marker": {
             "colorbar": {
              "outlinewidth": 0,
              "ticks": ""
             }
            },
            "type": "scattercarpet"
           }
          ],
          "scattergeo": [
           {
            "marker": {
             "colorbar": {
              "outlinewidth": 0,
              "ticks": ""
             }
            },
            "type": "scattergeo"
           }
          ],
          "scattergl": [
           {
            "marker": {
             "colorbar": {
              "outlinewidth": 0,
              "ticks": ""
             }
            },
            "type": "scattergl"
           }
          ],
          "scattermapbox": [
           {
            "marker": {
             "colorbar": {
              "outlinewidth": 0,
              "ticks": ""
             }
            },
            "type": "scattermapbox"
           }
          ],
          "scatterpolar": [
           {
            "marker": {
             "colorbar": {
              "outlinewidth": 0,
              "ticks": ""
             }
            },
            "type": "scatterpolar"
           }
          ],
          "scatterpolargl": [
           {
            "marker": {
             "colorbar": {
              "outlinewidth": 0,
              "ticks": ""
             }
            },
            "type": "scatterpolargl"
           }
          ],
          "scatterternary": [
           {
            "marker": {
             "colorbar": {
              "outlinewidth": 0,
              "ticks": ""
             }
            },
            "type": "scatterternary"
           }
          ],
          "surface": [
           {
            "colorbar": {
             "outlinewidth": 0,
             "ticks": ""
            },
            "colorscale": [
             [
              0,
              "#0d0887"
             ],
             [
              0.1111111111111111,
              "#46039f"
             ],
             [
              0.2222222222222222,
              "#7201a8"
             ],
             [
              0.3333333333333333,
              "#9c179e"
             ],
             [
              0.4444444444444444,
              "#bd3786"
             ],
             [
              0.5555555555555556,
              "#d8576b"
             ],
             [
              0.6666666666666666,
              "#ed7953"
             ],
             [
              0.7777777777777778,
              "#fb9f3a"
             ],
             [
              0.8888888888888888,
              "#fdca26"
             ],
             [
              1,
              "#f0f921"
             ]
            ],
            "type": "surface"
           }
          ],
          "table": [
           {
            "cells": {
             "fill": {
              "color": "#EBF0F8"
             },
             "line": {
              "color": "white"
             }
            },
            "header": {
             "fill": {
              "color": "#C8D4E3"
             },
             "line": {
              "color": "white"
             }
            },
            "type": "table"
           }
          ]
         },
         "layout": {
          "annotationdefaults": {
           "arrowcolor": "#2a3f5f",
           "arrowhead": 0,
           "arrowwidth": 1
          },
          "autotypenumbers": "strict",
          "coloraxis": {
           "colorbar": {
            "outlinewidth": 0,
            "ticks": ""
           }
          },
          "colorscale": {
           "diverging": [
            [
             0,
             "#8e0152"
            ],
            [
             0.1,
             "#c51b7d"
            ],
            [
             0.2,
             "#de77ae"
            ],
            [
             0.3,
             "#f1b6da"
            ],
            [
             0.4,
             "#fde0ef"
            ],
            [
             0.5,
             "#f7f7f7"
            ],
            [
             0.6,
             "#e6f5d0"
            ],
            [
             0.7,
             "#b8e186"
            ],
            [
             0.8,
             "#7fbc41"
            ],
            [
             0.9,
             "#4d9221"
            ],
            [
             1,
             "#276419"
            ]
           ],
           "sequential": [
            [
             0,
             "#0d0887"
            ],
            [
             0.1111111111111111,
             "#46039f"
            ],
            [
             0.2222222222222222,
             "#7201a8"
            ],
            [
             0.3333333333333333,
             "#9c179e"
            ],
            [
             0.4444444444444444,
             "#bd3786"
            ],
            [
             0.5555555555555556,
             "#d8576b"
            ],
            [
             0.6666666666666666,
             "#ed7953"
            ],
            [
             0.7777777777777778,
             "#fb9f3a"
            ],
            [
             0.8888888888888888,
             "#fdca26"
            ],
            [
             1,
             "#f0f921"
            ]
           ],
           "sequentialminus": [
            [
             0,
             "#0d0887"
            ],
            [
             0.1111111111111111,
             "#46039f"
            ],
            [
             0.2222222222222222,
             "#7201a8"
            ],
            [
             0.3333333333333333,
             "#9c179e"
            ],
            [
             0.4444444444444444,
             "#bd3786"
            ],
            [
             0.5555555555555556,
             "#d8576b"
            ],
            [
             0.6666666666666666,
             "#ed7953"
            ],
            [
             0.7777777777777778,
             "#fb9f3a"
            ],
            [
             0.8888888888888888,
             "#fdca26"
            ],
            [
             1,
             "#f0f921"
            ]
           ]
          },
          "colorway": [
           "#636efa",
           "#EF553B",
           "#00cc96",
           "#ab63fa",
           "#FFA15A",
           "#19d3f3",
           "#FF6692",
           "#B6E880",
           "#FF97FF",
           "#FECB52"
          ],
          "font": {
           "color": "#2a3f5f"
          },
          "geo": {
           "bgcolor": "white",
           "lakecolor": "white",
           "landcolor": "#E5ECF6",
           "showlakes": true,
           "showland": true,
           "subunitcolor": "white"
          },
          "hoverlabel": {
           "align": "left"
          },
          "hovermode": "closest",
          "mapbox": {
           "style": "light"
          },
          "paper_bgcolor": "white",
          "plot_bgcolor": "#E5ECF6",
          "polar": {
           "angularaxis": {
            "gridcolor": "white",
            "linecolor": "white",
            "ticks": ""
           },
           "bgcolor": "#E5ECF6",
           "radialaxis": {
            "gridcolor": "white",
            "linecolor": "white",
            "ticks": ""
           }
          },
          "scene": {
           "xaxis": {
            "backgroundcolor": "#E5ECF6",
            "gridcolor": "white",
            "gridwidth": 2,
            "linecolor": "white",
            "showbackground": true,
            "ticks": "",
            "zerolinecolor": "white"
           },
           "yaxis": {
            "backgroundcolor": "#E5ECF6",
            "gridcolor": "white",
            "gridwidth": 2,
            "linecolor": "white",
            "showbackground": true,
            "ticks": "",
            "zerolinecolor": "white"
           },
           "zaxis": {
            "backgroundcolor": "#E5ECF6",
            "gridcolor": "white",
            "gridwidth": 2,
            "linecolor": "white",
            "showbackground": true,
            "ticks": "",
            "zerolinecolor": "white"
           }
          },
          "shapedefaults": {
           "line": {
            "color": "#2a3f5f"
           }
          },
          "ternary": {
           "aaxis": {
            "gridcolor": "white",
            "linecolor": "white",
            "ticks": ""
           },
           "baxis": {
            "gridcolor": "white",
            "linecolor": "white",
            "ticks": ""
           },
           "bgcolor": "#E5ECF6",
           "caxis": {
            "gridcolor": "white",
            "linecolor": "white",
            "ticks": ""
           }
          },
          "title": {
           "x": 0.05
          },
          "xaxis": {
           "automargin": true,
           "gridcolor": "white",
           "linecolor": "white",
           "ticks": "",
           "title": {
            "standoff": 15
           },
           "zerolinecolor": "white",
           "zerolinewidth": 2
          },
          "yaxis": {
           "automargin": true,
           "gridcolor": "white",
           "linecolor": "white",
           "ticks": "",
           "title": {
            "standoff": 15
           },
           "zerolinecolor": "white",
           "zerolinewidth": 2
          }
         }
        },
        "title": {
         "text": "2D Word Embeddings Visualization"
        },
        "xaxis": {
         "anchor": "y",
         "domain": [
          0,
          1
         ],
         "title": {
          "text": "x"
         }
        },
        "yaxis": {
         "anchor": "x",
         "domain": [
          0,
          1
         ],
         "title": {
          "text": "y"
         }
        }
       }
      }
     },
     "metadata": {},
     "output_type": "display_data"
    }
   ],
   "source": [
    "pca = PCA(n_components=2) #Perform 2d-PCA\n",
    "word_emb_2d = pca.fit_transform(ne_types_embeddings)\n",
    "\n",
    "import plotly.express as px\n",
    "# Create a DataFrame with the 2D embeddings and word labels\n",
    "data = {'x': word_emb_2d[:, 0], 'y': word_emb_2d[:, 1], 'word': ne_types_list}\n",
    "df = pd.DataFrame(data)\n",
    "\n",
    "# Create 2D scatter plot using Plotly Express\n",
    "fig = px.scatter(df, x='x', y='y', text='word', title='2D Word Embeddings Visualization')\n",
    "\n",
    "fig.show()"
   ]
  },
  {
   "cell_type": "markdown",
   "metadata": {},
   "source": [
    "# Hierarchical clustering dendogram"
   ]
  },
  {
   "cell_type": "code",
   "execution_count": 32,
   "metadata": {},
   "outputs": [],
   "source": [
    "from sklearn.cluster import AgglomerativeClustering\n",
    "from scipy.cluster.hierarchy import dendrogram"
   ]
  },
  {
   "cell_type": "code",
   "execution_count": 33,
   "metadata": {},
   "outputs": [],
   "source": [
    "model = AgglomerativeClustering(n_clusters=None, # end when 1 cluster\n",
    "                                metric='cosine', # cosine is 1-cosine_similarity which means is a measure of dissimilarity, distance measure between [0,2]\n",
    "                                linkage='average',\n",
    "                                distance_threshold=0)"
   ]
  },
  {
   "cell_type": "code",
   "execution_count": 34,
   "metadata": {},
   "outputs": [
    {
     "name": "stdout",
     "output_type": "stream",
     "text": [
      "(455, 300)\n"
     ]
    }
   ],
   "source": [
    "print(ne_types_embeddings.shape)"
   ]
  },
  {
   "cell_type": "code",
   "execution_count": 35,
   "metadata": {},
   "outputs": [
    {
     "name": "stdout",
     "output_type": "stream",
     "text": [
      "['person', 'organization', 'location', 'concept', 'product', 'variable', 'date', 'medical condition', 'object', 'technology', 'chemical', 'software', 'event', 'number', 'disease', 'attribute', 'protein', 'group', 'material', 'measurement', 'other', 'function', 'entity type', 'nationality', 'country', 'class', 'process', 'title', 'animal', 'component', 'condition', 'substance', 'food', 'city', 'activity', 'type', 'company', 'time', 'method', 'property', 'organism', 'drug', 'medical procedure', 'treatment', 'profession', 'cell type', 'anatomical structure', 'job title', 'data', 'quantity', 'sports team', 'biological process', 'data type', 'programming language', 'occupation', 'file', 'body part', 'medical treatment', 'language', 'chemical compound', 'entity', 'gene', 'state', 'law', 'action', 'website', 'library', 'facility', 'publication', 'tool', 'field of study', 'compound', 'document', 'organ', 'abbreviation', 'character', 'brand', 'device', 'operating system', 'service', 'technique', 'miscellaneous', 'species', 'symptom', 'task', 'category', 'parameter', 'movie', 'molecule', 'political party', 'procedure', 'sport', 'equipment', 'team', 'biological entity', 'book', 'region', 'medical test', 'anatomical_structure', 'anatomy', 'module', 'hardware', 'place', 'characteristic', 'plant', 'biomolecule', 'field', 'award', 'tv show', 'gender', 'feature', 'program', 'enzyme', 'structure', 'phenomenon', 'industry', 'license', 'ethnicity', 'system', 'value', 'age', 'time period', 'element', 'topic', 'color', 'unit', 'virus', 'religion', 'sports league', 'band', 'vehicle', 'ingredient', 'media', 'factor', 'tissue', 'crime', 'village', 'year', 'demographic', 'medical equipment', 'namespace', 'skill', 'anatomical entity', 'model', 'position', 'medical concept', 'song', 'video game', 'test', 'data structure', 'album', 'string', 'part', 'medical term', 'package', 'org', 'command', 'building', 'currency', 'noun', 'cell', 'medical device', 'trait', 'age group', 'county', 'invention', 'column', 'url', 'outcome', 'family', 'html tag', 'database', 'business', 'study', 'author', 'text', 'information', 'cell line', 'genus', 'letter', 'patent', 'application', 'physical quantity', 'item', 'duration', 'programming concept', 'constant', 'cryptocurrency', 'tag', 'protocol', 'medication', 'educational institution', 'version', 'resource', 'film', 'policy', 'quality', 'particle', 'directory', 'subject', 'cellular component', 'project', 'work of art', 'town', 'table', 'research', 'hormone', 'legal', 'genre', 'problem', 'file format', 'province', 'disorder', 'acronym', 'biological', 'genetic variation', 'issue', 'instrument', 'biological_process', 'ordinal', 'statistic', 'import', 'framework', 'clothing', 'financial', 'district', 'fictional character', 'body_part', 'education', 'competition', 'nutrient', 'government', 'behavior', 'weapon', 'apparatus', 'emotion', 'general', 'demonym', 'interface', 'money', 'communication', 'group of people', 'keyword', 'adjective', 'game', 'court', 'amino acid', 'misc', 'transportation', 'medical facility', 'gpe', 'term', 'signal', 'effect', 'legal term', 'email', 'actor', 'identifier', 'degree', 'culture', 'platform', 'format', 'shape', 'algorithm', 'entity type not specified', 'image', 'cell component', 'planet', 'physical object', 'bacteria', 'music genre', 'gene/protein', 'restaurant', 'surname', 'direction', 'css property', 'machine', 'therapy', 'code', 'legal citation', 'name', 'html element', 'integer', 'deity', 'sports event', 'people', 'measure', 'plant part', 'error', 'medical_condition', 'reference', 'symbol', 'holiday', 'artist', 'population', 'mutation', 'source', 'department', 'section', 'medical', 'health condition', 'chemical substance', 'furniture', 'metric', 'folder', 'percentage', 'tv series', 'address', 'river', 'weather', 'aspect', 'school', 'continent', 'biomarker', 'season', 'medical measurement', 'cardinal', 'physical property', 'course', 'size', 'work_of_art', 'mathematical concept', 'role', 'legal document', 'cytokine', 'legal case', 'relationship', 'musical instrument', 'cause', 'microorganism', 'energy', 'medium', 'commodity', 'university', 'configuration', 'work', 'list', 'data format', 'status', 'network', 'file type', 'tournament', 'living organism', 'venue', 'art', 'contact', 'unknown', 'governmental body', 'pronoun', 'geopolitical entity', 'anatomicalstructure', 'musical group', 'biological molecule', 'newspaper', 'natural disaster', 'landmark', 'government body', 'scientific concept', 'radio station', 'norp', 'tv network', 'geographic location', 'dish', 'unit of measurement', 'job', 'road', 'operation', 'environment', 'ship', 'celestial body', 'patient', 'strain', 'street', 'setting', 'style', 'job_title', 'agreement', 'option', 'magazine', 'file name', 'marker', 'header file', 'creative work', 'appliance', 'religious group', 'user interface element', 'domain', 'related art', 'creature', 'league', 'ability', 'mechanism', 'user', 'month', 'design', 'government agency', 'boolean', 'journal', 'governmental organization', 'entertainment', 'verb', 'bacterium', 'register', 'sequence', 'specific', 'methodology', 'military unit', 'municipality', 'struct', 'set', 'figure', 'label', 'township', 'pattern', 'idea', 'real estate', 'ethnic group', 'artifact', 'organisation', 'social group', 'html attribute', 'chemical_substance', 'room', 'aircraft', 'biological sample', 'financial term', 'metabolite', 'highway', 'medicalcondition', 'antibody', 'music group', 'political group', 'operator', 'description', 'race', 'store', 'stage', 'brain region', 'body fluid', 'container', 'mineral', 'ui element', 'nickname', 'athlete', 'patient group', 'neighborhood', 'electronic device', 'route', 'protein domain', 'science', 'beverage', 'standard', 'hotel', 'club', 'fieldterminology']\n"
     ]
    }
   ],
   "source": [
    "print(ne_types_list)"
   ]
  },
  {
   "cell_type": "code",
   "execution_count": 36,
   "metadata": {},
   "outputs": [],
   "source": [
    "labels = model.fit_predict(ne_types_embeddings[:, :])"
   ]
  },
  {
   "cell_type": "code",
   "execution_count": 37,
   "metadata": {},
   "outputs": [],
   "source": [
    "def plot_dendrogram(model, **kwargs):\n",
    "    # Create linkage matrix and then plot the dendrogram\n",
    "\n",
    "    # create the counts of samples under each node\n",
    "    counts = np.zeros(model.children_.shape[0])\n",
    "    n_samples = len(model.labels_)\n",
    "    for i, merge in enumerate(model.children_):\n",
    "        current_count = 0\n",
    "        for child_idx in merge:\n",
    "            if child_idx < n_samples:\n",
    "                current_count += 1  # leaf node\n",
    "            else:\n",
    "                current_count += counts[child_idx - n_samples]\n",
    "        counts[i] = current_count\n",
    "\n",
    "    linkage_matrix = np.column_stack(\n",
    "        [model.children_, model.distances_, counts]\n",
    "    ).astype(float)\n",
    "\n",
    "    # Define a custom leaf label function\n",
    "    def label_leaf_custom(id):\n",
    "        # id corresponds to cluster index\n",
    "        if id < n_samples:\n",
    "            # Singleton leaf, use the label from ne_types_list\n",
    "            return ne_types_list[id]\n",
    "        else:\n",
    "            # Non-singleton cluster\n",
    "            return f\"Cluster {id}, Count: {int(counts[id - n_samples])}\"\n",
    "\n",
    "    plt.figure(figsize=(10, 50))\n",
    "\n",
    "    # Plot the corresponding dendrogram\n",
    "    dendrogram(linkage_matrix, orientation='right', leaf_label_func=label_leaf_custom, leaf_rotation=0, **kwargs)"
   ]
  },
  {
   "cell_type": "code",
   "execution_count": 38,
   "metadata": {},
   "outputs": [
    {
     "data": {
      "image/png": "[encoded data removed]",
      "text/plain": [
       "<Figure size 1000x5000 with 1 Axes>"
      ]
     },
     "metadata": {},
     "output_type": "display_data"
    }
   ],
   "source": [
    "plot_dendrogram(model) # , truncate_mode=\"level\", p=5"
   ]
  },
  {
   "cell_type": "code",
   "execution_count": 33,
   "metadata": {},
   "outputs": [],
   "source": [
    "new_ne_type_list = {\n",
    "    \"misc\": None,\n",
    "    \"miscellaneous\": None,\n",
    "    \"other\": None,\n",
    "    \"unknown\": None,\n",
    "    \"general\": None,\n",
    "    \"entity type not specified\": None,\n",
    "    \"entity type\": None,\n",
    "    \"entity\": None,\n",
    "    \"text\": None,\n",
    "    \"import\": None,\n",
    "    \n",
    "    \"bacteria\": \"bacterium\",\n",
    "    \"biological\": \"biological entity\",\n",
    "    \"cell\": \"cell type\",\n",
    "    \"cellular component\": \"cell component\",\n",
    "    \"governmental body\": \"government body\",\n",
    "    \"movie\": \"film\",\n",
    "    \"work\": \"work of art\",\n",
    "    \"musical group\": \"music group\",\n",
    "    \"org\": \"organization\",\n",
    "\n",
    "    \"anatomical_structure\": \"anatomical structure\",\n",
    "    \"anatomicalstructure\": \"anatomical structure\",\n",
    "    \"biological_process\": \"biological process\",\n",
    "    \"body_part\": \"body part\",\n",
    "    \"gpe\": \"geopolitical entity\",\n",
    "    \"gene/protein\": \"gene\",\n",
    "    \"work_of_art\": \"work of art\",\n",
    "    \"job_title\": \"job title\",\n",
    "    \"organisation\": \"organization\",\n",
    "    \"chemical_substance\": \"chemical substance\",\n",
    "    \"medical_condition\": \"medical condition\",\n",
    "    \"medicalcondition\": \"medical condition\",\n",
    "\n",
    "    \"fieldterminology\": None,\n",
    "    \"cryptocurrency\": \"cryptocurrency\",\n",
    "    \"demonym\": \"demonym\",\n",
    "    \"norp\": \"norp\"\n",
    "}"
   ]
  },
  {
   "cell_type": "code",
   "execution_count": 34,
   "metadata": {},
   "outputs": [],
   "source": [
    "# checking all key, values are in NE types list\n",
    "for k,v in new_ne_type_list.items():\n",
    "    if k not in ne_types_list:\n",
    "        print(k)\n",
    "    if v is not None and v not in ne_types_list:\n",
    "        print(v)"
   ]
  }
 ],
 "metadata": {
  "kernelspec": {
   "display_name": "Python 3",
   "language": "python",
   "name": "python3"
  },
  "language_info": {
   "codemirror_mode": {
    "name": "ipython",
    "version": 3
   },
   "file_extension": ".py",
   "mimetype": "text/x-python",
   "name": "python",
   "nbconvert_exporter": "python",
   "pygments_lexer": "ipython3",
   "version": "3.8.13"
  }
 },
 "nbformat": 4,
 "nbformat_minor": 2
}
