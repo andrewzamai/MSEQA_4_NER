{
 "cells": [
  {
   "cell_type": "code",
   "execution_count": 1,
   "metadata": {},
   "outputs": [],
   "source": [
    "import data_handler_uniNER"
   ]
  },
  {
   "cell_type": "code",
   "execution_count": 2,
   "metadata": {},
   "outputs": [
    {
     "name": "stderr",
     "output_type": "stream",
     "text": [
      "Using custom data configuration Universal-NER--Pile-NER-type-e81e7ad3a512a503\n",
      "Found cached dataset json (/Users/andrew/.cache/huggingface/datasets/Universal-NER___json/Universal-NER--Pile-NER-type-e81e7ad3a512a503/0.0.0/e6070c77f18f01a5ad4551a8b7edfba20b8438b7cad4d94e6ad9378022ce4aab)\n"
     ]
    },
    {
     "data": {
      "application/vnd.jupyter.widget-view+json": {
       "model_id": "ee7b14d2751046439f929662a80bcc54",
       "version_major": 2,
       "version_minor": 0
      },
      "text/plain": [
       "  0%|          | 0/1 [00:00<?, ?it/s]"
      ]
     },
     "metadata": {},
     "output_type": "display_data"
    }
   ],
   "source": [
    "uniNER_dataset_MSEQA_format = data_handler_uniNER.build_uniNER_dataset_MSEQA_format()"
   ]
  },
  {
   "cell_type": "code",
   "execution_count": null,
   "metadata": {},
   "outputs": [],
   "source": [
    "print(uniNER_dataset_MSEQA_format['train'][23])"
   ]
  },
  {
   "cell_type": "code",
   "execution_count": 5,
   "metadata": {},
   "outputs": [],
   "source": [
    "from transformers import AutoTokenizer\n",
    "import transformers"
   ]
  },
  {
   "cell_type": "code",
   "execution_count": 6,
   "metadata": {},
   "outputs": [],
   "source": [
    "tokenizer_to_use = \"roberta-base\""
   ]
  },
  {
   "cell_type": "code",
   "execution_count": 7,
   "metadata": {},
   "outputs": [],
   "source": [
    "MAX_SEQ_LENGTH = 512  # question + context + special tokens\n",
    "DOC_STRIDE = 64  # overlap between 2 consecutive passages from same document\n",
    "MAX_QUERY_LENGTH = 48  # not used, but questions must not be too long given a chosen DOC_STRIDE"
   ]
  },
  {
   "cell_type": "code",
   "execution_count": 9,
   "metadata": {},
   "outputs": [
    {
     "name": "stdout",
     "output_type": "stream",
     "text": [
      "\n",
      "Loading tokenizer...\n",
      "MAX_SEQ_LENGTH used to chunk documents: 512\n",
      "DOC_STRIDE used: 64\n"
     ]
    }
   ],
   "source": [
    "print(\"\\nLoading tokenizer...\")\n",
    "tokenizer = AutoTokenizer.from_pretrained(tokenizer_to_use)\n",
    "assert isinstance(tokenizer, transformers.PreTrainedTokenizerFast)\n",
    "MODEL_CONTEXT_WINDOW = tokenizer.model_max_length\n",
    "assert MAX_SEQ_LENGTH <= MODEL_CONTEXT_WINDOW, \"MAX SEQ LENGTH must be smallerEqual than model context window\"\n",
    "print(f\"MAX_SEQ_LENGTH used to chunk documents: {MAX_SEQ_LENGTH}\")\n",
    "assert DOC_STRIDE < (MAX_SEQ_LENGTH - MAX_QUERY_LENGTH), \"DOC_STRIDE must be smaller, otherwise parts of the doc will be skipped\"\n",
    "print(\"DOC_STRIDE used: {}\".format(DOC_STRIDE))"
   ]
  },
  {
   "cell_type": "code",
   "execution_count": 10,
   "metadata": {},
   "outputs": [],
   "source": [
    "prefix = \"Your task is to extract the Named Entities of type PROCESS from an input TEXT. You are given a DEFINITION and some GUIDELINES.\\nDEFINITION: PROCESS refers to a series of actions, changes, or functions that lead to a particular result or outcome, such as procedures, methodologies, and workflows.\\nGUIDELINES: Do not label general activities or events without a clear sequence. Exercise caution with ambiguous terms like 'production' (could refer to a process, a company, or a location) and 'assembly' (could refer to a process or a gathering of people).\\nTEXT:\""
   ]
  },
  {
   "cell_type": "code",
   "execution_count": 11,
   "metadata": {},
   "outputs": [
    {
     "name": "stdout",
     "output_type": "stream",
     "text": [
      "Your task is to extract the Named Entities of type PROCESS from an input TEXT. You are given a DEFINITION and some GUIDELINES.\n",
      "DEFINITION: PROCESS refers to a series of actions, changes, or functions that lead to a particular result or outcome, such as procedures, methodologies, and workflows.\n",
      "GUIDELINES: Do not label general activities or events without a clear sequence. Exercise caution with ambiguous terms like 'production' (could refer to a process, a company, or a location) and 'assembly' (could refer to a process or a gathering of people).\n",
      "TEXT:\n"
     ]
    }
   ],
   "source": [
    "print(prefix)"
   ]
  },
  {
   "cell_type": "code",
   "execution_count": 12,
   "metadata": {},
   "outputs": [],
   "source": [
    "tokenized = tokenizer(prefix,\n",
    "        truncation='only_second',  # longest_first\n",
    "        max_length=MAX_SEQ_LENGTH,\n",
    "        stride=DOC_STRIDE,\n",
    "        return_overflowing_tokens=True,\n",
    "        return_offsets_mapping=True,\n",
    "        padding=False,  # not padding here\n",
    "    )"
   ]
  },
  {
   "cell_type": "code",
   "execution_count": 14,
   "metadata": {},
   "outputs": [
    {
     "name": "stdout",
     "output_type": "stream",
     "text": [
      "134\n"
     ]
    }
   ],
   "source": [
    "print(len(tokenized['input_ids'][0]))"
   ]
  }
 ],
 "metadata": {
  "kernelspec": {
   "display_name": "base",
   "language": "python",
   "name": "python3"
  },
  "language_info": {
   "codemirror_mode": {
    "name": "ipython",
    "version": 3
   },
   "file_extension": ".py",
   "mimetype": "text/x-python",
   "name": "python",
   "nbconvert_exporter": "python",
   "pygments_lexer": "ipython3",
   "version": "3.8.13"
  },
  "orig_nbformat": 4
 },
 "nbformat": 4,
 "nbformat_minor": 2
}
