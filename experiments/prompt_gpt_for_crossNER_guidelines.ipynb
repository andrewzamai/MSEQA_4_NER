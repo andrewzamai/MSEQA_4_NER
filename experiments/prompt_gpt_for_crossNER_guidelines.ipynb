{
 "cells": [
  {
   "cell_type": "markdown",
   "metadata": {},
   "source": [
    "## Prompting gpt-3.5-turbo to get a Definition for each NE type in cross-NER/BUSTER"
   ]
  },
  {
   "cell_type": "code",
   "execution_count": 1,
   "metadata": {},
   "outputs": [],
   "source": [
    "import json\n",
    "import sys\n",
    "import os\n",
    "\n",
    "from openai import OpenAI\n",
    "from dotenv import load_dotenv\n",
    "import tiktoken \n",
    "\n",
    "# my libraries\n",
    "sys.path.append(\"/Users/andrew/ExpertAI/MSEQA_for_NER/src/MSEQA_4_NER\")\n",
    "from data_handlers import data_handler_cross_NER\n",
    "from data_handlers import data_handler_BUSTER"
   ]
  },
  {
   "cell_type": "code",
   "execution_count": 2,
   "metadata": {},
   "outputs": [
    {
     "name": "stdout",
     "output_type": "stream",
     "text": [
      "True\n"
     ]
    }
   ],
   "source": [
    "# Load API key from .env\n",
    "load_dotenv('./.env')\n",
    "print(os.environ.get('OPENAI_API_KEY') is not None)"
   ]
  },
  {
   "cell_type": "code",
   "execution_count": 3,
   "metadata": {},
   "outputs": [],
   "source": [
    "client = OpenAI()"
   ]
  },
  {
   "cell_type": "code",
   "execution_count": 4,
   "metadata": {},
   "outputs": [],
   "source": [
    "gpt_model = \"gpt-3.5-turbo-1106\""
   ]
  },
  {
   "cell_type": "code",
   "execution_count": 5,
   "metadata": {},
   "outputs": [
    {
     "name": "stdout",
     "output_type": "stream",
     "text": [
      "NE types:\n",
      "14\n",
      "['algorithm', 'conference', 'country', 'field', 'location', 'metrics', 'misc', 'organisation', 'person', 'product', 'programlang', 'researcher', 'task', 'university']\n"
     ]
    }
   ],
   "source": [
    "dataset_name = \"ai\"\n",
    "with open(f\"../data_handlers/questions/crossNER/sentences_per_ne_type_{dataset_name}.json\", 'r') as file:\n",
    "        sentences_per_ne_type = json.load(file)\n",
    "\n",
    "ne_types_list = list(sentences_per_ne_type.keys())\n",
    "\n",
    "print(\"NE types:\")\n",
    "print(len(ne_types_list))\n",
    "print(ne_types_list)"
   ]
  },
  {
   "cell_type": "code",
   "execution_count": 6,
   "metadata": {},
   "outputs": [],
   "source": [
    "def num_tokens_from_messages(messages, model=\"gpt-3.5-turbo-1106\"):\n",
    "    \"\"\"Return the number of tokens used in the input prompt.\"\"\"\n",
    "    try:\n",
    "        encoding = tiktoken.encoding_for_model(model)\n",
    "    except KeyError:\n",
    "        print(\"Warning: model not found. Using cl100k_base encoding.\")\n",
    "        encoding = tiktoken.get_encoding(\"cl100k_base\")\n",
    "    if model in {\n",
    "        \"gpt-3.5-turbo-0613\",\n",
    "        \"gpt-3.5-turbo-16k-0613\",\n",
    "        \"gpt-4-0314\",\n",
    "        \"gpt-4-32k-0314\",\n",
    "        \"gpt-4-0613\",\n",
    "        \"gpt-4-32k-0613\",\n",
    "        }:\n",
    "        tokens_per_message = 3\n",
    "        tokens_per_name = 1\n",
    "    elif model == \"gpt-3.5-turbo-0301\":\n",
    "        tokens_per_message = 4  # every message follows <|start|>{role/name}\\n{content}<|end|>\\n\n",
    "        tokens_per_name = -1  # if there's a name, the role is omitted\n",
    "    elif \"gpt-3.5-turbo\" in model:\n",
    "        # print(\"Warning: gpt-3.5-turbo may update over time. Returning num tokens assuming gpt-3.5-turbo-0613.\")\n",
    "        return num_tokens_from_messages(messages, model=\"gpt-3.5-turbo-0613\")\n",
    "    elif \"gpt-4\" in model:\n",
    "        print(\"Warning: gpt-4 may update over time. Returning num tokens assuming gpt-4-0613.\")\n",
    "        return num_tokens_from_messages(messages, model=\"gpt-4-0613\")\n",
    "    else:\n",
    "        raise NotImplementedError(\n",
    "            f\"\"\"num_tokens_from_messages() is not implemented for model {model}. See https://github.com/openai/openai-python/blob/main/chatml.md for information on how messages are converted to tokens.\"\"\"\n",
    "        )\n",
    "    num_tokens = 0\n",
    "    for message in messages:\n",
    "        num_tokens += tokens_per_message\n",
    "        for key, value in message.items():\n",
    "            num_tokens += len(encoding.encode(value))\n",
    "            if key == \"name\":\n",
    "                num_tokens += tokens_per_name\n",
    "    num_tokens += 3  # every reply is primed with <|start|>assistant<|message|>\n",
    "    return num_tokens"
   ]
  },
  {
   "cell_type": "markdown",
   "metadata": {},
   "source": [
    "# PROMPT formulation"
   ]
  },
  {
   "cell_type": "markdown",
   "metadata": {},
   "source": [
    "System message"
   ]
  },
  {
   "cell_type": "code",
   "execution_count": null,
   "metadata": {},
   "outputs": [],
   "source": [
    "system_message = \"You are a helpful NER data annotator designed to output JSON.\"  # OpenAI documentations suggest to write also here to output JSON"
   ]
  },
  {
   "cell_type": "markdown",
   "metadata": {},
   "source": [
    "creating 1st 'user_prompt' using 'location' as example "
   ]
  },
  {
   "cell_type": "code",
   "execution_count": null,
   "metadata": {},
   "outputs": [],
   "source": [
    "ne_type = 'location'\n",
    "#related_data = sentences_per_ne_type[ne_type]\n",
    "\n",
    "#example_prompt = data_handler_cross_NER.generate_structured_prompt(related_data)\n",
    "\n",
    "example_prompt = \"Named Entity: 'location'. Examples: [{'sentence': 'He was awarded honorary degree from the University of Cambridge in Cambridge , UK , and the Copley Medal of the Royal Society in 1906 .', 'entities': ['Cambridge']}, {'sentence': 'According to onlookers, the communicant told the priest: \\\"You're in Ireland now\\\".', 'entities': ['Ireland']}, {'sentence': 'The Big Bend Country is part of the larger Columbia Country , which includes the Columbia Valley and upper Arrow Lakes .', 'entities': ['Arrow Lakes', 'Columbia Country', 'Big Bend Country', 'Columbia Valley']}]. Hints: You should not label 'here', 'there' and similar as 'location' entities.\\nInstructions: 1. Provide a concise definition for the named entity 'location' in the context of NER. 2. Provide guidelines by specifying what entities should not be labeled as 'location' and include potential pitfalls to avoid. Go beyond generic terms and delve into nuanced scenarios. Be explicit about potential ambiguities and provide guidance on distinguishing 'location' from similar entities.\\nOutput in JSON format: {\\\"Definition\\\": \\\"\\\", \\\"Guidelines\\\": \\\"\\\"}.\"\n",
    "\n",
    "print(\"example_prompt:\\n\")\n",
    "print(example_prompt)"
   ]
  },
  {
   "cell_type": "markdown",
   "metadata": {},
   "source": [
    "What would look like a desired gpt's answer"
   ]
  },
  {
   "cell_type": "code",
   "execution_count": null,
   "metadata": {},
   "outputs": [],
   "source": [
    "example_answer = \"{\\\"Definition\\\": \\\"\\'location\\' denotes geographic entities, such as cities, countries, and landmarks, that represent specific places on Earth.\\\", \\\"Guidelines\\\": \\\"Do not label abstract references. Be cautious with ambiguous terms like 'Paris Hilton' (person with a location name) or 'Amazon' (both a company and a river).\" # Be cautious with terms that may refer to both people and places, like 'Jordan' (person or country).\\\"}\"\n",
    "print(\"example answer:\")\n",
    "print(example_answer)"
   ]
  },
  {
   "cell_type": "markdown",
   "metadata": {},
   "source": [
    "The real prompt for the desired NE "
   ]
  },
  {
   "cell_type": "code",
   "execution_count": null,
   "metadata": {},
   "outputs": [],
   "source": [
    "ne_type = 'Advisors.GENERIC_CONSULTING_COMPANY'  # pick any NE\n",
    "ex_sentences = sentences_per_ne_type[ne_type]['sentences']\n",
    "ex_sentences_json = []\n",
    "for exsent in ex_sentences:\n",
    "    ex_sentences_json.append({'sentence': exsent['sentence'], 'entities': exsent['target_words_in_it']})\n",
    "real_prompt = f\"Now do the same for the Named Entity: \\'{sentences_per_ne_type[ne_type]['real_name']}\\', Examples: {ex_sentences_json}\"\n",
    "\n",
    "print(\"real prompt: \")\n",
    "print(real_prompt)"
   ]
  },
  {
   "cell_type": "code",
   "execution_count": null,
   "metadata": {},
   "outputs": [],
   "source": [
    "messages_to_send = [\n",
    "    {\n",
    "        \"role\": \"system\",\n",
    "        \"content\": system_message\n",
    "    },\n",
    "    {\n",
    "        \"role\": \"user\",\n",
    "        \"content\": example_prompt\n",
    "    },\n",
    "    {\n",
    "        \"role\": \"system\",\n",
    "        \"content\": example_answer\n",
    "    },\n",
    "    {\n",
    "        \"role\": \"user\",\n",
    "        \"content\": real_prompt\n",
    "    }\n",
    "]"
   ]
  },
  {
   "cell_type": "code",
   "execution_count": null,
   "metadata": {},
   "outputs": [],
   "source": [
    "n_input_tokens = num_tokens_from_messages(messages_to_send, gpt_model)\n",
    "print(f\"The input prompt has length in tokens: {n_input_tokens}\")"
   ]
  },
  {
   "cell_type": "code",
   "execution_count": null,
   "metadata": {},
   "outputs": [],
   "source": [
    "print(messages_to_send)"
   ]
  },
  {
   "cell_type": "markdown",
   "metadata": {},
   "source": [
    "### Pack it in 1 function"
   ]
  },
  {
   "cell_type": "code",
   "execution_count": 7,
   "metadata": {},
   "outputs": [],
   "source": [
    "def get_json_definition_for_ne(named_entity, sentences_per_ne_type, gpt_model_name, max_output_tokens):\n",
    "    # system message\n",
    "    system_message = \"You are a helpful NER data annotator designed to output JSON.\"\n",
    "    # user prompt example on location\n",
    "    example_prompt = \"Named Entity: 'location'. Examples: [{'sentence': 'He was awarded honorary degree from the University of Cambridge in Cambridge , UK , and the Copley Medal of the Royal Society in 1906 .', 'entities': ['Cambridge']}, {'sentence': 'According to onlookers, the communicant told the priest: \\\"You're in Ireland now\\\".', 'entities': ['Ireland']}, {'sentence': 'The Big Bend Country is part of the larger Columbia Country , which includes the Columbia Valley and upper Arrow Lakes .', 'entities': ['Arrow Lakes', 'Columbia Country', 'Big Bend Country', 'Columbia Valley']}]. Hints: You should not label 'here', 'there' and similar as 'location' entities.\\nInstructions: 1. Provide a concise definition for the named entity 'location' in the context of NER. 2. Provide guidelines by specifying what entities should not be labeled as 'location' and include potential pitfalls to avoid. Go beyond generic terms and delve into nuanced scenarios. Be explicit about potential ambiguities and provide guidance on distinguishing 'location' from similar entities.\\nOutput in JSON format: {\\\"Definition\\\": \\\"\\\", \\\"Guidelines\\\": \\\"\\\"}.\"\n",
    "    # example answer\n",
    "    example_answer = \"{\\\"Definition\\\": \\\"\\'location\\' denotes geographic entities, such as cities, countries, and landmarks, that represent specific places on Earth.\\\", \\\"Guidelines\\\": \\\"Do not label abstract references. Be cautious with ambiguous terms like 'Paris Hilton' (person with a location name) or 'Amazon' (both a company and a river).\"\n",
    "    # real prompt\n",
    "    exemplary_data = sentences_per_ne_type[named_entity]\n",
    "    ex_sentences = exemplary_data['sentences']\n",
    "    real_ne_name = exemplary_data['real_name']\n",
    "    ex_sentences_json = []\n",
    "    for exsent in ex_sentences:\n",
    "        ex_sentences_json.append({'sentence': exsent['sentence'], 'entities': exsent['target_words_in_it']})\n",
    "    real_prompt = f\"Now do the same for the Named Entity: \\'{real_ne_name}\\', Examples: {ex_sentences_json}\"\n",
    "    if exemplary_data['Hints'] != \"\":\n",
    "        real_prompt += f\". Hints: {exemplary_data['Hints']}\\n\"\n",
    "\n",
    "    # message to send\n",
    "    messages_to_send = [\n",
    "    {\n",
    "        \"role\": \"system\",\n",
    "        \"content\": system_message\n",
    "    },\n",
    "    {\n",
    "        \"role\": \"user\",\n",
    "        \"content\": example_prompt\n",
    "    },\n",
    "    {\n",
    "        \"role\": \"system\",\n",
    "        \"content\": example_answer\n",
    "    },\n",
    "    {\n",
    "        \"role\": \"user\",\n",
    "        \"content\": real_prompt\n",
    "    }\n",
    "    ]\n",
    "\n",
    "    n_input_tokens = num_tokens_from_messages(messages_to_send, gpt_model)\n",
    "    print(messages_to_send)\n",
    "\n",
    "    #for message in messages_to_send:\n",
    "    #print(message)\n",
    "    \n",
    "    if n_input_tokens > 1000:\n",
    "        raise ValueError(f\"Too many input tokens in messages_to_send: {len(messages_to_send)}, {messages_to_send}\")\n",
    "\n",
    "    print(f\"Sending prompt for NE: {named_entity}...\")\n",
    "    \n",
    "    completion = client.chat.completions.create(\n",
    "        messages=messages_to_send,\n",
    "        model=gpt_model_name,\n",
    "        max_tokens=max_output_tokens,\n",
    "        response_format={ \"type\": \"json_object\" }\n",
    "    )\n",
    "\n",
    "    choice = completion.choices[0]\n",
    "    finish_reason = choice.finish_reason\n",
    "    message = choice.message.content\n",
    "\n",
    "    #if finish_reason == 'length' and message[-2:] != \"\\\"}\":\n",
    "        #message += \"\\\"}\"\n",
    "\n",
    "    return {\"named_entity\": named_entity,\n",
    "            \"real_name\": real_ne_name,\n",
    "            \"sentences_as_example\": ex_sentences_json,\n",
    "            \"prompt_length\": completion.usage.prompt_tokens,\n",
    "            \"output_length\": completion.usage.completion_tokens,\n",
    "            \"gpt_answer\": message,\n",
    "            \"finish_reason\": finish_reason\n",
    "            }\n",
    "    "
   ]
  },
  {
   "cell_type": "markdown",
   "metadata": {},
   "source": [
    "### get all definitions"
   ]
  },
  {
   "cell_type": "code",
   "execution_count": 8,
   "metadata": {},
   "outputs": [
    {
     "name": "stdout",
     "output_type": "stream",
     "text": [
      "[{'role': 'system', 'content': 'You are a helpful NER data annotator designed to output JSON.'}, {'role': 'user', 'content': 'Named Entity: \\'location\\'. Examples: [{\\'sentence\\': \\'He was awarded honorary degree from the University of Cambridge in Cambridge , UK , and the Copley Medal of the Royal Society in 1906 .\\', \\'entities\\': [\\'Cambridge\\']}, {\\'sentence\\': \\'According to onlookers, the communicant told the priest: \"You\\'re in Ireland now\".\\', \\'entities\\': [\\'Ireland\\']}, {\\'sentence\\': \\'The Big Bend Country is part of the larger Columbia Country , which includes the Columbia Valley and upper Arrow Lakes .\\', \\'entities\\': [\\'Arrow Lakes\\', \\'Columbia Country\\', \\'Big Bend Country\\', \\'Columbia Valley\\']}]. Hints: You should not label \\'here\\', \\'there\\' and similar as \\'location\\' entities.\\nInstructions: 1. Provide a concise definition for the named entity \\'location\\' in the context of NER. 2. Provide guidelines by specifying what entities should not be labeled as \\'location\\' and include potential pitfalls to avoid. Go beyond generic terms and delve into nuanced scenarios. Be explicit about potential ambiguities and provide guidance on distinguishing \\'location\\' from similar entities.\\nOutput in JSON format: {\"Definition\": \"\", \"Guidelines\": \"\"}.'}, {'role': 'system', 'content': '{\"Definition\": \"\\'location\\' denotes geographic entities, such as cities, countries, and landmarks, that represent specific places on Earth.\", \"Guidelines\": \"Do not label abstract references. Be cautious with ambiguous terms like \\'Paris Hilton\\' (person with a location name) or \\'Amazon\\' (both a company and a river).'}, {'role': 'user', 'content': \"Now do the same for the Named Entity: 'algorithm', Examples: [{'sentence': 'Another technique particularly used for recurrent neural network s is the long short-term memory ( LSTM ) network of 1997 by Sepp Hochreiter & Jürgen Schmidhuber .', 'entities': ['recurrent neural network', 'LSTM', 'long short-term memory']}, {'sentence': 'In 1999 , Felix Gers and his advisor Jürgen Schmidhuber and Fred Cummins introduced the forget gate ( also called keep gate ) into LSTM architecture ,', 'entities': ['keep gate', 'LSTM', 'forget gate']}, {'sentence': 'J48 is an open source Java implementation of the C4.5 algorithm in the Weka data mining tool .', 'entities': ['C4.5 algorithm']}]. Hints: The algorithm entity. It contains algorithms (e.g., decision trees) and models (e.g, CNN and LSTM).\\n\"}]\n",
      "Sending prompt for NE: algorithm...\n",
      "[{'role': 'system', 'content': 'You are a helpful NER data annotator designed to output JSON.'}, {'role': 'user', 'content': 'Named Entity: \\'location\\'. Examples: [{\\'sentence\\': \\'He was awarded honorary degree from the University of Cambridge in Cambridge , UK , and the Copley Medal of the Royal Society in 1906 .\\', \\'entities\\': [\\'Cambridge\\']}, {\\'sentence\\': \\'According to onlookers, the communicant told the priest: \"You\\'re in Ireland now\".\\', \\'entities\\': [\\'Ireland\\']}, {\\'sentence\\': \\'The Big Bend Country is part of the larger Columbia Country , which includes the Columbia Valley and upper Arrow Lakes .\\', \\'entities\\': [\\'Arrow Lakes\\', \\'Columbia Country\\', \\'Big Bend Country\\', \\'Columbia Valley\\']}]. Hints: You should not label \\'here\\', \\'there\\' and similar as \\'location\\' entities.\\nInstructions: 1. Provide a concise definition for the named entity \\'location\\' in the context of NER. 2. Provide guidelines by specifying what entities should not be labeled as \\'location\\' and include potential pitfalls to avoid. Go beyond generic terms and delve into nuanced scenarios. Be explicit about potential ambiguities and provide guidance on distinguishing \\'location\\' from similar entities.\\nOutput in JSON format: {\"Definition\": \"\", \"Guidelines\": \"\"}.'}, {'role': 'system', 'content': '{\"Definition\": \"\\'location\\' denotes geographic entities, such as cities, countries, and landmarks, that represent specific places on Earth.\", \"Guidelines\": \"Do not label abstract references. Be cautious with ambiguous terms like \\'Paris Hilton\\' (person with a location name) or \\'Amazon\\' (both a company and a river).'}, {'role': 'user', 'content': \"Now do the same for the Named Entity: 'conference', Examples: [{'sentence': 'Xu has published more than 50 papers at international conferences and in journals in the field of computer vision and won the Best Paper Award at the international conference on Non-Photorealistic Rendering and Animation ( NPAR ) 2012 and the Best Reviewer Award at the international conferences Asian Conference on Computer Vision ACCV 2012 and International Conference on Computer Vision ( ICCV ) 2015 .', 'entities': ['international conference on Non-Photorealistic Rendering and Animation', 'ICCV', 'International Conference on Computer Vision', 'ACCV 2012', 'international conferences Asian Conference on Computer Vision', 'NPAR']}, {'sentence': 'He is a Fellow of the American Association for the Advancement of Science , Association for the Advancement Artificial Intelligence , and Cognitive Science Society , and an editor of the J.', 'entities': ['Association for the Advancement Artificial Intelligence']}, {'sentence': 'Eurisko made many interesting discoveries and enjoyed significant acclaim , with his paper Heuretics : Theoretical and Study of Heuristic Rules winning the Best Paper award at the 1982 Association for the Advancement of Artificial Intelligence .', 'entities': ['1982 Association for the Advancement of Artificial Intelligence']}]. Hints: The conference entity. It contains conference and journal entities.\\n\"}]\n",
      "Sending prompt for NE: conference...\n",
      "[{'role': 'system', 'content': 'You are a helpful NER data annotator designed to output JSON.'}, {'role': 'user', 'content': 'Named Entity: \\'location\\'. Examples: [{\\'sentence\\': \\'He was awarded honorary degree from the University of Cambridge in Cambridge , UK , and the Copley Medal of the Royal Society in 1906 .\\', \\'entities\\': [\\'Cambridge\\']}, {\\'sentence\\': \\'According to onlookers, the communicant told the priest: \"You\\'re in Ireland now\".\\', \\'entities\\': [\\'Ireland\\']}, {\\'sentence\\': \\'The Big Bend Country is part of the larger Columbia Country , which includes the Columbia Valley and upper Arrow Lakes .\\', \\'entities\\': [\\'Arrow Lakes\\', \\'Columbia Country\\', \\'Big Bend Country\\', \\'Columbia Valley\\']}]. Hints: You should not label \\'here\\', \\'there\\' and similar as \\'location\\' entities.\\nInstructions: 1. Provide a concise definition for the named entity \\'location\\' in the context of NER. 2. Provide guidelines by specifying what entities should not be labeled as \\'location\\' and include potential pitfalls to avoid. Go beyond generic terms and delve into nuanced scenarios. Be explicit about potential ambiguities and provide guidance on distinguishing \\'location\\' from similar entities.\\nOutput in JSON format: {\"Definition\": \"\", \"Guidelines\": \"\"}.'}, {'role': 'system', 'content': '{\"Definition\": \"\\'location\\' denotes geographic entities, such as cities, countries, and landmarks, that represent specific places on Earth.\", \"Guidelines\": \"Do not label abstract references. Be cautious with ambiguous terms like \\'Paris Hilton\\' (person with a location name) or \\'Amazon\\' (both a company and a river).'}, {'role': 'user', 'content': 'Now do the same for the Named Entity: \\'country\\', Examples: [{\\'sentence\\': \\'The company has international locations in Australia , Brazil , Canada , China , Germany , India , Italy , Japan , Korea , Lithuania , Poland , Malaysia , the Philippines , Russia , Singapore , South Africa , Spain , Taiwan , Thailand , Turkey and the United Kingdom .\\', \\'entities\\': [\\'Lithuania\\', \\'Italy\\', \\'United Kingdom\\', \\'China\\', \\'South Africa\\', \\'Turkey\\', \\'Australia\\', \\'Thailand\\', \\'India\\', \\'Poland\\', \\'Canada\\', \\'Malaysia\\', \\'Spain\\', \\'Russia\\', \\'Korea\\', \\'Taiwan\\', \\'Japan\\', \\'Singapore\\', \\'Germany\\', \\'Brazil\\', \\'Philippines\\']}, {\\'sentence\\': \\'Licensing the original patent awarded to inventor George Devol , Engelberger developed the first industrial robot in the United States , the Unimate , in the 1950s .\\', \\'entities\\': [\\'United States\\']}, {\\'sentence\\': \"One of the metrics used in NIST \\' s annual Document Understanding Conferences , in which research groups submit their systems for both summarization and translation tasks , is the ROUGE metric ( Recall-Oriented Understudy for Gisting Evaluation , In Advances of Neural Information Processing Systems ( NIPS ) , Montreal , Canada , December - 2014 .\", \\'entities\\': [\\'Canada\\']}]'}]\n",
      "Sending prompt for NE: country...\n",
      "[{'role': 'system', 'content': 'You are a helpful NER data annotator designed to output JSON.'}, {'role': 'user', 'content': 'Named Entity: \\'location\\'. Examples: [{\\'sentence\\': \\'He was awarded honorary degree from the University of Cambridge in Cambridge , UK , and the Copley Medal of the Royal Society in 1906 .\\', \\'entities\\': [\\'Cambridge\\']}, {\\'sentence\\': \\'According to onlookers, the communicant told the priest: \"You\\'re in Ireland now\".\\', \\'entities\\': [\\'Ireland\\']}, {\\'sentence\\': \\'The Big Bend Country is part of the larger Columbia Country , which includes the Columbia Valley and upper Arrow Lakes .\\', \\'entities\\': [\\'Arrow Lakes\\', \\'Columbia Country\\', \\'Big Bend Country\\', \\'Columbia Valley\\']}]. Hints: You should not label \\'here\\', \\'there\\' and similar as \\'location\\' entities.\\nInstructions: 1. Provide a concise definition for the named entity \\'location\\' in the context of NER. 2. Provide guidelines by specifying what entities should not be labeled as \\'location\\' and include potential pitfalls to avoid. Go beyond generic terms and delve into nuanced scenarios. Be explicit about potential ambiguities and provide guidance on distinguishing \\'location\\' from similar entities.\\nOutput in JSON format: {\"Definition\": \"\", \"Guidelines\": \"\"}.'}, {'role': 'system', 'content': '{\"Definition\": \"\\'location\\' denotes geographic entities, such as cities, countries, and landmarks, that represent specific places on Earth.\", \"Guidelines\": \"Do not label abstract references. Be cautious with ambiguous terms like \\'Paris Hilton\\' (person with a location name) or \\'Amazon\\' (both a company and a river).'}, {'role': 'user', 'content': 'Now do the same for the Named Entity: \\'field\\', Examples: [{\\'sentence\\': \"CycL in computer science and artificial intelligence is an ontology language used by Doug Lenat \\'s Cyc artificial project .\", \\'entities\\': [\\'computer science\\', \\'artificial intelligence\\']}, {\\'sentence\\': \\'Heterodyning is a signal processing technique invented by Canadian inventor-engineer Reginald Fessenden that creates new frequencies by combining mixing two frequencies .\\', \\'entities\\': [\\'signal processing\\']}, {\\'sentence\\': \\'tity contains a collection of visualization tools and algorithms for data analysis and predictive modeling , together with graphical user interfaces for easy access to these functions.\\', \\'entities\\': [\\'data analysis\\']}]. Hints: The research field entity, such as machine learning, deep learning, and natural language processing.\\n'}]\n",
      "Sending prompt for NE: field...\n",
      "[{'role': 'system', 'content': 'You are a helpful NER data annotator designed to output JSON.'}, {'role': 'user', 'content': 'Named Entity: \\'location\\'. Examples: [{\\'sentence\\': \\'He was awarded honorary degree from the University of Cambridge in Cambridge , UK , and the Copley Medal of the Royal Society in 1906 .\\', \\'entities\\': [\\'Cambridge\\']}, {\\'sentence\\': \\'According to onlookers, the communicant told the priest: \"You\\'re in Ireland now\".\\', \\'entities\\': [\\'Ireland\\']}, {\\'sentence\\': \\'The Big Bend Country is part of the larger Columbia Country , which includes the Columbia Valley and upper Arrow Lakes .\\', \\'entities\\': [\\'Arrow Lakes\\', \\'Columbia Country\\', \\'Big Bend Country\\', \\'Columbia Valley\\']}]. Hints: You should not label \\'here\\', \\'there\\' and similar as \\'location\\' entities.\\nInstructions: 1. Provide a concise definition for the named entity \\'location\\' in the context of NER. 2. Provide guidelines by specifying what entities should not be labeled as \\'location\\' and include potential pitfalls to avoid. Go beyond generic terms and delve into nuanced scenarios. Be explicit about potential ambiguities and provide guidance on distinguishing \\'location\\' from similar entities.\\nOutput in JSON format: {\"Definition\": \"\", \"Guidelines\": \"\"}.'}, {'role': 'system', 'content': '{\"Definition\": \"\\'location\\' denotes geographic entities, such as cities, countries, and landmarks, that represent specific places on Earth.\", \"Guidelines\": \"Do not label abstract references. Be cautious with ambiguous terms like \\'Paris Hilton\\' (person with a location name) or \\'Amazon\\' (both a company and a river).'}, {'role': 'user', 'content': 'Now do the same for the Named Entity: \\'location\\', Examples: [{\\'sentence\\': \"Beginning at the 2019 Toronto International Film Festival , films may now be restricted from screening at Scotiabank Theatre Toronto - one of the festival \\'s main venues - and screened elsewhere ( such as TIFF Bell Lightbox and other local cinemas ) if distributed by a service such as Netflix .\", \\'entities\\': [\\'TIFF Bell Lightbox\\', \\'Scotiabank Theatre Toronto\\']}, {\\'sentence\\': \"One of the metrics used in NIST \\' s annual Document Understanding Conferences , in which research groups submit their systems for both summarization and translation tasks , is the ROUGE metric ( Recall-Oriented Understudy for Gisting Evaluation , In Advances of Neural Information Processing Systems ( NIPS ) , Montreal , Canada , December - 2014 .\", \\'entities\\': [\\'Montreal\\']}, {\\'sentence\\': \"Boris Katz , ( born October 5 , 1947 , Chișinău , Moldavian SSR , Soviet Union , ( now Chișinău , Moldova ) ) is a principal American research scientist ( computer scientist ) at the MIT Computer Science and Artificial Intelligence Laboratory at the Massachusetts Institute of Technology in Cambridge and head of the Laboratory \\'s InfoLab Group .\", \\'entities\\': [\\'Moldavian SSR\\', \\'Chișinău\\']}]'}]\n",
      "Sending prompt for NE: location...\n",
      "[{'role': 'system', 'content': 'You are a helpful NER data annotator designed to output JSON.'}, {'role': 'user', 'content': 'Named Entity: \\'location\\'. Examples: [{\\'sentence\\': \\'He was awarded honorary degree from the University of Cambridge in Cambridge , UK , and the Copley Medal of the Royal Society in 1906 .\\', \\'entities\\': [\\'Cambridge\\']}, {\\'sentence\\': \\'According to onlookers, the communicant told the priest: \"You\\'re in Ireland now\".\\', \\'entities\\': [\\'Ireland\\']}, {\\'sentence\\': \\'The Big Bend Country is part of the larger Columbia Country , which includes the Columbia Valley and upper Arrow Lakes .\\', \\'entities\\': [\\'Arrow Lakes\\', \\'Columbia Country\\', \\'Big Bend Country\\', \\'Columbia Valley\\']}]. Hints: You should not label \\'here\\', \\'there\\' and similar as \\'location\\' entities.\\nInstructions: 1. Provide a concise definition for the named entity \\'location\\' in the context of NER. 2. Provide guidelines by specifying what entities should not be labeled as \\'location\\' and include potential pitfalls to avoid. Go beyond generic terms and delve into nuanced scenarios. Be explicit about potential ambiguities and provide guidance on distinguishing \\'location\\' from similar entities.\\nOutput in JSON format: {\"Definition\": \"\", \"Guidelines\": \"\"}.'}, {'role': 'system', 'content': '{\"Definition\": \"\\'location\\' denotes geographic entities, such as cities, countries, and landmarks, that represent specific places on Earth.\", \"Guidelines\": \"Do not label abstract references. Be cautious with ambiguous terms like \\'Paris Hilton\\' (person with a location name) or \\'Amazon\\' (both a company and a river).'}, {'role': 'user', 'content': \"Now do the same for the Named Entity: 'metrics', Examples: [{'sentence': 'Sigmoid function Cross entropy loss is used for predicting K independent probability values in math 0,1 / math .', 'entities': ['Sigmoid function Cross entropy loss']}, {'sentence': 'The parameters β are typically estimated by maximum likelihood .', 'entities': ['maximum likelihood']}, {'sentence': 'The NIST metric is based on the BLEU metric , but with some alterations .', 'entities': ['BLEU metric', 'NIST metric']}]. Hints: The evaluation metrics, such as F1-score.\\n\"}]\n",
      "Sending prompt for NE: metrics...\n",
      "[{'role': 'system', 'content': 'You are a helpful NER data annotator designed to output JSON.'}, {'role': 'user', 'content': 'Named Entity: \\'location\\'. Examples: [{\\'sentence\\': \\'He was awarded honorary degree from the University of Cambridge in Cambridge , UK , and the Copley Medal of the Royal Society in 1906 .\\', \\'entities\\': [\\'Cambridge\\']}, {\\'sentence\\': \\'According to onlookers, the communicant told the priest: \"You\\'re in Ireland now\".\\', \\'entities\\': [\\'Ireland\\']}, {\\'sentence\\': \\'The Big Bend Country is part of the larger Columbia Country , which includes the Columbia Valley and upper Arrow Lakes .\\', \\'entities\\': [\\'Arrow Lakes\\', \\'Columbia Country\\', \\'Big Bend Country\\', \\'Columbia Valley\\']}]. Hints: You should not label \\'here\\', \\'there\\' and similar as \\'location\\' entities.\\nInstructions: 1. Provide a concise definition for the named entity \\'location\\' in the context of NER. 2. Provide guidelines by specifying what entities should not be labeled as \\'location\\' and include potential pitfalls to avoid. Go beyond generic terms and delve into nuanced scenarios. Be explicit about potential ambiguities and provide guidance on distinguishing \\'location\\' from similar entities.\\nOutput in JSON format: {\"Definition\": \"\", \"Guidelines\": \"\"}.'}, {'role': 'system', 'content': '{\"Definition\": \"\\'location\\' denotes geographic entities, such as cities, countries, and landmarks, that represent specific places on Earth.\", \"Guidelines\": \"Do not label abstract references. Be cautious with ambiguous terms like \\'Paris Hilton\\' (person with a location name) or \\'Amazon\\' (both a company and a river).'}, {'role': 'user', 'content': 'Now do the same for the Named Entity: \\'miscellaneous\\', Examples: [{\\'sentence\\': \\'During the 1990s , encouraged by successes in speech recognition and speech synthesis , research began into speech translation with the development of the German Verbmobil project .\\', \\'entities\\': [\\'Verbmobil project\\', \\'German\\']}, {\\'sentence\\': \"CycL in computer science and artificial intelligence is an ontology language used by Doug Lenat \\'s Cyc artificial project .\", \\'entities\\': [\\'ontology language\\', \\'Cyc artificial project\\']}, {\\'sentence\\': \\'Heterodyning is a signal processing technique invented by Canadian inventor-engineer Reginald Fessenden that creates new frequencies by combining mixing two frequencies .\\', \\'entities\\': [\\'Canadian\\']}]. Hints: An entity needs to be classified as the miscellaneous type if it does not belong to any other category in the context of Artificial Intelligence such as field, task, product, algorithm, researcher, metrics, university, country, person, organization, location, programming language, conference.\\n'}]\n",
      "Sending prompt for NE: misc...\n",
      "[{'role': 'system', 'content': 'You are a helpful NER data annotator designed to output JSON.'}, {'role': 'user', 'content': 'Named Entity: \\'location\\'. Examples: [{\\'sentence\\': \\'He was awarded honorary degree from the University of Cambridge in Cambridge , UK , and the Copley Medal of the Royal Society in 1906 .\\', \\'entities\\': [\\'Cambridge\\']}, {\\'sentence\\': \\'According to onlookers, the communicant told the priest: \"You\\'re in Ireland now\".\\', \\'entities\\': [\\'Ireland\\']}, {\\'sentence\\': \\'The Big Bend Country is part of the larger Columbia Country , which includes the Columbia Valley and upper Arrow Lakes .\\', \\'entities\\': [\\'Arrow Lakes\\', \\'Columbia Country\\', \\'Big Bend Country\\', \\'Columbia Valley\\']}]. Hints: You should not label \\'here\\', \\'there\\' and similar as \\'location\\' entities.\\nInstructions: 1. Provide a concise definition for the named entity \\'location\\' in the context of NER. 2. Provide guidelines by specifying what entities should not be labeled as \\'location\\' and include potential pitfalls to avoid. Go beyond generic terms and delve into nuanced scenarios. Be explicit about potential ambiguities and provide guidance on distinguishing \\'location\\' from similar entities.\\nOutput in JSON format: {\"Definition\": \"\", \"Guidelines\": \"\"}.'}, {'role': 'system', 'content': '{\"Definition\": \"\\'location\\' denotes geographic entities, such as cities, countries, and landmarks, that represent specific places on Earth.\", \"Guidelines\": \"Do not label abstract references. Be cautious with ambiguous terms like \\'Paris Hilton\\' (person with a location name) or \\'Amazon\\' (both a company and a river).'}, {'role': 'user', 'content': 'Now do the same for the Named Entity: \\'organization\\', Examples: [{\\'sentence\\': \\'He is a Fellow of the American Association for the Advancement of Science , Association for the Advancement Artificial Intelligence , and Cognitive Science Society , and an editor of the J.\\', \\'entities\\': [\\'American Association for the Advancement of Science\\', \\'Cognitive Science Society\\']}, {\\'sentence\\': \"Unimation purchased Victor Scheinman \\' s Vicarm Inc.\", \\'entities\\': [\\'Unimation\\']}, {\\'sentence\\': \\'David Norris , Bloor Research , November 13 , 2013 .\\', \\'entities\\': [\\'Bloor Research\\']}]'}]\n",
      "Sending prompt for NE: organisation...\n",
      "[{'role': 'system', 'content': 'You are a helpful NER data annotator designed to output JSON.'}, {'role': 'user', 'content': 'Named Entity: \\'location\\'. Examples: [{\\'sentence\\': \\'He was awarded honorary degree from the University of Cambridge in Cambridge , UK , and the Copley Medal of the Royal Society in 1906 .\\', \\'entities\\': [\\'Cambridge\\']}, {\\'sentence\\': \\'According to onlookers, the communicant told the priest: \"You\\'re in Ireland now\".\\', \\'entities\\': [\\'Ireland\\']}, {\\'sentence\\': \\'The Big Bend Country is part of the larger Columbia Country , which includes the Columbia Valley and upper Arrow Lakes .\\', \\'entities\\': [\\'Arrow Lakes\\', \\'Columbia Country\\', \\'Big Bend Country\\', \\'Columbia Valley\\']}]. Hints: You should not label \\'here\\', \\'there\\' and similar as \\'location\\' entities.\\nInstructions: 1. Provide a concise definition for the named entity \\'location\\' in the context of NER. 2. Provide guidelines by specifying what entities should not be labeled as \\'location\\' and include potential pitfalls to avoid. Go beyond generic terms and delve into nuanced scenarios. Be explicit about potential ambiguities and provide guidance on distinguishing \\'location\\' from similar entities.\\nOutput in JSON format: {\"Definition\": \"\", \"Guidelines\": \"\"}.'}, {'role': 'system', 'content': '{\"Definition\": \"\\'location\\' denotes geographic entities, such as cities, countries, and landmarks, that represent specific places on Earth.\", \"Guidelines\": \"Do not label abstract references. Be cautious with ambiguous terms like \\'Paris Hilton\\' (person with a location name) or \\'Amazon\\' (both a company and a river).'}, {'role': 'user', 'content': 'Now do the same for the Named Entity: \\'person\\', Examples: [{\\'sentence\\': \") , Columbia \\'s Miss Sadie Thompson with Rita Hayworth , and Paramount \\'s Money From Home with Dean Martin and Jerry Lewis .\", \\'entities\\': [\\'Jerry Lewis\\', \\'Rita Hayworth\\', \\'Dean Martin\\']}, {\\'sentence\\': \\'The Walt Disney Company also began more prominent use of 3D films in special venues to impress audiences with Magic Journeys ( 1982 ) and Captain EO ( Francis Ford Coppola , 1986 , starring Michael Jackson ) being notable examples .\\', \\'entities\\': [\\'Francis Ford Coppola\\', \\'Michael Jackson\\']}]. Hints: If a person is working on research (including professor, Ph.D. student, researcher in companies, and etc) avoid labelling it as \\'person\\' entity.\\n'}]\n",
      "Sending prompt for NE: person...\n",
      "[{'role': 'system', 'content': 'You are a helpful NER data annotator designed to output JSON.'}, {'role': 'user', 'content': 'Named Entity: \\'location\\'. Examples: [{\\'sentence\\': \\'He was awarded honorary degree from the University of Cambridge in Cambridge , UK , and the Copley Medal of the Royal Society in 1906 .\\', \\'entities\\': [\\'Cambridge\\']}, {\\'sentence\\': \\'According to onlookers, the communicant told the priest: \"You\\'re in Ireland now\".\\', \\'entities\\': [\\'Ireland\\']}, {\\'sentence\\': \\'The Big Bend Country is part of the larger Columbia Country , which includes the Columbia Valley and upper Arrow Lakes .\\', \\'entities\\': [\\'Arrow Lakes\\', \\'Columbia Country\\', \\'Big Bend Country\\', \\'Columbia Valley\\']}]. Hints: You should not label \\'here\\', \\'there\\' and similar as \\'location\\' entities.\\nInstructions: 1. Provide a concise definition for the named entity \\'location\\' in the context of NER. 2. Provide guidelines by specifying what entities should not be labeled as \\'location\\' and include potential pitfalls to avoid. Go beyond generic terms and delve into nuanced scenarios. Be explicit about potential ambiguities and provide guidance on distinguishing \\'location\\' from similar entities.\\nOutput in JSON format: {\"Definition\": \"\", \"Guidelines\": \"\"}.'}, {'role': 'system', 'content': '{\"Definition\": \"\\'location\\' denotes geographic entities, such as cities, countries, and landmarks, that represent specific places on Earth.\", \"Guidelines\": \"Do not label abstract references. Be cautious with ambiguous terms like \\'Paris Hilton\\' (person with a location name) or \\'Amazon\\' (both a company and a river).'}, {'role': 'user', 'content': \"Now do the same for the Named Entity: 'product', Examples: [{'sentence': 'Some less widely spoken languages use the open-source eSpeak synthesizer for their speech ; producing a robotic , awkward voice that may be difficult to understand .', 'entities': ['eSpeak synthesizer']}, {'sentence': 'Libraries written in Perl , Java , ActiveX or .NET can be directly called from MATLAB ,', 'entities': ['MATLAB']}, {'sentence': 'Licensing the original patent awarded to inventor George Devol , Engelberger developed the first industrial robot in the United States , the Unimate , in the 1950s .', 'entities': ['Unimate', 'industrial robot']}]. Hints: The product entity that includes the product (e.g., a certain kind of robot like Pepper), system (e.g., facial recognition system) and toolkit (e.g., Tensorflow and PyTorch)\\n\"}]\n",
      "Sending prompt for NE: product...\n",
      "[{'role': 'system', 'content': 'You are a helpful NER data annotator designed to output JSON.'}, {'role': 'user', 'content': 'Named Entity: \\'location\\'. Examples: [{\\'sentence\\': \\'He was awarded honorary degree from the University of Cambridge in Cambridge , UK , and the Copley Medal of the Royal Society in 1906 .\\', \\'entities\\': [\\'Cambridge\\']}, {\\'sentence\\': \\'According to onlookers, the communicant told the priest: \"You\\'re in Ireland now\".\\', \\'entities\\': [\\'Ireland\\']}, {\\'sentence\\': \\'The Big Bend Country is part of the larger Columbia Country , which includes the Columbia Valley and upper Arrow Lakes .\\', \\'entities\\': [\\'Arrow Lakes\\', \\'Columbia Country\\', \\'Big Bend Country\\', \\'Columbia Valley\\']}]. Hints: You should not label \\'here\\', \\'there\\' and similar as \\'location\\' entities.\\nInstructions: 1. Provide a concise definition for the named entity \\'location\\' in the context of NER. 2. Provide guidelines by specifying what entities should not be labeled as \\'location\\' and include potential pitfalls to avoid. Go beyond generic terms and delve into nuanced scenarios. Be explicit about potential ambiguities and provide guidance on distinguishing \\'location\\' from similar entities.\\nOutput in JSON format: {\"Definition\": \"\", \"Guidelines\": \"\"}.'}, {'role': 'system', 'content': '{\"Definition\": \"\\'location\\' denotes geographic entities, such as cities, countries, and landmarks, that represent specific places on Earth.\", \"Guidelines\": \"Do not label abstract references. Be cautious with ambiguous terms like \\'Paris Hilton\\' (person with a location name) or \\'Amazon\\' (both a company and a river).'}, {'role': 'user', 'content': \"Now do the same for the Named Entity: 'programming language', Examples: [{'sentence': 'Libraries written in Perl , Java , ActiveX or .NET can be directly called from MATLAB ,', 'entities': ['Java', 'Perl', 'ActiveX']}, {'sentence': 'Same implementation , to run in Java with JShell ( Java 9 minimum ) : codejshell scriptfile / codesyntaxhighlight lang = java', 'entities': ['Java', 'java']}, {'sentence': 'J48 is an open source Java implementation of the C4.5 algorithm in the Weka data mining tool .', 'entities': ['Java']}]. Hints: The programming language, such as Java and Python.\\n\"}]\n",
      "Sending prompt for NE: programlang...\n",
      "[{'role': 'system', 'content': 'You are a helpful NER data annotator designed to output JSON.'}, {'role': 'user', 'content': 'Named Entity: \\'location\\'. Examples: [{\\'sentence\\': \\'He was awarded honorary degree from the University of Cambridge in Cambridge , UK , and the Copley Medal of the Royal Society in 1906 .\\', \\'entities\\': [\\'Cambridge\\']}, {\\'sentence\\': \\'According to onlookers, the communicant told the priest: \"You\\'re in Ireland now\".\\', \\'entities\\': [\\'Ireland\\']}, {\\'sentence\\': \\'The Big Bend Country is part of the larger Columbia Country , which includes the Columbia Valley and upper Arrow Lakes .\\', \\'entities\\': [\\'Arrow Lakes\\', \\'Columbia Country\\', \\'Big Bend Country\\', \\'Columbia Valley\\']}]. Hints: You should not label \\'here\\', \\'there\\' and similar as \\'location\\' entities.\\nInstructions: 1. Provide a concise definition for the named entity \\'location\\' in the context of NER. 2. Provide guidelines by specifying what entities should not be labeled as \\'location\\' and include potential pitfalls to avoid. Go beyond generic terms and delve into nuanced scenarios. Be explicit about potential ambiguities and provide guidance on distinguishing \\'location\\' from similar entities.\\nOutput in JSON format: {\"Definition\": \"\", \"Guidelines\": \"\"}.'}, {'role': 'system', 'content': '{\"Definition\": \"\\'location\\' denotes geographic entities, such as cities, countries, and landmarks, that represent specific places on Earth.\", \"Guidelines\": \"Do not label abstract references. Be cautious with ambiguous terms like \\'Paris Hilton\\' (person with a location name) or \\'Amazon\\' (both a company and a river).'}, {'role': 'user', 'content': \"Now do the same for the Named Entity: 'researcher', Examples: [{'sentence': 'Advocates of procedural representations were mainly centered at MIT , under the leadership of Marvin Minsky and Seymour Papert .', 'entities': ['Marvin Minsky', 'Seymour Papert']}, {'sentence': 'Another technique particularly used for recurrent neural network s is the long short-term memory ( LSTM ) network of 1997 by Sepp Hochreiter & Jürgen Schmidhuber .', 'entities': ['Sepp Hochreiter', 'Jürgen Schmidhuber']}, {'sentence': 'In 1999 , Felix Gers and his advisor Jürgen Schmidhuber and Fred Cummins introduced the forget gate ( also called keep gate ) into LSTM architecture ,', 'entities': ['Felix Gers', 'Jürgen Schmidhuber', 'Fred Cummins']}]. Hints: A person is working on research (including professor, Ph.D. student, researcher in companies, and etc)\\n\"}]\n",
      "Sending prompt for NE: researcher...\n",
      "[{'role': 'system', 'content': 'You are a helpful NER data annotator designed to output JSON.'}, {'role': 'user', 'content': 'Named Entity: \\'location\\'. Examples: [{\\'sentence\\': \\'He was awarded honorary degree from the University of Cambridge in Cambridge , UK , and the Copley Medal of the Royal Society in 1906 .\\', \\'entities\\': [\\'Cambridge\\']}, {\\'sentence\\': \\'According to onlookers, the communicant told the priest: \"You\\'re in Ireland now\".\\', \\'entities\\': [\\'Ireland\\']}, {\\'sentence\\': \\'The Big Bend Country is part of the larger Columbia Country , which includes the Columbia Valley and upper Arrow Lakes .\\', \\'entities\\': [\\'Arrow Lakes\\', \\'Columbia Country\\', \\'Big Bend Country\\', \\'Columbia Valley\\']}]. Hints: You should not label \\'here\\', \\'there\\' and similar as \\'location\\' entities.\\nInstructions: 1. Provide a concise definition for the named entity \\'location\\' in the context of NER. 2. Provide guidelines by specifying what entities should not be labeled as \\'location\\' and include potential pitfalls to avoid. Go beyond generic terms and delve into nuanced scenarios. Be explicit about potential ambiguities and provide guidance on distinguishing \\'location\\' from similar entities.\\nOutput in JSON format: {\"Definition\": \"\", \"Guidelines\": \"\"}.'}, {'role': 'system', 'content': '{\"Definition\": \"\\'location\\' denotes geographic entities, such as cities, countries, and landmarks, that represent specific places on Earth.\", \"Guidelines\": \"Do not label abstract references. Be cautious with ambiguous terms like \\'Paris Hilton\\' (person with a location name) or \\'Amazon\\' (both a company and a river).'}, {'role': 'user', 'content': \"Now do the same for the Named Entity: 'task', Examples: [{'sentence': 'Speech recognition and speech synthesis deal with how spoken language can be understood or created using computers .', 'entities': ['Speech recognition', 'speech synthesis']}, {'sentence': 'The input is called speech recognition and the output is called speech synthesis .', 'entities': ['speech recognition', 'speech synthesis']}, {'sentence': 'During the 1990s , encouraged by successes in speech recognition and speech synthesis , research began into speech translation with the development of the German Verbmobil project .', 'entities': ['speech translation', 'speech recognition', 'speech synthesis']}]. Hints: The specific task entity in the research field, such as machine translation and object detection.\\n\"}]\n",
      "Sending prompt for NE: task...\n",
      "[{'role': 'system', 'content': 'You are a helpful NER data annotator designed to output JSON.'}, {'role': 'user', 'content': 'Named Entity: \\'location\\'. Examples: [{\\'sentence\\': \\'He was awarded honorary degree from the University of Cambridge in Cambridge , UK , and the Copley Medal of the Royal Society in 1906 .\\', \\'entities\\': [\\'Cambridge\\']}, {\\'sentence\\': \\'According to onlookers, the communicant told the priest: \"You\\'re in Ireland now\".\\', \\'entities\\': [\\'Ireland\\']}, {\\'sentence\\': \\'The Big Bend Country is part of the larger Columbia Country , which includes the Columbia Valley and upper Arrow Lakes .\\', \\'entities\\': [\\'Arrow Lakes\\', \\'Columbia Country\\', \\'Big Bend Country\\', \\'Columbia Valley\\']}]. Hints: You should not label \\'here\\', \\'there\\' and similar as \\'location\\' entities.\\nInstructions: 1. Provide a concise definition for the named entity \\'location\\' in the context of NER. 2. Provide guidelines by specifying what entities should not be labeled as \\'location\\' and include potential pitfalls to avoid. Go beyond generic terms and delve into nuanced scenarios. Be explicit about potential ambiguities and provide guidance on distinguishing \\'location\\' from similar entities.\\nOutput in JSON format: {\"Definition\": \"\", \"Guidelines\": \"\"}.'}, {'role': 'system', 'content': '{\"Definition\": \"\\'location\\' denotes geographic entities, such as cities, countries, and landmarks, that represent specific places on Earth.\", \"Guidelines\": \"Do not label abstract references. Be cautious with ambiguous terms like \\'Paris Hilton\\' (person with a location name) or \\'Amazon\\' (both a company and a river).'}, {'role': 'user', 'content': \"Now do the same for the Named Entity: 'university', Examples: [{'sentence': 'Advocates of procedural representations were mainly centered at MIT , under the leadership of Marvin Minsky and Seymour Papert .', 'entities': ['MIT']}, {'sentence': 'He holds a D.Sc. degree in electrical and computer engineering ( 2000 ) from Inria and the University of Nice Sophia Antipolis , and has held permanent positions at Siemens Corporate Technology , École des ponts ParisTech as well as visiting positions at Rutgers University , Yale University and University of Houston .', 'entities': ['Yale University', 'University of Houston', 'Rutgers University', 'University of Nice Sophia Antipolis', 'École des ponts ParisTech']}, {'sentence': 'Variants of the back-propagation algorithm as well as unsupervised methods by Geoff Hinton and colleagues at the University of Toronto can be used to train deep , highly nonlinear neural architectures , { { cite journal', 'entities': ['University of Toronto']}]\"}]\n",
      "Sending prompt for NE: university...\n"
     ]
    }
   ],
   "source": [
    "definitions = []\n",
    "for ne, exemplary_data in sentences_per_ne_type.items():\n",
    "    try:\n",
    "        ne_definition = get_json_definition_for_ne(ne, sentences_per_ne_type, gpt_model, max_output_tokens=100)\n",
    "        definitions.append(ne_definition)\n",
    "    except:\n",
    "        with open(f\"./definitions/{dataset_name}_err.json\", 'w') as f:\n",
    "            json.dump(definitions, f, indent=2)\n",
    "        print(f\"Something went wrong while processing NE: {ne}\")\n",
    "\n",
    "with open(f\"./definitions/{dataset_name}.json\", 'w') as f:\n",
    "    json.dump(definitions, f, indent=2)"
   ]
  },
  {
   "cell_type": "markdown",
   "metadata": {},
   "source": [
    "### END"
   ]
  }
 ],
 "metadata": {
  "kernelspec": {
   "display_name": "Python 3",
   "language": "python",
   "name": "python3"
  },
  "language_info": {
   "codemirror_mode": {
    "name": "ipython",
    "version": 3
   },
   "file_extension": ".py",
   "mimetype": "text/x-python",
   "name": "python",
   "nbconvert_exporter": "python",
   "pygments_lexer": "ipython3",
   "version": "3.8.13"
  }
 },
 "nbformat": 4,
 "nbformat_minor": 2
}
