{
 "cells": [
  {
   "cell_type": "code",
   "execution_count": 2,
   "metadata": {},
   "outputs": [],
   "source": [
    "from transformers import AutoTokenizer\n",
    "import transformers"
   ]
  },
  {
   "cell_type": "code",
   "execution_count": 3,
   "metadata": {},
   "outputs": [],
   "source": [
    "tokenizer_to_use = \"roberta-base\""
   ]
  },
  {
   "cell_type": "code",
   "execution_count": 4,
   "metadata": {},
   "outputs": [],
   "source": [
    "MAX_SEQ_LENGTH = 512  # question + context + special tokens\n",
    "DOC_STRIDE = 64  # overlap between 2 consecutive passages from same document\n",
    "MAX_QUERY_LENGTH = 48  # not used, but questions must not be too long given a chosen DOC_STRIDE"
   ]
  },
  {
   "cell_type": "code",
   "execution_count": 5,
   "metadata": {},
   "outputs": [
    {
     "name": "stdout",
     "output_type": "stream",
     "text": [
      "\n",
      "Loading tokenizer...\n",
      "MAX_SEQ_LENGTH used to chunk documents: 512\n",
      "DOC_STRIDE used: 64\n"
     ]
    }
   ],
   "source": [
    "print(\"\\nLoading tokenizer...\")\n",
    "tokenizer = AutoTokenizer.from_pretrained(tokenizer_to_use)\n",
    "assert isinstance(tokenizer, transformers.PreTrainedTokenizerFast)\n",
    "MODEL_CONTEXT_WINDOW = tokenizer.model_max_length\n",
    "assert MAX_SEQ_LENGTH <= MODEL_CONTEXT_WINDOW, \"MAX SEQ LENGTH must be smallerEqual than model context window\"\n",
    "print(f\"MAX_SEQ_LENGTH used to chunk documents: {MAX_SEQ_LENGTH}\")\n",
    "assert DOC_STRIDE < (MAX_SEQ_LENGTH - MAX_QUERY_LENGTH), \"DOC_STRIDE must be smaller, otherwise parts of the doc will be skipped\"\n",
    "print(\"DOC_STRIDE used: {}\".format(DOC_STRIDE))"
   ]
  },
  {
   "cell_type": "code",
   "execution_count": 6,
   "metadata": {},
   "outputs": [],
   "source": [
    "prefix = \"Your task is to extract the Named Entities of type PROCESS from an input TEXT. You are given a DEFINITION and some GUIDELINES.\\nDEFINITION: PROCESS refers to a series of actions, changes, or functions that lead to a particular result or outcome, such as procedures, methodologies, and workflows.\\nGUIDELINES: Do not label general activities or events without a clear sequence. Exercise caution with ambiguous terms like 'production' (could refer to a process, a company, or a location) and 'assembly' (could refer to a process or a gathering of people).\\nTEXT:\""
   ]
  },
  {
   "cell_type": "code",
   "execution_count": 7,
   "metadata": {},
   "outputs": [
    {
     "name": "stdout",
     "output_type": "stream",
     "text": [
      "Your task is to extract the Named Entities of type PROCESS from an input TEXT. You are given a DEFINITION and some GUIDELINES.\n",
      "DEFINITION: PROCESS refers to a series of actions, changes, or functions that lead to a particular result or outcome, such as procedures, methodologies, and workflows.\n",
      "GUIDELINES: Do not label general activities or events without a clear sequence. Exercise caution with ambiguous terms like 'production' (could refer to a process, a company, or a location) and 'assembly' (could refer to a process or a gathering of people).\n",
      "TEXT:\n"
     ]
    }
   ],
   "source": [
    "print(prefix)"
   ]
  },
  {
   "cell_type": "markdown",
   "metadata": {},
   "source": [
    "PREFIX LENGTH in tokens = 134"
   ]
  },
  {
   "cell_type": "code",
   "execution_count": 8,
   "metadata": {},
   "outputs": [],
   "source": [
    "document_context = \"Muhammad Ajward Macan Markar\\n\\nMuhammad Ajward Macan Markar, FRCP is a Sri Lankan physician, academic. He was the first Professor of Medicine at the University of Ceylon, Peradeniya. Born to Sir Mohamed Macan Markar, he was educated at Royal College Colombo, where he played cricket for the college at the Royal-Thomian. Macan Markar went on to study medicine at the University of Ceylon, where he also represented the university at cricket. Graduating with a MBBS and winning the Gold medal for in obstetrics and gynaecology, he went on to gain MBBS and M.D. from the University of London and MRCP by 1952. He is a Fellow of the Royal College of Physicians. He was the younger brother of Ahmed Hussain Macan Markar. References\\n\\nCategory:Sri Lankan medical doctors\\nCategory:Alumni of Royal College, Colombo\\nCategory:Alumni of the University of Ceylon (Colombo)\\nCategory:Alumni of the University of London\\nCategory:Living people\\nCategory:Fellows of the Royal College of Physicians\\nCategory:Academics of the University of Ceylon (Peradeniya)\\nCategory:Year of birth missing (living people)\""
   ]
  },
  {
   "cell_type": "markdown",
   "metadata": {},
   "source": [
    "CONTEXT in tokens = 270"
   ]
  },
  {
   "cell_type": "code",
   "execution_count": 14,
   "metadata": {},
   "outputs": [],
   "source": [
    "document_context_2 = document_context + document_context"
   ]
  },
  {
   "cell_type": "code",
   "execution_count": 26,
   "metadata": {},
   "outputs": [],
   "source": [
    "tokenized = tokenizer(prefix, document_context_2, \n",
    "        truncation='only_second',  # longest_first\n",
    "        max_length=MAX_SEQ_LENGTH,\n",
    "        stride=DOC_STRIDE,\n",
    "        return_overflowing_tokens=True,\n",
    "        return_offsets_mapping=True,\n",
    "        padding=False,  # not padding here\n",
    "    )"
   ]
  },
  {
   "cell_type": "code",
   "execution_count": 28,
   "metadata": {},
   "outputs": [
    {
     "name": "stdout",
     "output_type": "stream",
     "text": [
      "360\n"
     ]
    }
   ],
   "source": [
    "print(len(tokenized['input_ids'][1]))"
   ]
  },
  {
   "cell_type": "code",
   "execution_count": 30,
   "metadata": {},
   "outputs": [
    {
     "name": "stdout",
     "output_type": "stream",
     "text": [
      " Peradeniya. Born to Sir Mohamed Macan Markar, he was educated at Royal College Colombo, where he played cricket for the college at the Royal-Thomian. Macan Markar went on to study medicine at the University of Ceylon, where he also represented the university at cricket. Graduating</s>\n",
      "</s>, Peradeniya. Born to Sir Mohamed Macan Markar, he was educated at Royal College Colombo, where he played cricket for the college at the Royal-Thomian. Macan Markar went on to study medicine at the University of Ceylon, where he also represented the university at cricket. Grad\n"
     ]
    }
   ],
   "source": [
    "print(tokenizer.decode(tokenized['input_ids'][0][-64:]))\n",
    "print(tokenizer.decode(tokenized['input_ids'][1][134:134+64]))"
   ]
  }
 ],
 "metadata": {
  "kernelspec": {
   "display_name": "base",
   "language": "python",
   "name": "python3"
  },
  "language_info": {
   "codemirror_mode": {
    "name": "ipython",
    "version": 3
   },
   "file_extension": ".py",
   "mimetype": "text/x-python",
   "name": "python",
   "nbconvert_exporter": "python",
   "pygments_lexer": "ipython3",
   "version": "3.8.13"
  },
  "orig_nbformat": 4
 },
 "nbformat": 4,
 "nbformat_minor": 2
}
